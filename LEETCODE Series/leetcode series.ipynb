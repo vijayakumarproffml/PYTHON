{
 "cells": [
  {
   "cell_type": "code",
   "execution_count": 1,
   "metadata": {},
   "outputs": [],
   "source": [
    "\n",
    "# 1. Two Sum\n",
    "\n",
    "\"\"\"\n",
    "\n",
    "Given an array of integers nums and an integer target, return indices of the two numbers such that they add up to target.\n",
    "\n",
    "You may assume that each input would have exactly one solution, and you may not use the same element twice.\n",
    "\n",
    "You can return the answer in any order.\n",
    "\n",
    "\"\"\"\n",
    "class solution:\n",
    "    def twosum(self,nums:list[int],target:int) -> list[int]:\n",
    "        premap={} # value: index\n",
    "        \n",
    "        # ovvoru value ah iterate panni check panna porom\n",
    "        for i,n in enumerate(nums): # syntax for enumerate= for index,value in enumerate(sequence, start=0(optional))\n",
    "            diff=target-n\n",
    "            if diff in premap:\n",
    "                return [premap[diff],i] # premap[diff]= 1st index, i= second index\n",
    "            # apdi match aagalena map ah update pannaum\n",
    "            premap[n]=i\n",
    "            \n",
    "        return\n",
    "\n",
    "\n"
   ]
  },
  {
   "cell_type": "code",
   "execution_count": null,
   "metadata": {},
   "outputs": [],
   "source": [
    "# Add Two Numbers.\n",
    "\n",
    "\"\"\"\n",
    "\n",
    "You are given two non-empty linked lists representing two non-negative integers. The digits are stored in reverse order, and each of their nodes contains a single digit. Add the two numbers and return the sum as a linked list.\n",
    "\n",
    "You may assume the two numbers do not contain any leading zero, except the number 0 itself.\n",
    "\n",
    "\"\"\"\n",
    "\n"
   ]
  }
 ],
 "metadata": {
  "kernelspec": {
   "display_name": "Python 3",
   "language": "python",
   "name": "python3"
  },
  "language_info": {
   "codemirror_mode": {
    "name": "ipython",
    "version": 3
   },
   "file_extension": ".py",
   "mimetype": "text/x-python",
   "name": "python",
   "nbconvert_exporter": "python",
   "pygments_lexer": "ipython3",
   "version": "3.11.5"
  }
 },
 "nbformat": 4,
 "nbformat_minor": 2
}
