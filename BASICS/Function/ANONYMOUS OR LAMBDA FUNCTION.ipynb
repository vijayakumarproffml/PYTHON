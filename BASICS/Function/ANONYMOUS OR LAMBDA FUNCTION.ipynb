{
 "cells": [
  {
   "cell_type": "code",
   "execution_count": 1,
   "metadata": {},
   "outputs": [
    {
     "name": "stdout",
     "output_type": "stream",
     "text": [
      " HELLO WORLD \n"
     ]
    }
   ],
   "source": [
    "# NORMAL FUNCTION\n",
    "\n",
    "def name():\n",
    "    print(\" HELLO WORLD \")\n",
    "\n",
    "name()"
   ]
  },
  {
   "cell_type": "code",
   "execution_count": 3,
   "metadata": {},
   "outputs": [
    {
     "name": "stdout",
     "output_type": "stream",
     "text": [
      " HELLO WORLD vijay\n"
     ]
    }
   ],
   "source": [
    "# NORMAL parametrized FUNCTION\n",
    "\n",
    "def name(a):\n",
    "    print(\" HELLO WORLD\",a)\n",
    "\n",
    "name(\"vijay\")"
   ]
  },
  {
   "cell_type": "code",
   "execution_count": 4,
   "metadata": {},
   "outputs": [
    {
     "name": "stdout",
     "output_type": "stream",
     "text": [
      "hello world\n"
     ]
    }
   ],
   "source": [
    "# LAMBDA FUN\n",
    "''' \n",
    " syntax---> lambda arguments: expression\n",
    "\n",
    "'''\n",
    "\n",
    "MSG= lambda: print(\"hello world\")\n",
    "MSG()"
   ]
  },
  {
   "cell_type": "code",
   "execution_count": 6,
   "metadata": {},
   "outputs": [
    {
     "name": "stdout",
     "output_type": "stream",
     "text": [
      "hello world vijay\n"
     ]
    }
   ],
   "source": [
    "MSG= lambda name: print(\"hello world\",name)\n",
    "MSG(\"vijay\")"
   ]
  },
  {
   "cell_type": "code",
   "execution_count": 7,
   "metadata": {},
   "outputs": [
    {
     "name": "stdout",
     "output_type": "stream",
     "text": [
      "15\n"
     ]
    }
   ],
   "source": [
    "def add(a):\n",
    "    return a+10\n",
    "ans=add(5)\n",
    "print(ans)"
   ]
  },
  {
   "cell_type": "code",
   "execution_count": 9,
   "metadata": {},
   "outputs": [
    {
     "name": "stdout",
     "output_type": "stream",
     "text": [
      "15\n"
     ]
    }
   ],
   "source": [
    "x= lambda a : a+10\n",
    "print(x(5))"
   ]
  },
  {
   "cell_type": "code",
   "execution_count": 11,
   "metadata": {},
   "outputs": [
    {
     "data": {
      "text/plain": [
       "7"
      ]
     },
     "execution_count": 11,
     "metadata": {},
     "output_type": "execute_result"
    }
   ],
   "source": [
    "vijay= lambda a,b,c : a+b*c\n",
    "vijay(1,2,3)"
   ]
  },
  {
   "cell_type": "code",
   "execution_count": 16,
   "metadata": {},
   "outputs": [
    {
     "name": "stdout",
     "output_type": "stream",
     "text": [
      "HELLO WORLD\n"
     ]
    }
   ],
   "source": [
    "str1= \"hello world\"\n",
    "uppercase= lambda string : string.upper()\n",
    "print(uppercase(str1))"
   ]
  },
  {
   "cell_type": "code",
   "execution_count": 18,
   "metadata": {},
   "outputs": [
    {
     "name": "stdout",
     "output_type": "stream",
     "text": [
      "VIJAY\n"
     ]
    }
   ],
   "source": [
    "\n",
    "uppercase= lambda str1 : str1.upper()\n",
    "print(uppercase(\"vijay\"))"
   ]
  },
  {
   "cell_type": "code",
   "execution_count": 19,
   "metadata": {},
   "outputs": [
    {
     "name": "stdout",
     "output_type": "stream",
     "text": [
      " VALUE OF CUBEROOT using function---> 8\n",
      "VALUE OF CUBEROOT using lambda---> 8\n"
     ]
    }
   ],
   "source": [
    "def cuberoot(a):\n",
    "    return a*a*a\n",
    "print(\" VALUE OF CUBEROOT using function--->\",cuberoot(2))\n",
    "\n",
    "\n",
    "# lambda fun\n",
    "cube= lambda a : a*a*a\n",
    "print(\"VALUE OF CUBEROOT using lambda--->\",cube(2))"
   ]
  }
 ],
 "metadata": {
  "kernelspec": {
   "display_name": "Python 3",
   "language": "python",
   "name": "python3"
  },
  "language_info": {
   "codemirror_mode": {
    "name": "ipython",
    "version": 3
   },
   "file_extension": ".py",
   "mimetype": "text/x-python",
   "name": "python",
   "nbconvert_exporter": "python",
   "pygments_lexer": "ipython3",
   "version": "3.11.5"
  }
 },
 "nbformat": 4,
 "nbformat_minor": 2
}
