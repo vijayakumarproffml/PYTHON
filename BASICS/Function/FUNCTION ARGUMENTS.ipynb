{
 "cells": [
  {
   "cell_type": "code",
   "execution_count": 1,
   "metadata": {},
   "outputs": [
    {
     "name": "stdout",
     "output_type": "stream",
     "text": [
      "3\n"
     ]
    }
   ],
   "source": [
    "# REQIRERD OR POSITIONAL ARG\n",
    "\n",
    "def add(a,b):\n",
    "    print(a+b)\n",
    "add(1,2)"
   ]
  },
  {
   "cell_type": "code",
   "execution_count": 2,
   "metadata": {},
   "outputs": [
    {
     "ename": "TypeError",
     "evalue": "add() missing 1 required positional argument: 'b'",
     "output_type": "error",
     "traceback": [
      "\u001b[1;31m---------------------------------------------------------------------------\u001b[0m",
      "\u001b[1;31mTypeError\u001b[0m                                 Traceback (most recent call last)",
      "Cell \u001b[1;32mIn[2], line 5\u001b[0m\n\u001b[0;32m      3\u001b[0m \u001b[39mdef\u001b[39;00m \u001b[39madd\u001b[39m(a,b):\n\u001b[0;32m      4\u001b[0m     \u001b[39mprint\u001b[39m(a\u001b[39m+\u001b[39mb)\n\u001b[1;32m----> 5\u001b[0m add(\u001b[39m1\u001b[39;49m,)\n",
      "\u001b[1;31mTypeError\u001b[0m: add() missing 1 required positional argument: 'b'"
     ]
    }
   ],
   "source": [
    "# REQIRERD OR POSITIONAL ARG\n",
    "\n",
    "def add(a,b):\n",
    "    print(a+b)\n",
    "add(1,)"
   ]
  },
  {
   "cell_type": "code",
   "execution_count": 6,
   "metadata": {},
   "outputs": [
    {
     "name": "stdout",
     "output_type": "stream",
     "text": [
      "NAME---> 23\n"
     ]
    },
    {
     "ename": "TypeError",
     "evalue": "can only concatenate str (not \"int\") to str",
     "output_type": "error",
     "traceback": [
      "\u001b[1;31m---------------------------------------------------------------------------\u001b[0m",
      "\u001b[1;31mTypeError\u001b[0m                                 Traceback (most recent call last)",
      "Cell \u001b[1;32mIn[6], line 18\u001b[0m\n\u001b[0;32m     15\u001b[0m     \u001b[39mprint\u001b[39m(\u001b[39m\"\u001b[39m\u001b[39mNAME--->\u001b[39m\u001b[39m\"\u001b[39m,name)\n\u001b[0;32m     16\u001b[0m     \u001b[39mprint\u001b[39m(\u001b[39m\"\u001b[39m\u001b[39mAGE--->\u001b[39m\u001b[39m\"\u001b[39m,age\u001b[39m+\u001b[39m\u001b[39m2\u001b[39m)\n\u001b[1;32m---> 18\u001b[0m update(\u001b[39m23\u001b[39;49m,\u001b[39m\"\u001b[39;49m\u001b[39mvj\u001b[39;49m\u001b[39m\"\u001b[39;49m)\n",
      "Cell \u001b[1;32mIn[6], line 16\u001b[0m, in \u001b[0;36mupdate\u001b[1;34m(name, age)\u001b[0m\n\u001b[0;32m     13\u001b[0m \u001b[39mdef\u001b[39;00m \u001b[39mupdate\u001b[39m(name,age):\n\u001b[0;32m     15\u001b[0m     \u001b[39mprint\u001b[39m(\u001b[39m\"\u001b[39m\u001b[39mNAME--->\u001b[39m\u001b[39m\"\u001b[39m,name)\n\u001b[1;32m---> 16\u001b[0m     \u001b[39mprint\u001b[39m(\u001b[39m\"\u001b[39m\u001b[39mAGE--->\u001b[39m\u001b[39m\"\u001b[39m,age\u001b[39m+\u001b[39;49m\u001b[39m2\u001b[39;49m)\n",
      "\u001b[1;31mTypeError\u001b[0m: can only concatenate str (not \"int\") to str"
     ]
    }
   ],
   "source": [
    "# KEYWORD ARG\n",
    "\n",
    "'''\n",
    "key word arg yethuku use panrom yenral function arguments la name,age kuduthutu function calling la age,name nu \n",
    "maathikudutha error varum because age+2 nu oru process iruku. so integer kuda tha add aagum valu\n",
    "for example:\n",
    "           23+2=25 ithu correct\n",
    "           vijay+2=error concadinate panna mudiyathu\n",
    "itha thaduka tha key word arg use panrom\n",
    "orutharoda name and age entry book la iruku... 2 varsam kalichu update pannanum yenaral age+2\n",
    "\n",
    "'''\n",
    "def update(name,age):\n",
    "\n",
    "    print(\"NAME--->\",name)\n",
    "    print(\"AGE--->\",age+2)\n",
    "  \n",
    "update(23,\"vj\")\n"
   ]
  },
  {
   "cell_type": "code",
   "execution_count": 7,
   "metadata": {},
   "outputs": [
    {
     "name": "stdout",
     "output_type": "stream",
     "text": [
      "NAME---> vj\n",
      "AGE---> 25\n"
     ]
    }
   ],
   "source": [
    "def update(name,age):\n",
    "\n",
    "    print(\"NAME--->\",name)\n",
    "    print(\"AGE--->\",age+2)\n",
    "  \n",
    "update(age=23,name=\"vj\")# inga mathikuduthalum function argument la yena order iruko athu mari tha follow aagum"
   ]
  },
  {
   "cell_type": "code",
   "execution_count": 2,
   "metadata": {},
   "outputs": [
    {
     "name": "stdout",
     "output_type": "stream",
     "text": [
      "NAME---> vj\n",
      "AGE---> 23\n",
      "NAME---> karthi\n",
      "AGE---> 23\n"
     ]
    }
   ],
   "source": [
    "# DEFAULT ARGUMENTS\n",
    "\n",
    "''' \n",
    "inga yelarukum pothuva age fix pannanum yenral function argument or parameter la age=23 nu potal defalt ah yelarukum apply aagirum\n",
    "\n",
    "'''\n",
    "\n",
    "def person(name,age=23):\n",
    "\n",
    "    print(\"NAME--->\",name)\n",
    "    print(\"AGE--->\",age)\n",
    "  \n",
    "person(\"vj\")\n",
    "person(\"karthi\")\n",
    "\n"
   ]
  },
  {
   "cell_type": "code",
   "execution_count": 3,
   "metadata": {},
   "outputs": [
    {
     "ename": "TypeError",
     "evalue": "person() takes 1 positional argument but 3 were given",
     "output_type": "error",
     "traceback": [
      "\u001b[1;31m---------------------------------------------------------------------------\u001b[0m",
      "\u001b[1;31mTypeError\u001b[0m                                 Traceback (most recent call last)",
      "Cell \u001b[1;32mIn[3], line 11\u001b[0m\n\u001b[0;32m      8\u001b[0m \u001b[39mdef\u001b[39;00m \u001b[39mperson\u001b[39m(name):\n\u001b[0;32m      9\u001b[0m     \u001b[39mprint\u001b[39m(\u001b[39m\"\u001b[39m\u001b[39m NAME--->\u001b[39m\u001b[39m\"\u001b[39m,name)\n\u001b[1;32m---> 11\u001b[0m person(\u001b[39m\"\u001b[39;49m\u001b[39mvj\u001b[39;49m\u001b[39m\"\u001b[39;49m,\u001b[39m\"\u001b[39;49m\u001b[39mkarthi\u001b[39;49m\u001b[39m\"\u001b[39;49m,\u001b[39m\"\u001b[39;49m\u001b[39mshiju\u001b[39;49m\u001b[39m\"\u001b[39;49m)\n",
      "\u001b[1;31mTypeError\u001b[0m: person() takes 1 positional argument but 3 were given"
     ]
    }
   ],
   "source": [
    "# VARIABLE LENGTH ARG\n",
    "\n",
    "'''\n",
    "oru parameter la or value tha store pannna mudium aanal variable length arg use panna many values store panikalam\n",
    "*intha symbol use pannanum\n",
    "ithalam tuple form la save aagum concadinate panum bothu datatype paathu podanum\n",
    "\n",
    "'''\n",
    "\n",
    "def person(name):\n",
    "    print(\" NAME--->\",name)\n",
    "\n",
    "person(\"vj\",\"karthi\",\"shiju\")"
   ]
  },
  {
   "cell_type": "code",
   "execution_count": 4,
   "metadata": {},
   "outputs": [
    {
     "name": "stdout",
     "output_type": "stream",
     "text": [
      " NAME---> ('vj', 'karthi', 'shiju')\n"
     ]
    }
   ],
   "source": [
    "def person(*name):\n",
    "    print(\" NAME--->\",name)\n",
    "\n",
    "person(\"vj\",\"karthi\",\"shiju\")"
   ]
  },
  {
   "cell_type": "code",
   "execution_count": 7,
   "metadata": {},
   "outputs": [
    {
     "name": "stdout",
     "output_type": "stream",
     "text": [
      " welcome to party vj enjoy the party...\n",
      " welcome to party karthi enjoy the party...\n",
      " welcome to party shiju enjoy the party...\n"
     ]
    }
   ],
   "source": [
    "def person(*names):\n",
    "    for name in names:\n",
    "        print(\" welcome to party\",name,\"enjoy the party...\")\n",
    "\n",
    "person(\"vj\",\"karthi\",\"shiju\")"
   ]
  },
  {
   "cell_type": "code",
   "execution_count": 9,
   "metadata": {},
   "outputs": [
    {
     "name": "stdout",
     "output_type": "stream",
     "text": [
      "X is---> 1\n",
      "Y is---> (2, 3, 4)\n"
     ]
    },
    {
     "ename": "TypeError",
     "evalue": "unsupported operand type(s) for +: 'int' and 'tuple'",
     "output_type": "error",
     "traceback": [
      "\u001b[1;31m---------------------------------------------------------------------------\u001b[0m",
      "\u001b[1;31mTypeError\u001b[0m                                 Traceback (most recent call last)",
      "Cell \u001b[1;32mIn[9], line 9\u001b[0m\n\u001b[0;32m      6\u001b[0m     z\u001b[39m=\u001b[39mx\u001b[39m+\u001b[39my\n\u001b[0;32m      7\u001b[0m     \u001b[39mprint\u001b[39m(\u001b[39m\"\u001b[39m\u001b[39mSUM is --->\u001b[39m\u001b[39m\"\u001b[39m,z)\n\u001b[1;32m----> 9\u001b[0m add(\u001b[39m1\u001b[39;49m,\u001b[39m2\u001b[39;49m,\u001b[39m3\u001b[39;49m,\u001b[39m4\u001b[39;49m)\n",
      "Cell \u001b[1;32mIn[9], line 6\u001b[0m, in \u001b[0;36madd\u001b[1;34m(x, *y)\u001b[0m\n\u001b[0;32m      4\u001b[0m \u001b[39mprint\u001b[39m(\u001b[39m\"\u001b[39m\u001b[39mX is--->\u001b[39m\u001b[39m\"\u001b[39m,x)\n\u001b[0;32m      5\u001b[0m \u001b[39mprint\u001b[39m(\u001b[39m\"\u001b[39m\u001b[39mY is--->\u001b[39m\u001b[39m\"\u001b[39m,y)\n\u001b[1;32m----> 6\u001b[0m z\u001b[39m=\u001b[39mx\u001b[39m+\u001b[39;49my\n\u001b[0;32m      7\u001b[0m \u001b[39mprint\u001b[39m(\u001b[39m\"\u001b[39m\u001b[39mSUM is --->\u001b[39m\u001b[39m\"\u001b[39m,z)\n",
      "\u001b[1;31mTypeError\u001b[0m: unsupported operand type(s) for +: 'int' and 'tuple'"
     ]
    }
   ],
   "source": [
    "\n",
    "# ithalam tuple form la save aagum concadinate panum bothu datatype paathu podanum\n",
    "\n",
    "def add(x,*y):\n",
    "    print(\"X is--->\",x)\n",
    "    print(\"Y is--->\",y)\n",
    "    z=x+y\n",
    "    print(\"SUM is --->\",z)\n",
    "\n",
    "add(1,2,3,4)"
   ]
  },
  {
   "cell_type": "code",
   "execution_count": 17,
   "metadata": {},
   "outputs": [
    {
     "name": "stdout",
     "output_type": "stream",
     "text": [
      "X is---> 1\n",
      "Y is---> (2, 3, 4, 5, 6)\n",
      "value of i= 2\n",
      "value of i= 3\n",
      "value of i= 4\n",
      "value of i= 5\n",
      "value of i= 6\n",
      "sum 21\n"
     ]
    }
   ],
   "source": [
    "def add(x,*y):\n",
    "    print(\"X is--->\",x)\n",
    "    print(\"Y is--->\",y)\n",
    "    z=x\n",
    "    for i in y:\n",
    "        print(\"value of i=\",i)\n",
    "        z=z+i\n",
    "\n",
    "    print(\"sum\",z)\n",
    "add(1,2,3,4,5,6)"
   ]
  },
  {
   "cell_type": "code",
   "execution_count": 18,
   "metadata": {},
   "outputs": [
    {
     "name": "stdout",
     "output_type": "stream",
     "text": [
      "Y is---> (1, 2, 3, 4, 5, 6)\n",
      "value of i= 1\n",
      "value of i= 2\n",
      "value of i= 3\n",
      "value of i= 4\n",
      "value of i= 5\n",
      "value of i= 6\n",
      "sum 21\n"
     ]
    }
   ],
   "source": [
    "def add(*y):\n",
    "    print(\"Y is--->\",y)\n",
    "    z=0\n",
    "    for i in y:\n",
    "        print(\"value of i=\",i)\n",
    "        z=z+i\n",
    "\n",
    "    print(\"sum\",z)\n",
    "add(1,2,3,4,5,6)"
   ]
  }
 ],
 "metadata": {
  "kernelspec": {
   "display_name": "Python 3",
   "language": "python",
   "name": "python3"
  },
  "language_info": {
   "codemirror_mode": {
    "name": "ipython",
    "version": 3
   },
   "file_extension": ".py",
   "mimetype": "text/x-python",
   "name": "python",
   "nbconvert_exporter": "python",
   "pygments_lexer": "ipython3",
   "version": "3.11.5"
  }
 },
 "nbformat": 4,
 "nbformat_minor": 2
}
