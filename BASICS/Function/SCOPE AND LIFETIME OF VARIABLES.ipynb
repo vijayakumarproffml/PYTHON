{
 "cells": [
  {
   "cell_type": "code",
   "execution_count": null,
   "metadata": {},
   "outputs": [],
   "source": [
    "'''\n",
    "two types of variables\n",
    "1---> local (inside function)\n",
    "2---> global(outside function)\n",
    "\n",
    "\n",
    "'''"
   ]
  },
  {
   "cell_type": "code",
   "execution_count": 1,
   "metadata": {},
   "outputs": [
    {
     "name": "stdout",
     "output_type": "stream",
     "text": [
      "inside function: im global variable\n"
     ]
    }
   ],
   "source": [
    "# Global variable\n",
    "\n",
    "glo_variable=\"im global variable\"\n",
    "\n",
    "def glo():\n",
    "    print(\"inside function:\",glo_variable)\n",
    "\n",
    "glo()"
   ]
  },
  {
   "cell_type": "code",
   "execution_count": 3,
   "metadata": {},
   "outputs": [
    {
     "name": "stdout",
     "output_type": "stream",
     "text": [
      "im local variable\n"
     ]
    }
   ],
   "source": [
    "# local variable\n",
    "\n",
    "def loc():\n",
    "    local_variable=\"im local variable\"\n",
    "    print(local_variable)\n",
    "\n",
    "loc()"
   ]
  },
  {
   "cell_type": "code",
   "execution_count": 4,
   "metadata": {},
   "outputs": [
    {
     "name": "stdout",
     "output_type": "stream",
     "text": [
      "im local variable\n"
     ]
    },
    {
     "ename": "NameError",
     "evalue": "name 'local_variable' is not defined",
     "output_type": "error",
     "traceback": [
      "\u001b[1;31m---------------------------------------------------------------------------\u001b[0m",
      "\u001b[1;31mNameError\u001b[0m                                 Traceback (most recent call last)",
      "Cell \u001b[1;32mIn[4], line 6\u001b[0m\n\u001b[0;32m      3\u001b[0m     \u001b[39mprint\u001b[39m(local_variable)\n\u001b[0;32m      5\u001b[0m loc()\n\u001b[1;32m----> 6\u001b[0m \u001b[39mprint\u001b[39m(local_variable)\n",
      "\u001b[1;31mNameError\u001b[0m: name 'local_variable' is not defined"
     ]
    }
   ],
   "source": [
    "\n",
    "\n",
    "def loc():\n",
    "    local_variable=\"im local variable\"\n",
    "    print(local_variable)\n",
    "\n",
    "loc()\n",
    "print(local_variable)\n",
    "\n",
    "\n",
    "'''\n",
    "loc() call pannum bothu local_variable intha variable name inside function la irukku so error varathu\n",
    "but print(local_variable) nu call panrapo athu global ah call panrom so error varum\n",
    "\n",
    "'''"
   ]
  },
  {
   "cell_type": "code",
   "execution_count": 7,
   "metadata": {},
   "outputs": [
    {
     "name": "stdout",
     "output_type": "stream",
     "text": [
      "42 17 4 17\n",
      "42 15 3 4\n"
     ]
    }
   ],
   "source": [
    "# ASSIGN GLOBAL VARIABLE INSIDE THE FUNCYION USING global KEYWORD\n",
    "\n",
    "'''\n",
    " already assign panna global avriable ah indside function kulla \n",
    " global nu key word ah vachu change panni output vannga mudium\n",
    "\n",
    "'''\n",
    "\n",
    "\n",
    "def foo(x,y):\n",
    "    global a # ithula iruka a udaya color um a=42 la irukka a um same color apo ithu rendum same athavathu inside function la global variable assaign pannalam\n",
    "    a= 42 # global variable\n",
    "    x,y=y,x\n",
    "    b=33 # local var\n",
    "    b=17 # local var\n",
    "    c=100 # local var\n",
    "    print(a,b,x,y)\n",
    "'''\n",
    "function calling kulla a,b,x,y=1,15,3,4 kuduttha tha a va comma ah global value ah consider pannum\n",
    " \n",
    "'''\n",
    "a,b,x,y=1,15,3,4 # global variable\n",
    "foo(17,4)\n",
    "print(a,b,x,y)"
   ]
  },
  {
   "cell_type": "code",
   "execution_count": 11,
   "metadata": {},
   "outputs": [
    {
     "name": "stdout",
     "output_type": "stream",
     "text": [
      "42 17 4 17\n",
      "1 15 3 4\n"
     ]
    }
   ],
   "source": [
    "# ASSIGN GLOBAL VARIABLE INSIDE THE FUNCYION USING global KEYWORD\n",
    "\n",
    "\n",
    "def foo(x,y):\n",
    "    global a # ithula iruka a udaya color um a=42 la irukka a um same color apo ithu rendum same athavathu inside function la global variable assaign pannalam\n",
    "    a= 42 # global variable\n",
    "    x,y=y,x\n",
    "    b=33 # local var\n",
    "    b=17 # local var\n",
    "    c=100 # local var\n",
    "    print(a,b,x,y)\n",
    "'''\n",
    "function calling veliya a,b,x,y=1,15,3,4 kudutthathal global a ah accept pannathu\n",
    " \n",
    "'''\n",
    "\n",
    "foo(17,4)\n",
    "a,b,x,y=1,15,3,4 # global variable\n",
    "print(a,b,x,y)"
   ]
  },
  {
   "cell_type": "code",
   "execution_count": 13,
   "metadata": {},
   "outputs": [
    {
     "name": "stdout",
     "output_type": "stream",
     "text": [
      "42 17 4 17\n",
      "42 15 3 4\n"
     ]
    }
   ],
   "source": [
    "# ASSIGN GLOBAL VARIABLE INSIDE THE FUNCYION USING global KEYWORD\n",
    "\n",
    "a,b,x,y=1,15,3,4 # global variable\n",
    "def foo(x,y):\n",
    "    global a # ithula iruka a udaya color um a=42 la irukka a um same color apo ithu rendum same athavathu inside function la global variable assaign pannalam\n",
    "    a= 42 # global variable\n",
    "    x,y=y,x\n",
    "    b=33 # local var\n",
    "    b=17 # local var\n",
    "    c=100 # local var\n",
    "    print(a,b,x,y)\n",
    "\n",
    "foo(17,4)\n",
    "\n",
    "print(a,b,x,y)"
   ]
  },
  {
   "cell_type": "code",
   "execution_count": 15,
   "metadata": {},
   "outputs": [
    {
     "name": "stdout",
     "output_type": "stream",
     "text": [
      "local variable  TIME TO GET BREAKFAST \n",
      "inside function la global variable  HAPPY MORNING \n",
      "outside call:  HAPPY MORNING \n"
     ]
    }
   ],
   "source": [
    "'''\n",
    " ithula value ah replace panname thanithaniya print pannum. \n",
    " inside function la global kuduthu output vannga porom without any replacement\n",
    " rendu variable name ume same ah iruku....\n",
    "\n",
    "'''\n",
    "var=\" HAPPY MORNING \"\n",
    "\n",
    "def greet():\n",
    "    var=\" TIME TO GET BREAKFAST \"\n",
    "    print(\"local variable\",var)\n",
    "    print(\"inside function la global variable\",globals()['var'])# intha method vachu tha inside funtion la replacement illama globl var apdiye output la konduvara mudium\n",
    "\n",
    "greet()\n",
    "print('outside call:',var)"
   ]
  },
  {
   "cell_type": "code",
   "execution_count": 19,
   "metadata": {},
   "outputs": [
    {
     "name": "stdout",
     "output_type": "stream",
     "text": [
      "inside call--->  TIME TO GET BREAKFAST \n",
      "inside function la global variable ah change panrathu --->  TAKE CARE\n",
      "outside call--->  TAKE CARE\n"
     ]
    }
   ],
   "source": [
    "'''\n",
    " inside function la globals()method ah vachu outside function la iruka variable athavathu global variable ah change panna mudium \n",
    " '''\n",
    "\n",
    "var=\" HAPPY MORNING \"\n",
    "\n",
    "def greet():\n",
    "    var=\" TIME TO GET BREAKFAST \"\n",
    "    print(\"inside call--->\",var)\n",
    "    globals()['var']= \" TAKE CARE\" # inga var=\" HAPPY MORNING \" inthai change panrom.var=\" HAPPY MORNING \" into var=\" TAKE CARE \"\n",
    "    print(\"inside function la global variable ah change panrathu --->\",globals()['var'])# intha method vachu tha inside funtion la replacement illama globl var apdiye output la konduvara mudium\n",
    "\n",
    "greet()\n",
    "print('outside call--->',var)"
   ]
  }
 ],
 "metadata": {
  "kernelspec": {
   "display_name": "Python 3",
   "language": "python",
   "name": "python3"
  },
  "language_info": {
   "codemirror_mode": {
    "name": "ipython",
    "version": 3
   },
   "file_extension": ".py",
   "mimetype": "text/x-python",
   "name": "python",
   "nbconvert_exporter": "python",
   "pygments_lexer": "ipython3",
   "version": "3.11.5"
  }
 },
 "nbformat": 4,
 "nbformat_minor": 2
}
