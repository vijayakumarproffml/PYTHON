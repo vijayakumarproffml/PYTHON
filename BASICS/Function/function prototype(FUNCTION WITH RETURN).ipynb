{
 "cells": [
  {
   "cell_type": "code",
   "execution_count": 2,
   "metadata": {},
   "outputs": [
    {
     "name": "stdout",
     "output_type": "stream",
     "text": [
      "the sum is ---> 3\n"
     ]
    },
    {
     "ename": "NameError",
     "evalue": "name 'z' is not defined",
     "output_type": "error",
     "traceback": [
      "\u001b[1;31m---------------------------------------------------------------------------\u001b[0m",
      "\u001b[1;31mNameError\u001b[0m                                 Traceback (most recent call last)",
      "Cell \u001b[1;32mIn[2], line 5\u001b[0m\n\u001b[0;32m      3\u001b[0m     \u001b[39mprint\u001b[39m(\u001b[39m\"\u001b[39m\u001b[39mthe sum is --->\u001b[39m\u001b[39m\"\u001b[39m,z)\n\u001b[0;32m      4\u001b[0m add(\u001b[39m1\u001b[39m,\u001b[39m2\u001b[39m)\n\u001b[1;32m----> 5\u001b[0m \u001b[39mprint\u001b[39m(\u001b[39m\"\u001b[39m\u001b[39mthe added value --->\u001b[39m\u001b[39m\"\u001b[39m,z)\n",
      "\u001b[1;31mNameError\u001b[0m: name 'z' is not defined"
     ]
    }
   ],
   "source": [
    "# FUN WITH ARGUMENT AND WITH RETURN\n",
    "\n",
    "\n",
    "def add(x,y):\n",
    "    z=x+y\n",
    "    print(\"the sum is --->\",z)\n",
    "add(1,2)\n",
    "print(\"the added value --->\",z)"
   ]
  },
  {
   "cell_type": "code",
   "execution_count": 3,
   "metadata": {},
   "outputs": [
    {
     "name": "stdout",
     "output_type": "stream",
     "text": [
      "3\n"
     ]
    }
   ],
   "source": [
    "# FUN WITH ARGUMENT AND WITH RETURN\n",
    "\n",
    "\n",
    "# return keyword use panrathal inside funtion ah access pannalam\n",
    "\n",
    "def add(x,y):\n",
    "    z=x+y\n",
    "    return z\n",
    "result= add(1,2)\n",
    "print(result)"
   ]
  },
  {
   "cell_type": "code",
   "execution_count": 3,
   "metadata": {},
   "outputs": [
    {
     "name": "stdout",
     "output_type": "stream",
     "text": [
      "3\n"
     ]
    }
   ],
   "source": [
    "# FUN WITH ARGUMENT AND WITH RETURN\n",
    "\n",
    "''' return keyword use panrathal inside funtion ah access pannalam\n",
    " inga function call ku varable assign pannamalaye output vangalam '''\n",
    "def add(x,y):\n",
    "    z=x+y\n",
    "    return z\n",
    "add(1,2)\n",
    "print(add(1,2))"
   ]
  },
  {
   "cell_type": "code",
   "execution_count": 4,
   "metadata": {},
   "outputs": [
    {
     "name": "stdout",
     "output_type": "stream",
     "text": [
      "hello\n",
      "welcome\n"
     ]
    }
   ],
   "source": [
    "def greeting():\n",
    "    print('hello')\n",
    "    print('welcome')\n",
    "\n",
    "greeting()"
   ]
  },
  {
   "cell_type": "code",
   "execution_count": 5,
   "metadata": {},
   "outputs": [
    {
     "name": "stdout",
     "output_type": "stream",
     "text": [
      "hello\n"
     ]
    }
   ],
   "source": [
    "def greeting():\n",
    "    print('hello')\n",
    "    return\n",
    "    print('welcome')\n",
    "\n",
    "greeting()\n",
    "\n",
    "'''\n",
    " because return fun calling varai tha work aagum ... athukapram iruka yethaium consider pannathu\n",
    "  \n",
    "'''"
   ]
  },
  {
   "cell_type": "code",
   "execution_count": 6,
   "metadata": {},
   "outputs": [
    {
     "data": {
      "text/plain": [
       "8"
      ]
     },
     "execution_count": 6,
     "metadata": {},
     "output_type": "execute_result"
    }
   ],
   "source": [
    "# FUN WITH  ARGUMENT AND WITH RETURN\n",
    "\n",
    "def fun(x):\n",
    "    return x+3\n",
    "fun(5)"
   ]
  },
  {
   "cell_type": "code",
   "execution_count": 7,
   "metadata": {},
   "outputs": [
    {
     "name": "stdout",
     "output_type": "stream",
     "text": [
      "3\n",
      "None\n"
     ]
    }
   ],
   "source": [
    "\n",
    "'''\n",
    " inga print kulla function calling irupathal first fun calling process panum \n",
    " after process output 3 nu kidaikum\n",
    " inga retun function irunthirunthal return value ah function call ku kuduthu print statemetn work aagirukum\n",
    " inga return statement ilathathal print statement work aagala... output none nu vanthuruchu\n",
    "\n",
    "'''\n",
    "\n",
    "def greet(x,y):\n",
    "    print(x+y)\n",
    "print(greet(1,2))\n"
   ]
  },
  {
   "cell_type": "code",
   "execution_count": 9,
   "metadata": {},
   "outputs": [
    {
     "name": "stdout",
     "output_type": "stream",
     "text": [
      "3\n",
      "3\n"
     ]
    }
   ],
   "source": [
    "def greet(x,y):\n",
    "    print(x+y)\n",
    "    return x+y\n",
    "print(greet(1,2))"
   ]
  },
  {
   "cell_type": "code",
   "execution_count": 11,
   "metadata": {},
   "outputs": [
    {
     "name": "stdout",
     "output_type": "stream",
     "text": [
      "addition---> 3\n",
      "subtraction---> -11\n",
      "floor divition---> 0\n"
     ]
    }
   ],
   "source": [
    "# FUN WITH NO ARGUMENT AND WITH NO RETURN\n",
    "\n",
    "def add():\n",
    "    a=1\n",
    "    b=2\n",
    "    print(\"addition--->\",a+b)\n",
    "\n",
    "def sub():\n",
    "    a2=11\n",
    "    b2=22\n",
    "    print(\"subtraction--->\",a2-b2)\n",
    "\n",
    "def floor_div():\n",
    "    a3=111\n",
    "    b3=222\n",
    "    print(\"floor divition--->\",a3//b3)\n",
    "\n",
    "add()\n",
    "sub()\n",
    "floor_div()"
   ]
  },
  {
   "cell_type": "code",
   "execution_count": 12,
   "metadata": {},
   "outputs": [
    {
     "name": "stdout",
     "output_type": "stream",
     "text": [
      "all operation---> (3, -11, 0)\n"
     ]
    }
   ],
   "source": [
    "def add_sub_floordiv():\n",
    "    a=1;b=2;a2=11;b2=22;a3=111;b3=222\n",
    "    z=a+b\n",
    "    z2=a2-b2\n",
    "    z3=a3//b3\n",
    "    return z,z2,z3\n",
    "print(\"all operation--->\",add_sub_floordiv())\n",
    "     \n"
   ]
  },
  {
   "cell_type": "code",
   "execution_count": 19,
   "metadata": {},
   "outputs": [
    {
     "name": "stdout",
     "output_type": "stream",
     "text": [
      "all operation---> (3, -11, 0)\n"
     ]
    }
   ],
   "source": [
    "def add_sub_floordiv(a,b,a2,b2,a3,b3):\n",
    "\n",
    "    z=a+b\n",
    "    z2=a2-b2\n",
    "    z3=a3//b3\n",
    "    return z,z2,z3\n",
    "print(\"all operation--->\",add_sub_floordiv(1,2,11,22,111,222))\n",
    "     \n"
   ]
  },
  {
   "cell_type": "code",
   "execution_count": 21,
   "metadata": {},
   "outputs": [
    {
     "name": "stdout",
     "output_type": "stream",
     "text": [
      "addition---> 3\n",
      "subtraction---> -11\n",
      "floor divition---> 0\n"
     ]
    }
   ],
   "source": [
    "def add_sub_floordiv(a,b,a2,b2,a3,b3):\n",
    "\n",
    "    z=a+b\n",
    "    z2=a2-b2\n",
    "    z3=a3//b3\n",
    "    return z,z2,z3\n",
    "Addition,subtraction,floor_div=add_sub_floordiv(1,2,11,22,111,222)\n",
    "'''\n",
    "Addition,subtraction,floor_div--->(variable name) = add_sub_floordiv(1,2,11,22,111,222)--->[function calling]\n",
    "\n",
    "'''\n",
    "print(\"addition--->\",Addition)\n",
    "print(\"subtraction--->\",subtraction)\n",
    "print(\"floor divition--->\",floor_div)\n",
    "\n",
    "     \n"
   ]
  }
 ],
 "metadata": {
  "kernelspec": {
   "display_name": "Python 3",
   "language": "python",
   "name": "python3"
  },
  "language_info": {
   "codemirror_mode": {
    "name": "ipython",
    "version": 3
   },
   "file_extension": ".py",
   "mimetype": "text/x-python",
   "name": "python",
   "nbconvert_exporter": "python",
   "pygments_lexer": "ipython3",
   "version": "3.11.5"
  }
 },
 "nbformat": 4,
 "nbformat_minor": 2
}
