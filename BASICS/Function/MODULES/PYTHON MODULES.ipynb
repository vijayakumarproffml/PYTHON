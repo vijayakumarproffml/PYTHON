{
 "cells": [
  {
   "cell_type": "code",
   "execution_count": null,
   "metadata": {},
   "outputs": [],
   "source": [
    "'''\n",
    " modules yenbathu oru folder la irukka program ah vera file ah access panrathu with using import\n",
    "\n",
    "'''"
   ]
  },
  {
   "cell_type": "code",
   "execution_count": null,
   "metadata": {},
   "outputs": [],
   "source": [
    "# FOLDER 1(DEMO)\n",
    "# FUN WITH NO ARGUMENT AND WITH NO RETURN\n",
    "\n",
    "def add():\n",
    "    a=1\n",
    "    b=2\n",
    "    print(\"addition--->\",a+b)\n",
    "\n",
    "def sub():\n",
    "    a2=11\n",
    "    b2=22\n",
    "    print(\"subtraction--->\",a2-b2)\n",
    "\n",
    "def floor_div():\n",
    "    a3=111\n",
    "    b3=222\n",
    "    print(\"floor divition--->\",a3//b3)\n",
    "\n"
   ]
  },
  {
   "cell_type": "code",
   "execution_count": 1,
   "metadata": {},
   "outputs": [
    {
     "ename": "ModuleNotFoundError",
     "evalue": "No module named 'demo'",
     "output_type": "error",
     "traceback": [
      "\u001b[1;31m---------------------------------------------------------------------------\u001b[0m",
      "\u001b[1;31mModuleNotFoundError\u001b[0m                       Traceback (most recent call last)",
      "Cell \u001b[1;32mIn[1], line 1\u001b[0m\n\u001b[1;32m----> 1\u001b[0m \u001b[39mimport\u001b[39;00m \u001b[39mdemo\u001b[39;00m\n\u001b[0;32m      2\u001b[0m demo\u001b[39m.\u001b[39madd()\n",
      "\u001b[1;31mModuleNotFoundError\u001b[0m: No module named 'demo'"
     ]
    }
   ],
   "source": [
    "import demo\n",
    "demo.add()"
   ]
  },
  {
   "cell_type": "code",
   "execution_count": null,
   "metadata": {},
   "outputs": [],
   "source": [
    "# ore folder la rendume use panna mudiyathu. so demo and demo2 nu rendu file create pananum"
   ]
  }
 ],
 "metadata": {
  "kernelspec": {
   "display_name": "Python 3",
   "language": "python",
   "name": "python3"
  },
  "language_info": {
   "codemirror_mode": {
    "name": "ipython",
    "version": 3
   },
   "file_extension": ".py",
   "mimetype": "text/x-python",
   "name": "python",
   "nbconvert_exporter": "python",
   "pygments_lexer": "ipython3",
   "version": "3.11.5"
  }
 },
 "nbformat": 4,
 "nbformat_minor": 2
}
