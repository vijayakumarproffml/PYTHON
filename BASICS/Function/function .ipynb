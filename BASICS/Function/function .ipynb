{
 "cells": [
  {
   "cell_type": "code",
   "execution_count": 2,
   "metadata": {},
   "outputs": [
    {
     "name": "stdout",
     "output_type": "stream",
     "text": [
      "addition\n",
      "11\n"
     ]
    }
   ],
   "source": [
    "def add():\n",
    "        print('addition')\n",
    "        a=int(input('A:'))\n",
    "        b=int(input('b:'))\n",
    "        print(a+b)\n",
    "\n",
    "add()"
   ]
  },
  {
   "cell_type": "code",
   "execution_count": 3,
   "metadata": {},
   "outputs": [
    {
     "name": "stdout",
     "output_type": "stream",
     "text": [
      "14\n"
     ]
    }
   ],
   "source": [
    "def add(a,b,c):\n",
    "    return (a+b+c)\n",
    "print(add(2,3,9))# result varavillai yendral intent error ah irukum.intent error means tab and space correct ah illama irukura thu\n",
    "\n"
   ]
  },
  {
   "cell_type": "code",
   "execution_count": 4,
   "metadata": {},
   "outputs": [
    {
     "name": "stdout",
     "output_type": "stream",
     "text": [
      "99\n"
     ]
    }
   ],
   "source": [
    "def add(a,b=33,c=55):\n",
    "    return (a+b+c)\n",
    "print(add(11))# result varavillai yendral intent error ah irukum.intent error means tab and space correct ah illama irukura thu\n",
    "              # print(add(a))\n"
   ]
  },
  {
   "cell_type": "code",
   "execution_count": 3,
   "metadata": {},
   "outputs": [
    {
     "name": "stdout",
     "output_type": "stream",
     "text": [
      "2023-12-19 12:30:57.661357\n",
      "2023-12-19\n",
      "12:30:57.662366\n"
     ]
    }
   ],
   "source": [
    "import datetime\n",
    "# print date and time\n",
    "print(datetime.datetime.now())\n",
    "# date only\n",
    "print(datetime.datetime.now().date())\n",
    "# time only\n",
    "print(datetime.datetime.now().time())"
   ]
  },
  {
   "cell_type": "code",
   "execution_count": 4,
   "metadata": {},
   "outputs": [
    {
     "name": "stdout",
     "output_type": "stream",
     "text": [
      "messege: you become a hokage\n"
     ]
    }
   ],
   "source": [
    "# parameterized function\n",
    "# nan naruto ku send panra msg\n",
    "\n",
    "def naruto(msg):\n",
    "    print(\"messege:\",msg)\n",
    "\n",
    "naruto('you become a hokage')"
   ]
  },
  {
   "cell_type": "code",
   "execution_count": 6,
   "metadata": {},
   "outputs": [
    {
     "name": "stdout",
     "output_type": "stream",
     "text": [
      "odd\n"
     ]
    }
   ],
   "source": [
    "# get a integer num froj user and pass it to the function called findevenorodd() let the function print whether the number is even or odd\n",
    "def findevenorodd(num):\n",
    "    if (num%2==0):\n",
    "        print('even')\n",
    "    else:\n",
    "        print(\"odd\")\n",
    "a=17       \n",
    "findevenorodd(a)"
   ]
  },
  {
   "cell_type": "code",
   "execution_count": 10,
   "metadata": {},
   "outputs": [
    {
     "name": "stdout",
     "output_type": "stream",
     "text": [
      "pass\n"
     ]
    }
   ],
   "source": [
    "# get a integer num from user and pass it to the function called findpassorfail() let the function print whether the number is pass or fail\n",
    "def findpassorfail(score):\n",
    "    if (score<35):\n",
    "        print('fail')\n",
    "    else:\n",
    "        print(\"pass\")\n",
    "num=int(input(\"num:\"))      \n",
    "findpassorfail(num)"
   ]
  },
  {
   "cell_type": "code",
   "execution_count": 4,
   "metadata": {},
   "outputs": [
    {
     "name": "stdout",
     "output_type": "stream",
     "text": [
      "11,12,13,14,15,16,17,18,19,20,21,22,23,24,25,26,27,28,29,30,31,32,"
     ]
    }
   ],
   "source": [
    "# get a ijput for a and b pass it th the funtion called print range() let the function print numbers from a to b\n",
    "\n",
    "def printrange(r1,r2):\n",
    "    for i in range(r1,r2):\n",
    "        print(i,end=\",\")\n",
    "a=int(input(\"A:\"))\n",
    "b=int(input(\"B:\"))\n",
    "printrange(a,b)\n"
   ]
  },
  {
   "cell_type": "code",
   "execution_count": 7,
   "metadata": {},
   "outputs": [
    {
     "name": "stdout",
     "output_type": "stream",
     "text": [
      "12\n"
     ]
    }
   ],
   "source": [
    "# return keyword\n",
    "def valueofa():\n",
    "    return 12\n",
    "print(valueofa())\n",
    "\n",
    "#def valueofa():\n",
    "#    return 12\n",
    "# a= valueofa()\n",
    "#print(a) \n",
    "\n"
   ]
  },
  {
   "cell_type": "code",
   "execution_count": 11,
   "metadata": {},
   "outputs": [
    {
     "name": "stdout",
     "output_type": "stream",
     "text": [
      "False\n"
     ]
    }
   ],
   "source": [
    "s_username=\"vijay\"\n",
    "s_password='123'\n",
    "uname=input(\"enter the username:\")\n",
    "password=input(\"enter the password:\")\n",
    "\n",
    "def validate():\n",
    "    if(s_username==uname and s_password==password):\n",
    "        return True\n",
    "\n",
    "    else:\n",
    "        return False\n",
    "\n",
    "print(validate())"
   ]
  },
  {
   "cell_type": "code",
   "execution_count": 15,
   "metadata": {},
   "outputs": [
    {
     "name": "stdout",
     "output_type": "stream",
     "text": [
      "6\n"
     ]
    }
   ],
   "source": [
    "a=int(input(\"A:\"))\n",
    "b=int(input(\"B:\"))\n",
    "c=int(input(\"C:\"))\n",
    "def add(n1,n2):\n",
    "    return n1+n2\n",
    "Addition=add(a,b)\n",
    "result=Addition*c\n",
    "print(result)\n",
    "\n",
    "\n",
    "\n"
   ]
  }
 ],
 "metadata": {
  "kernelspec": {
   "display_name": "Python 3",
   "language": "python",
   "name": "python3"
  },
  "language_info": {
   "codemirror_mode": {
    "name": "ipython",
    "version": 3
   },
   "file_extension": ".py",
   "mimetype": "text/x-python",
   "name": "python",
   "nbconvert_exporter": "python",
   "pygments_lexer": "ipython3",
   "version": "3.11.5"
  }
 },
 "nbformat": 4,
 "nbformat_minor": 2
}
