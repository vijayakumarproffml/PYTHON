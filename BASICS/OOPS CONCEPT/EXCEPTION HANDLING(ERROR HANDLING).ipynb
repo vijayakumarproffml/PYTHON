{
 "cells": [
  {
   "cell_type": "code",
   "execution_count": 1,
   "metadata": {},
   "outputs": [
    {
     "name": "stdout",
     "output_type": "stream",
     "text": [
      "hi\n",
      "hi\n"
     ]
    },
    {
     "ename": "NameError",
     "evalue": "name 'prinnt' is not defined",
     "output_type": "error",
     "traceback": [
      "\u001b[1;31m---------------------------------------------------------------------------\u001b[0m",
      "\u001b[1;31mNameError\u001b[0m                                 Traceback (most recent call last)",
      "Cell \u001b[1;32mIn[1], line 5\u001b[0m\n\u001b[0;32m      3\u001b[0m \u001b[39mprint\u001b[39m(\u001b[39m'\u001b[39m\u001b[39mhi\u001b[39m\u001b[39m'\u001b[39m)\n\u001b[0;32m      4\u001b[0m \u001b[39mprint\u001b[39m(\u001b[39m'\u001b[39m\u001b[39mhi\u001b[39m\u001b[39m'\u001b[39m)\n\u001b[1;32m----> 5\u001b[0m prinnt(\u001b[39m'\u001b[39m\u001b[39mhi\u001b[39m\u001b[39m'\u001b[39m)\n",
      "\u001b[1;31mNameError\u001b[0m: name 'prinnt' is not defined"
     ]
    }
   ],
   "source": [
    "#  COMPILE ERROR\n",
    "\n",
    "print('hi')\n",
    "print('hi')\n",
    "prinnt('hi')"
   ]
  },
  {
   "cell_type": "code",
   "execution_count": 2,
   "metadata": {},
   "outputs": [
    {
     "name": "stdout",
     "output_type": "stream",
     "text": [
      "20\n"
     ]
    }
   ],
   "source": [
    "# logical error\n",
    "\n",
    "a=10\n",
    "b=23\n",
    "print(a+a)"
   ]
  },
  {
   "cell_type": "code",
   "execution_count": 3,
   "metadata": {},
   "outputs": [
    {
     "ename": "ValueError",
     "evalue": "invalid literal for int() with base 10: 'hi'",
     "output_type": "error",
     "traceback": [
      "\u001b[1;31m---------------------------------------------------------------------------\u001b[0m",
      "\u001b[1;31mValueError\u001b[0m                                Traceback (most recent call last)",
      "Cell \u001b[1;32mIn[3], line 4\u001b[0m\n\u001b[0;32m      1\u001b[0m \u001b[39m# Runtime Error\u001b[39;00m\n\u001b[0;32m      3\u001b[0m a\u001b[39m=\u001b[39m\u001b[39mint\u001b[39m(\u001b[39minput\u001b[39m(\u001b[39m\"\u001b[39m\u001b[39mA:\u001b[39m\u001b[39m\"\u001b[39m))\n\u001b[1;32m----> 4\u001b[0m b\u001b[39m=\u001b[39m\u001b[39mint\u001b[39;49m(\u001b[39minput\u001b[39;49m(\u001b[39m\"\u001b[39;49m\u001b[39mB:\u001b[39;49m\u001b[39m\"\u001b[39;49m))\n\u001b[0;32m      5\u001b[0m \u001b[39mprint\u001b[39m(a\u001b[39m+\u001b[39mb)\n",
      "\u001b[1;31mValueError\u001b[0m: invalid literal for int() with base 10: 'hi'"
     ]
    }
   ],
   "source": [
    "# 1 :Runtime Error\n",
    "\n",
    "a=int(input(\"A:\")) #10\n",
    "b=int(input(\"B:\")) #hi\n",
    "print(a+b)"
   ]
  },
  {
   "cell_type": "code",
   "execution_count": 14,
   "metadata": {},
   "outputs": [
    {
     "name": "stdout",
     "output_type": "stream",
     "text": [
      "something\n"
     ]
    }
   ],
   "source": [
    "try:\n",
    "    a=int(input(\"A:\")) #10\n",
    "    b=int(input(\"B:\")) #hi\n",
    "    print(a+b)\n",
    "except Exception:\n",
    "    print(\"something\")\n"
   ]
  },
  {
   "cell_type": "code",
   "execution_count": 15,
   "metadata": {},
   "outputs": [
    {
     "name": "stdout",
     "output_type": "stream",
     "text": [
      "something invalid literal for int() with base 10: 'hi'\n"
     ]
    }
   ],
   "source": [
    "try:\n",
    "    a=int(input(\"A:\")) #10\n",
    "    b=int(input(\"B:\")) #hi\n",
    "    print(a+b)\n",
    "\n",
    "except Exception as e:\n",
    "    print(\"something\",e)\n"
   ]
  },
  {
   "cell_type": "code",
   "execution_count": 6,
   "metadata": {},
   "outputs": [
    {
     "name": "stdout",
     "output_type": "stream",
     "text": [
      "hibye\n"
     ]
    }
   ],
   "source": [
    "# 2:\n",
    "\n",
    "try:\n",
    "    a=input() #hi\n",
    "    b=input() #bye\n",
    "    print(a+b)\n",
    "\n",
    "except Exception as e:\n",
    "    print(\"something\",e)\n"
   ]
  },
  {
   "cell_type": "code",
   "execution_count": 18,
   "metadata": {},
   "outputs": [
    {
     "name": "stdout",
     "output_type": "stream",
     "text": [
      "4444\n"
     ]
    }
   ],
   "source": [
    "# 3:\n",
    "\n",
    "a=input() # 44 nu enter pannal athu int ah yedukathu str ah tha tedukum\n",
    "b=input()\n",
    "print(a+b) # \"44\"+\"44\""
   ]
  },
  {
   "cell_type": "code",
   "execution_count": 9,
   "metadata": {},
   "outputs": [
    {
     "name": "stdout",
     "output_type": "stream",
     "text": [
      "4444\n"
     ]
    }
   ],
   "source": [
    "try:\n",
    "    a=input() # 44 nu enter pannal athu int ah yedukathu str ah tha tedukum\n",
    "    b=input()\n",
    "    print(a+b) # \"44\"+\"44\"\n",
    "\n",
    "except Exception as e:\n",
    "    print(\"something\",e)\n"
   ]
  },
  {
   "cell_type": "code",
   "execution_count": 19,
   "metadata": {},
   "outputs": [
    {
     "ename": "TypeError",
     "evalue": "unsupported operand type(s) for /: 'str' and 'str'",
     "output_type": "error",
     "traceback": [
      "\u001b[1;31m---------------------------------------------------------------------------\u001b[0m",
      "\u001b[1;31mTypeError\u001b[0m                                 Traceback (most recent call last)",
      "Cell \u001b[1;32mIn[19], line 3\u001b[0m\n\u001b[0;32m      1\u001b[0m a\u001b[39m=\u001b[39m\u001b[39minput\u001b[39m() \u001b[39m# hi\u001b[39;00m\n\u001b[0;32m      2\u001b[0m b\u001b[39m=\u001b[39m\u001b[39minput\u001b[39m() \u001b[39m# bye\u001b[39;00m\n\u001b[1;32m----> 3\u001b[0m \u001b[39mprint\u001b[39m(a\u001b[39m/\u001b[39;49mb) \u001b[39m# string ah concadinate (+) matum tha panna mudum, vera operand use panna mudiyathu\u001b[39;00m\n",
      "\u001b[1;31mTypeError\u001b[0m: unsupported operand type(s) for /: 'str' and 'str'"
     ]
    }
   ],
   "source": [
    "# 4:\n",
    "\n",
    "a=input() # hi\n",
    "b=input() # bye\n",
    "print(a/b) # string ah concadinate (+) matum tha panna mudum, vera operand use panna mudiyathu\n"
   ]
  },
  {
   "cell_type": "code",
   "execution_count": 7,
   "metadata": {},
   "outputs": [
    {
     "name": "stdout",
     "output_type": "stream",
     "text": [
      "something unsupported operand type(s) for /: 'str' and 'str'\n"
     ]
    }
   ],
   "source": [
    "try:\n",
    "    a=input() # hi\n",
    "    b=input() # bye\n",
    "    print(a/b) # string ah concadinate (+) matum tha panna mudum, vera operand use panna mudiyathu\n",
    "\n",
    "except Exception as e:\n",
    "    print(\"something\",e)\n"
   ]
  },
  {
   "cell_type": "code",
   "execution_count": 13,
   "metadata": {},
   "outputs": [
    {
     "ename": "ValueError",
     "evalue": "invalid literal for int() with base 10: 'hi'",
     "output_type": "error",
     "traceback": [
      "\u001b[1;31m---------------------------------------------------------------------------\u001b[0m",
      "\u001b[1;31mValueError\u001b[0m                                Traceback (most recent call last)",
      "Cell \u001b[1;32mIn[13], line 1\u001b[0m\n\u001b[1;32m----> 1\u001b[0m a\u001b[39m=\u001b[39m\u001b[39mint\u001b[39;49m(\u001b[39minput\u001b[39;49m())\n",
      "\u001b[1;31mValueError\u001b[0m: invalid literal for int() with base 10: 'hi'"
     ]
    }
   ],
   "source": [
    "# 5:\n",
    "\n",
    "a=int(input()) # hi\n"
   ]
  },
  {
   "cell_type": "code",
   "execution_count": 3,
   "metadata": {},
   "outputs": [
    {
     "name": "stdout",
     "output_type": "stream",
     "text": [
      "value error is : invalid literal for int() with base 10: 'hi'\n"
     ]
    }
   ],
   "source": [
    "try:\n",
    "    a=int(input()) # hi\n",
    "\n",
    " # ValueError                                Traceback (most recent call last)\n",
    "#Cell In[13], line 1\n",
    "#----> 1 a=int(input())\n",
    "\n",
    "#ValueError: invalid literal for int() with base 10: 'hi'\n",
    "except ValueError as e:\n",
    "    print(\"value error is :\",e)\n"
   ]
  },
  {
   "cell_type": "code",
   "execution_count": 20,
   "metadata": {},
   "outputs": [
    {
     "ename": "TypeError",
     "evalue": "unsupported operand type(s) for /: 'str' and 'int'",
     "output_type": "error",
     "traceback": [
      "\u001b[1;31m---------------------------------------------------------------------------\u001b[0m",
      "\u001b[1;31mTypeError\u001b[0m                                 Traceback (most recent call last)",
      "Cell \u001b[1;32mIn[20], line 4\u001b[0m\n\u001b[0;32m      2\u001b[0m b\u001b[39m=\u001b[39m\u001b[39mint\u001b[39m(\u001b[39minput\u001b[39m()) \u001b[39m# 20\u001b[39;00m\n\u001b[0;32m      3\u001b[0m c\u001b[39m=\u001b[39m\u001b[39minput\u001b[39m()      \u001b[39m# hi\u001b[39;00m\n\u001b[1;32m----> 4\u001b[0m \u001b[39mprint\u001b[39m(c\u001b[39m/\u001b[39;49ma)\n",
      "\u001b[1;31mTypeError\u001b[0m: unsupported operand type(s) for /: 'str' and 'int'"
     ]
    }
   ],
   "source": [
    "# 6:\n",
    "\n",
    "a=int(input()) # 10\n",
    "b=int(input()) # 20\n",
    "c=input()      # hi\n",
    "print(c/a)\n",
    " "
   ]
  },
  {
   "cell_type": "code",
   "execution_count": 5,
   "metadata": {},
   "outputs": [
    {
     "name": "stdout",
     "output_type": "stream",
     "text": [
      "Typeerror is : unsupported operand type(s) for /: 'str' and 'int'\n"
     ]
    }
   ],
   "source": [
    "\n",
    "try:\n",
    "    a=int(input()) # 10\n",
    "    b=int(input()) # 20\n",
    "    c=input()      # hi\n",
    "    print(c/a)\n",
    " # ValueError                                Traceback (most recent call last)\n",
    "#Cell In[13], line 1\n",
    "#----> 1 a=int(input())\n",
    "\n",
    "#ValueError: invalid literal for int() with base 10: 'hi'\n",
    "except ValueError as e:\n",
    "    print(\"value error is :\",e)\n",
    "\n",
    "# inga typeerror varum aanal namma valueerror ku exception create panirukom, ipo typeerror lu pannal tha correct ah varum\n",
    "\n",
    "except TypeError as e:\n",
    "    print(\"Typeerror is :\",e)\n"
   ]
  },
  {
   "cell_type": "code",
   "execution_count": 7,
   "metadata": {},
   "outputs": [
    {
     "ename": "NameError",
     "evalue": "name 'r' is not defined",
     "output_type": "error",
     "traceback": [
      "\u001b[1;31m---------------------------------------------------------------------------\u001b[0m",
      "\u001b[1;31mNameError\u001b[0m                                 Traceback (most recent call last)",
      "Cell \u001b[1;32mIn[7], line 3\u001b[0m\n\u001b[0;32m      1\u001b[0m a\u001b[39m=\u001b[39m\u001b[39m12\u001b[39m\n\u001b[0;32m      2\u001b[0m b\u001b[39m=\u001b[39m\u001b[39m23\u001b[39m\n\u001b[1;32m----> 3\u001b[0m \u001b[39mprint\u001b[39m(r)\n",
      "\u001b[1;31mNameError\u001b[0m: name 'r' is not defined"
     ]
    }
   ],
   "source": [
    "# 7:\n",
    "\n",
    "a=12\n",
    "b=23\n",
    "print(r)\n",
    "\n"
   ]
  },
  {
   "cell_type": "code",
   "execution_count": 12,
   "metadata": {},
   "outputs": [
    {
     "name": "stdout",
     "output_type": "stream",
     "text": [
      "NameError is : name 'r' is not defined\n"
     ]
    }
   ],
   "source": [
    "try:\n",
    "    a=10\n",
    "    b=20\n",
    "    print(r)\n",
    "\n",
    "\n",
    "# NameError                                 Traceback (most recent call last)\n",
    "#Cell In[7], line 3\n",
    "#      1 a=12\n",
    "#      2 b=23\n",
    "#----> 3 print(r)\n",
    "\n",
    "#NameError: name 'r' is not defined\n",
    "\n",
    "except Exception as e:\n",
    "    print(\"NameError is :\",e)\n",
    "\n",
    "\n"
   ]
  },
  {
   "cell_type": "code",
   "execution_count": 21,
   "metadata": {},
   "outputs": [
    {
     "name": "stdout",
     "output_type": "stream",
     "text": [
      "value error is : invalid literal for int() with base 10: 'hi'\n",
      "done\n"
     ]
    }
   ],
   "source": [
    "# 8: finally\n",
    "\n",
    "try:\n",
    "    a=int(input()) # 10\n",
    "    b=int(input()) # hi\n",
    " \n",
    "\n",
    "#ValueError: invalid literal for int() with base 10: 'hi'\n",
    "except ValueError as e:\n",
    "    print(\"value error is :\",e)\n",
    "\n",
    "\n",
    "except TypeError as e:\n",
    "    print(\"Typeerror is :\",e)\n",
    "\n",
    "except Exception as e:\n",
    "    print(\"Error  is :\",e)\n",
    "\n",
    "finally:\n",
    "    print(\"done\")\n"
   ]
  }
 ],
 "metadata": {
  "kernelspec": {
   "display_name": "Python 3",
   "language": "python",
   "name": "python3"
  },
  "language_info": {
   "codemirror_mode": {
    "name": "ipython",
    "version": 3
   },
   "file_extension": ".py",
   "mimetype": "text/x-python",
   "name": "python",
   "nbconvert_exporter": "python",
   "pygments_lexer": "ipython3",
   "version": "3.11.5"
  }
 },
 "nbformat": 4,
 "nbformat_minor": 2
}
