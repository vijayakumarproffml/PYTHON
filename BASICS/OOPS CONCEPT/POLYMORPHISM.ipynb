{
 "cells": [
  {
   "cell_type": "code",
   "execution_count": 20,
   "metadata": {},
   "outputs": [
    {
     "name": "stdout",
     "output_type": "stream",
     "text": [
      "animal makes a sound\n",
      "dog barks\n",
      "bird sing\n",
      "animal makes a sound\n"
     ]
    }
   ],
   "source": [
    "# one thing act in many forms\n",
    "\n",
    "class animal(): # base class or parent class\n",
    "    def sound(self):\n",
    "        print(\"animal makes a sound\")\n",
    "\n",
    "class dog(animal): # derived class or child class\n",
    "    def sound(self):\n",
    "        print(\"dog barks\")\n",
    "\n",
    "class bird(animal): # derived class or child class\n",
    "    def sound(self):\n",
    "        print(\"bird sing\")\n",
    "\n",
    "class insects(animal): # derived class or child class\n",
    "        pass\n",
    "\n",
    "ani=animal()\n",
    "ani.sound()\n",
    "\n",
    "d1=dog()\n",
    "d1.sound()\n",
    "\n",
    "b1=bird()\n",
    "b1.sound()\n",
    "\n",
    "inc=insects()\n",
    "inc.sound()"
   ]
  },
  {
   "cell_type": "code",
   "execution_count": 21,
   "metadata": {},
   "outputs": [
    {
     "data": {
      "text/plain": [
       "0"
      ]
     },
     "execution_count": 21,
     "metadata": {},
     "output_type": "execute_result"
    }
   ],
   "source": [
    "class shape():\n",
    "    def area(self):\n",
    "        return 0\n",
    "    \n",
    "s1=shape()\n",
    "s1.area()"
   ]
  },
  {
   "cell_type": "code",
   "execution_count": 22,
   "metadata": {},
   "outputs": [
    {
     "name": "stdout",
     "output_type": "stream",
     "text": [
      "600\n"
     ]
    }
   ],
   "source": [
    "class shape():\n",
    "    def area(self):\n",
    "        return 0\n",
    "\n",
    "class rectangle(shape):\n",
    "    def area(self):\n",
    "        l=20\n",
    "        b=30\n",
    "        print(l*b)\n",
    "\n",
    "s1=shape()\n",
    "s1.area()\n",
    "# print(s1.area()) 0 output display la show aagavendumenral ithai use pannalam\n",
    "\n",
    "r1=rectangle()\n",
    "r1.area()"
   ]
  },
  {
   "cell_type": "code",
   "execution_count": 1,
   "metadata": {},
   "outputs": [
    {
     "ename": "TypeError",
     "evalue": "person.__init__() takes 2 positional arguments but 3 were given",
     "output_type": "error",
     "traceback": [
      "\u001b[1;31m---------------------------------------------------------------------------\u001b[0m",
      "\u001b[1;31mTypeError\u001b[0m                                 Traceback (most recent call last)",
      "Cell \u001b[1;32mIn[1], line 14\u001b[0m\n\u001b[0;32m     11\u001b[0m         \u001b[39mprint\u001b[39m(\u001b[39m\"\u001b[39m\u001b[39mNAME :\u001b[39m\u001b[39m\"\u001b[39m,\u001b[39mself\u001b[39m\u001b[39m.\u001b[39mname)\n\u001b[0;32m     12\u001b[0m         \u001b[39mprint\u001b[39m(\u001b[39m\"\u001b[39m\u001b[39mGRADE :\u001b[39m\u001b[39m\"\u001b[39m,\u001b[39mself\u001b[39m\u001b[39m.\u001b[39mgrade)\n\u001b[1;32m---> 14\u001b[0m s1\u001b[39m=\u001b[39mstudent(\u001b[39m\"\u001b[39;49m\u001b[39mvijay\u001b[39;49m\u001b[39m\"\u001b[39;49m,\u001b[39m2\u001b[39;49m)\n\u001b[0;32m     15\u001b[0m s1\u001b[39m.\u001b[39mdisplay()\n",
      "\u001b[1;31mTypeError\u001b[0m: person.__init__() takes 2 positional arguments but 3 were given"
     ]
    }
   ],
   "source": [
    "class person():\n",
    "    def __init__(self,name):\n",
    "        self.name=name\n",
    "\n",
    "class student(person):\n",
    "    def grade(self,name,grade):\n",
    "        super().__init__(name)\n",
    "        self.grade=grade\n",
    "    \n",
    "    def display(self):\n",
    "        print(\"NAME :\",self.name)\n",
    "        print(\"GRADE :\",self.grade)\n",
    "\n",
    "s1=student(\"vijay\",2)\n",
    "s1.display()"
   ]
  },
  {
   "cell_type": "code",
   "execution_count": 2,
   "metadata": {},
   "outputs": [
    {
     "name": "stdout",
     "output_type": "stream",
     "text": [
      "NAME : vijay\n",
      "GRADE : 2\n"
     ]
    }
   ],
   "source": [
    "class person():\n",
    "    def __init__(self, name):\n",
    "        self.name = name\n",
    "\n",
    "class student(person):\n",
    "    def __init__(self, name, grade):\n",
    "        super().__init__(name)\n",
    "        self.grade = grade\n",
    "    \n",
    "    def display(self):\n",
    "        print(\"NAME :\", self.name)\n",
    "        print(\"GRADE :\", self.grade)\n",
    "\n",
    "s1 = student(\"vijay\", 2)\n",
    "s1.display()\n"
   ]
  },
  {
   "cell_type": "code",
   "execution_count": 4,
   "metadata": {},
   "outputs": [
    {
     "name": "stdout",
     "output_type": "stream",
     "text": [
      "NAME : vijay\n",
      "SALARY : 50000\n",
      "DEPARTMENT : EEE\n"
     ]
    }
   ],
   "source": [
    "class employee():\n",
    "    def __init__(self, name,salary):\n",
    "        self.name = name\n",
    "        self.salary = salary\n",
    "\n",
    "class manager(employee):\n",
    "    def __init__(self, name, salary, department):\n",
    "        super().__init__(name, salary)\n",
    "        self.department = department\n",
    "    \n",
    "    def display(self):\n",
    "        print(\"NAME :\", self.name)\n",
    "        print(\"SALARY :\", self.salary)\n",
    "        print(\"DEPARTMENT :\", self.department)\n",
    "\n",
    "s1 = manager(\"vijay\",50000,'EEE')\n",
    "s1.display()\n"
   ]
  }
 ],
 "metadata": {
  "kernelspec": {
   "display_name": "Python 3",
   "language": "python",
   "name": "python3"
  },
  "language_info": {
   "codemirror_mode": {
    "name": "ipython",
    "version": 3
   },
   "file_extension": ".py",
   "mimetype": "text/x-python",
   "name": "python",
   "nbconvert_exporter": "python",
   "pygments_lexer": "ipython3",
   "version": "3.11.5"
  }
 },
 "nbformat": 4,
 "nbformat_minor": 2
}
