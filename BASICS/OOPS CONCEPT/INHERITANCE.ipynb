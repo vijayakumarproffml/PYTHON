{
 "cells": [
  {
   "cell_type": "code",
   "execution_count": 8,
   "metadata": {},
   "outputs": [
    {
     "name": "stdout",
     "output_type": "stream",
     "text": [
      "dads property\n"
     ]
    }
   ],
   "source": [
    "\n",
    "# SINGLE INHERITANCE\n",
    "\n",
    "class dad():\n",
    "    def properties(self):\n",
    "        print(\"dads property\")\n",
    "\n",
    "class son(dad):\n",
    "    def supercars(self):\n",
    "        print(\"sons super cars\")\n",
    "\n",
    "\n",
    "ram=son()\n",
    "ram.properties()"
   ]
  },
  {
   "cell_type": "code",
   "execution_count": 2,
   "metadata": {},
   "outputs": [
    {
     "name": "stdout",
     "output_type": "stream",
     "text": [
      "dads property\n",
      "moms jwellery\n"
     ]
    }
   ],
   "source": [
    "\n",
    "# MULTIPLE INHERITANCE\n",
    "\n",
    "class dad():\n",
    "    def properties(self):\n",
    "        print(\"dads property\")\n",
    "\n",
    "class mom():\n",
    "    def jwellery(self):\n",
    "        print(\"moms jwellery\")\n",
    "\n",
    "\n",
    "class son(dad,mom):\n",
    "    def supercars(self):\n",
    "        print(\"sons super cars\")\n",
    "\n",
    "\n",
    "vijay=son()\n",
    "vijay.properties()\n",
    "vijay.jwellery()\n"
   ]
  },
  {
   "cell_type": "code",
   "execution_count": 8,
   "metadata": {},
   "outputs": [
    {
     "name": "stdout",
     "output_type": "stream",
     "text": [
      "grandpa property\n",
      "dads money\n",
      "grandpa property\n"
     ]
    }
   ],
   "source": [
    "\n",
    "# MULTILEVEL INHERITANCE\n",
    "\n",
    "class grandpa():\n",
    "    def properties(self):\n",
    "        print(\"grandpa property\")\n",
    "\n",
    "class dad(grandpa):\n",
    "    def money(self):\n",
    "        print(\"dads money\")\n",
    "\n",
    "\n",
    "class son(dad):\n",
    "    def supercars(self):\n",
    "        print(\"sons super cars\")\n",
    "\n",
    "\n",
    "vijay=son()\n",
    "vijay.properties()\n",
    "vijay.money()\n",
    "\n",
    "dad=dad()\n",
    "dad.properties()\n"
   ]
  },
  {
   "cell_type": "code",
   "execution_count": 10,
   "metadata": {},
   "outputs": [
    {
     "name": "stdout",
     "output_type": "stream",
     "text": [
      "dads property\n"
     ]
    }
   ],
   "source": [
    "\n",
    "# HIERARICAL INHERITANCE\n",
    "\n",
    "class dad(): # base class\n",
    "    def properties(self):\n",
    "        print(\"dads property\")\n",
    "\n",
    "class son1(dad):\n",
    "    def money(self):\n",
    "        print(\"son1 money\")\n",
    "\n",
    "\n",
    "class son2(dad):\n",
    "    def supercars(self):\n",
    "        print(\"son2 super cars\")\n",
    "\n",
    "class son3(dad):\n",
    "    def toys(self):\n",
    "        print(\"son3 toys\")\n",
    "\n",
    "\n",
    "vijay=son2()\n",
    "vijay.properties()\n",
    "\n"
   ]
  },
  {
   "cell_type": "code",
   "execution_count": 13,
   "metadata": {},
   "outputs": [
    {
     "name": "stdout",
     "output_type": "stream",
     "text": [
      "dads property\n",
      "important land\n"
     ]
    }
   ],
   "source": [
    "\n",
    "# HYBRID INHERITANCE\n",
    "\n",
    "class dad(): # base class\n",
    "    def properties(self):\n",
    "        print(\"dads property\")\n",
    "\n",
    "class land(): \n",
    "    def important(self):\n",
    "        print(\"important land\")\n",
    "\n",
    "class son1(dad,land):\n",
    "    def money(self):\n",
    "        print(\"son1 money\")\n",
    "\n",
    "\n",
    "class son2(dad):\n",
    "    def supercars(self):\n",
    "        print(\"son2 super cars\")\n",
    "\n",
    "class son3(dad):\n",
    "    pass\n",
    "\n",
    "\n",
    "vijay=son1()\n",
    "vijay.properties()\n",
    "vijay.important()\n",
    "\n",
    "\n",
    "\n"
   ]
  }
 ],
 "metadata": {
  "kernelspec": {
   "display_name": "Python 3",
   "language": "python",
   "name": "python3"
  },
  "language_info": {
   "codemirror_mode": {
    "name": "ipython",
    "version": 3
   },
   "file_extension": ".py",
   "mimetype": "text/x-python",
   "name": "python",
   "nbconvert_exporter": "python",
   "pygments_lexer": "ipython3",
   "version": "3.11.5"
  }
 },
 "nbformat": 4,
 "nbformat_minor": 2
}
