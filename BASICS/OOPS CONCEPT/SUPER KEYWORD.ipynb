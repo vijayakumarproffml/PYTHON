{
 "cells": [
  {
   "cell_type": "code",
   "execution_count": 2,
   "metadata": {},
   "outputs": [
    {
     "name": "stdout",
     "output_type": "stream",
     "text": [
      "B\n"
     ]
    }
   ],
   "source": [
    "class a():\n",
    "    def __init__(self):\n",
    "        print(\"A\")\n",
    "\n",
    "    def display(self):\n",
    "        print(\"this is the class a\")\n",
    "\n",
    "class b(a):\n",
    "    def __init__(self):\n",
    "        print(\"B\")\n",
    "\n",
    "    def display(self):\n",
    "        print(\"this is the class b\")\n",
    "\n",
    "obj=b()"
   ]
  },
  {
   "cell_type": "code",
   "execution_count": 3,
   "metadata": {},
   "outputs": [
    {
     "name": "stdout",
     "output_type": "stream",
     "text": [
      "A\n"
     ]
    }
   ],
   "source": [
    "class a():\n",
    "    def __init__(self):\n",
    "        print(\"A\")\n",
    "\n",
    "    def display(self):\n",
    "        print(\"this is the class a\")\n",
    "\n",
    "class b(a):\n",
    "\n",
    "    def display(self):\n",
    "        print(\"this is the class b\")\n",
    "\n",
    "obj=b()"
   ]
  },
  {
   "cell_type": "code",
   "execution_count": 4,
   "metadata": {},
   "outputs": [
    {
     "name": "stdout",
     "output_type": "stream",
     "text": [
      "A\n",
      "B\n"
     ]
    }
   ],
   "source": [
    "class a():\n",
    "    def __init__(self):\n",
    "        print(\"A\")\n",
    "\n",
    "    def display(self):\n",
    "        print(\"this is the class a\")\n",
    "\n",
    "class b(a):\n",
    "    def __init__(self):\n",
    "        super().__init__() # <-------------------- super keyword\n",
    "        print(\"B\")\n",
    "\n",
    "    def display(self):\n",
    "        print(\"this is the class b\")\n",
    "\n",
    "obj=b()"
   ]
  },
  {
   "cell_type": "code",
   "execution_count": 5,
   "metadata": {},
   "outputs": [
    {
     "name": "stdout",
     "output_type": "stream",
     "text": [
      "A\n",
      "C\n"
     ]
    }
   ],
   "source": [
    "class a():\n",
    "    def __init__(self):\n",
    "        print(\"A\")\n",
    "\n",
    "    def display(self):\n",
    "        print(\"this is the class a\")\n",
    "\n",
    "class b():\n",
    "    def __init__(self):\n",
    "        super().__init__() # <-------------------- super keyword\n",
    "        print(\"B\")\n",
    "\n",
    "    def display(self):\n",
    "        print(\"this is the class b\")\n",
    "\n",
    "class c(a,b): # <----------------- first positinal arument consider pannum\n",
    "    def __init__(self):\n",
    "        super().__init__() # <-------------------- super keyword\n",
    "        print(\"C\")\n",
    "\n",
    "    def display(self):\n",
    "        print(\"this is the class c\")\n",
    "\n",
    "\n",
    "obj=c()"
   ]
  },
  {
   "cell_type": "code",
   "execution_count": 6,
   "metadata": {},
   "outputs": [
    {
     "name": "stdout",
     "output_type": "stream",
     "text": [
      "A\n",
      "B\n",
      "C\n"
     ]
    }
   ],
   "source": [
    "class a():\n",
    "    def __init__(self):\n",
    "        print(\"A\")\n",
    "\n",
    "    def display(self):\n",
    "        print(\"this is the class a\")\n",
    "\n",
    "class b():\n",
    "    def __init__(self):\n",
    "        super().__init__() # <-------------------- super keyword\n",
    "        print(\"B\")\n",
    "\n",
    "    def display(self):\n",
    "        print(\"this is the class b\")\n",
    "\n",
    "class c(b,a): # multiple inheritance act aaguthu..\n",
    "    def __init__(self):\n",
    "        super().__init__() # <-------------------- super keyword\n",
    "        print(\"C\")\n",
    "\n",
    "    def display(self):\n",
    "        print(\"this is the class c\")\n",
    "\n",
    "\n",
    "obj=c()"
   ]
  }
 ],
 "metadata": {
  "kernelspec": {
   "display_name": "Python 3",
   "language": "python",
   "name": "python3"
  },
  "language_info": {
   "codemirror_mode": {
    "name": "ipython",
    "version": 3
   },
   "file_extension": ".py",
   "mimetype": "text/x-python",
   "name": "python",
   "nbconvert_exporter": "python",
   "pygments_lexer": "ipython3",
   "version": "3.11.5"
  }
 },
 "nbformat": 4,
 "nbformat_minor": 2
}
