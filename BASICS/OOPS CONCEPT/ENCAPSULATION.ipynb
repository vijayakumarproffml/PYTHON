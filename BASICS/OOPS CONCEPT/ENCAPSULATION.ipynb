{
 "cells": [
  {
   "cell_type": "code",
   "execution_count": 5,
   "metadata": {},
   "outputs": [
    {
     "data": {
      "text/plain": [
       "'google'"
      ]
     },
     "execution_count": 5,
     "metadata": {},
     "output_type": "execute_result"
    }
   ],
   "source": [
    "class company():\n",
    "    def __init__(self):\n",
    "        self.companyname=\"google\" # public variable\n",
    "\n",
    "c1=company()\n",
    "c1.companyname # inga variabl ah than call panrom so () mention pannakoodathu"
   ]
  },
  {
   "cell_type": "code",
   "execution_count": 7,
   "metadata": {},
   "outputs": [
    {
     "ename": "AttributeError",
     "evalue": "'company' object has no attribute '__companyname'",
     "output_type": "error",
     "traceback": [
      "\u001b[1;31m---------------------------------------------------------------------------\u001b[0m",
      "\u001b[1;31mAttributeError\u001b[0m                            Traceback (most recent call last)",
      "Cell \u001b[1;32mIn[7], line 6\u001b[0m\n\u001b[0;32m      3\u001b[0m         \u001b[39mself\u001b[39m\u001b[39m.\u001b[39m__companyname\u001b[39m=\u001b[39m\u001b[39m\"\u001b[39m\u001b[39mgoogle\u001b[39m\u001b[39m\"\u001b[39m \u001b[39m# private variable\u001b[39;00m\n\u001b[0;32m      5\u001b[0m c1\u001b[39m=\u001b[39mcompany()\n\u001b[1;32m----> 6\u001b[0m c1\u001b[39m.\u001b[39;49m__companyname()\n",
      "\u001b[1;31mAttributeError\u001b[0m: 'company' object has no attribute '__companyname'"
     ]
    }
   ],
   "source": [
    "class company():\n",
    "    def __init__(self):\n",
    "        self.__companyname=\"google\" # private variable\n",
    "\n",
    "c1=company()\n",
    "c1.__companyname()\n",
    "# error varum because ithu private variable . so class ku veliya accses panna mudiyathu"
   ]
  },
  {
   "cell_type": "code",
   "execution_count": 9,
   "metadata": {},
   "outputs": [
    {
     "name": "stdout",
     "output_type": "stream",
     "text": [
      "google\n"
     ]
    },
    {
     "ename": "AttributeError",
     "evalue": "'company' object has no attribute '__companyname'",
     "output_type": "error",
     "traceback": [
      "\u001b[1;31m---------------------------------------------------------------------------\u001b[0m",
      "\u001b[1;31mAttributeError\u001b[0m                            Traceback (most recent call last)",
      "Cell \u001b[1;32mIn[9], line 10\u001b[0m\n\u001b[0;32m      8\u001b[0m c1\u001b[39m=\u001b[39mcompany()\n\u001b[0;32m      9\u001b[0m c1\u001b[39m.\u001b[39mcompanyname()\n\u001b[1;32m---> 10\u001b[0m c1\u001b[39m.\u001b[39;49m__companyname()\n\u001b[0;32m     11\u001b[0m \u001b[39m# error varum because ithu private variable . so class ku veliya accses panna mudiyathu\u001b[39;00m\n",
      "\u001b[1;31mAttributeError\u001b[0m: 'company' object has no attribute '__companyname'"
     ]
    }
   ],
   "source": [
    "class company():\n",
    "    def __init__(self):\n",
    "        self.__companyname=\"google\" # private variable\n",
    "    \n",
    "    def companyname(self):\n",
    "        print(self.__companyname)\n",
    "\n",
    "c1=company()\n",
    "c1.companyname() # inga function moolama access pannum bothu print aagum but private variable ah dirct ah access panna mudiyahtu.\n",
    "c1.__companyname() # error varum because ithu private variable . so class ku veliya accses panna mudiyathu"
   ]
  },
  {
   "cell_type": "code",
   "execution_count": 13,
   "metadata": {},
   "outputs": [
    {
     "name": "stdout",
     "output_type": "stream",
     "text": [
      "google\n"
     ]
    },
    {
     "data": {
      "text/plain": [
       "'google'"
      ]
     },
     "execution_count": 13,
     "metadata": {},
     "output_type": "execute_result"
    }
   ],
   "source": [
    "class company(): # parent class \n",
    "    def __init__(self):\n",
    "        self._companyname=\"google\" # protected variable\n",
    "    \n",
    "    def companyname(self):\n",
    "        print(self._companyname)\n",
    "\n",
    "class employee(company): # child class\n",
    "    def companyname(self):\n",
    "        print(self._companyname)\n",
    "c1=company()\n",
    "c1.companyname() # inga function moolama access pannum bothu print aagum but private variable ah dirct ah access panna mudiyahtu.\n",
    "c1._companyname # error varum because ithu private variable . so class ku veliya accses panna mudiyathu\n",
    "\n",
    "e1=employee()\n",
    "e1._companyname # child class vachu access panna mudium"
   ]
  }
 ],
 "metadata": {
  "kernelspec": {
   "display_name": "Python 3",
   "language": "python",
   "name": "python3"
  },
  "language_info": {
   "codemirror_mode": {
    "name": "ipython",
    "version": 3
   },
   "file_extension": ".py",
   "mimetype": "text/x-python",
   "name": "python",
   "nbconvert_exporter": "python",
   "pygments_lexer": "ipython3",
   "version": "3.11.5"
  }
 },
 "nbformat": 4,
 "nbformat_minor": 2
}
