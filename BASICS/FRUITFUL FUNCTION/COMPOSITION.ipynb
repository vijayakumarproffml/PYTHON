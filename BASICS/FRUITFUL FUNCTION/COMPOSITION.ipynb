{
 "cells": [
  {
   "cell_type": "code",
   "execution_count": 2,
   "metadata": {},
   "outputs": [
    {
     "name": "stdout",
     "output_type": "stream",
     "text": [
      "minimum value is  (10.0, 12, 44, 105)\n"
     ]
    }
   ],
   "source": [
    "# BUILT IN FUNCTION use panni panrom\n",
    "\n",
    "import math\n",
    "x= math.sqrt(100)\n",
    "min_value=(x,12,44,105)\n",
    "print(\"minimum value is \",min_value)"
   ]
  },
  {
   "cell_type": "code",
   "execution_count": 7,
   "metadata": {},
   "outputs": [
    {
     "name": "stdout",
     "output_type": "stream",
     "text": [
      "12\n"
     ]
    }
   ],
   "source": [
    "# user defined function\n",
    "\n",
    "def add(a,b):\n",
    "    return a+b\n",
    "def mul(c,d):\n",
    "    return c*d\n",
    "def main_fun(x,y):\n",
    "    var=add(x,y) # 1+2\n",
    "    var2=mul(var,4) # var=3 var2=3*4=12\n",
    "    return var2\n",
    "print(main_fun(1,2))"
   ]
  },
  {
   "cell_type": "code",
   "execution_count": 8,
   "metadata": {},
   "outputs": [
    {
     "name": "stdout",
     "output_type": "stream",
     "text": [
      "inside inner 17\n",
      "None\n"
     ]
    }
   ],
   "source": [
    "def make_adder(x):\n",
    "    def add(y):\n",
    "        print (\"inside inner\",x+y)\n",
    "    return add\n",
    "plus5=make_adder(5)\n",
    "print(plus5(12))\n"
   ]
  }
 ],
 "metadata": {
  "kernelspec": {
   "display_name": "Python 3",
   "language": "python",
   "name": "python3"
  },
  "language_info": {
   "codemirror_mode": {
    "name": "ipython",
    "version": 3
   },
   "file_extension": ".py",
   "mimetype": "text/x-python",
   "name": "python",
   "nbconvert_exporter": "python",
   "pygments_lexer": "ipython3",
   "version": "3.11.5"
  }
 },
 "nbformat": 4,
 "nbformat_minor": 2
}
