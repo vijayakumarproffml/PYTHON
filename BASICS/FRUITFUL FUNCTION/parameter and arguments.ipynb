{
 "cells": [
  {
   "cell_type": "code",
   "execution_count": 12,
   "metadata": {},
   "outputs": [
    {
     "ename": "TypeError",
     "evalue": "'tuple' object is not callable",
     "output_type": "error",
     "traceback": [
      "\u001b[1;31m---------------------------------------------------------------------------\u001b[0m",
      "\u001b[1;31mTypeError\u001b[0m                                 Traceback (most recent call last)",
      "Cell \u001b[1;32mIn[12], line 4\u001b[0m\n\u001b[0;32m      1\u001b[0m \u001b[39mdef\u001b[39;00m \u001b[39mfruits\u001b[39m(\u001b[39m*\u001b[39mname):\n\u001b[0;32m      2\u001b[0m     \u001b[39mprint\u001b[39m(\u001b[39m\"\u001b[39m\u001b[39m sweetest fruit is \u001b[39m\u001b[39m\"\u001b[39m\u001b[39m+\u001b[39mname(\u001b[39m3\u001b[39m))\u001b[39m# name(3),3 vanthu position ah kurikum\u001b[39;00m\n\u001b[1;32m----> 4\u001b[0m fruits(\u001b[39m'\u001b[39;49m\u001b[39mapple\u001b[39;49m\u001b[39m'\u001b[39;49m,\u001b[39m'\u001b[39;49m\u001b[39mcherry\u001b[39;49m\u001b[39m'\u001b[39;49m,\u001b[39m'\u001b[39;49m\u001b[39mmango\u001b[39;49m\u001b[39m'\u001b[39;49m,\u001b[39m'\u001b[39;49m\u001b[39mpapaya\u001b[39;49m\u001b[39m'\u001b[39;49m,\u001b[39m'\u001b[39;49m\u001b[39mlemon\u001b[39;49m\u001b[39m'\u001b[39;49m,\u001b[39m'\u001b[39;49m\u001b[39morange\u001b[39;49m\u001b[39m'\u001b[39;49m,\u001b[39m'\u001b[39;49m\u001b[39mbannana\u001b[39;49m\u001b[39m'\u001b[39;49m,\u001b[39m'\u001b[39;49m\u001b[39mgoa\u001b[39;49m\u001b[39m'\u001b[39;49m)\n",
      "Cell \u001b[1;32mIn[12], line 2\u001b[0m, in \u001b[0;36mfruits\u001b[1;34m(*name)\u001b[0m\n\u001b[0;32m      1\u001b[0m \u001b[39mdef\u001b[39;00m \u001b[39mfruits\u001b[39m(\u001b[39m*\u001b[39mname):\n\u001b[1;32m----> 2\u001b[0m     \u001b[39mprint\u001b[39m(\u001b[39m\"\u001b[39m\u001b[39m sweetest fruit is \u001b[39m\u001b[39m\"\u001b[39m\u001b[39m+\u001b[39mname(\u001b[39m3\u001b[39;49m))\n",
      "\u001b[1;31mTypeError\u001b[0m: 'tuple' object is not callable"
     ]
    }
   ],
   "source": [
    "def fruits(*name):\n",
    "    print(\" sweetest fruit is \"+name(3))# name(3),3 vanthu position ah kurikum\n",
    "\n",
    "fruits('apple','cherry','mango','papaya','lemon','orange','bannana','goa')"
   ]
  },
  {
   "cell_type": "code",
   "execution_count": 11,
   "metadata": {},
   "outputs": [
    {
     "name": "stdout",
     "output_type": "stream",
     "text": [
      " sweetest fruit is papaya\n"
     ]
    }
   ],
   "source": [
    "def fruits(*name):\n",
    "    print(\" sweetest fruit is \"+name[3])# name[3],3 vanthu position ah kurikum\n",
    "\n",
    "fruits('apple','cherry','mango','papaya','lemon','orange','bannana','goa')"
   ]
  },
  {
   "cell_type": "code",
   "execution_count": 10,
   "metadata": {},
   "outputs": [
    {
     "name": "stdout",
     "output_type": "stream",
     "text": [
      " sweetest fruit is orange\n"
     ]
    }
   ],
   "source": [
    "# KEYWORD ARGUMENTS (kwargs)\n",
    "\n",
    "def fruits(**name):\n",
    "    print(\" sweetest fruit is \"+name['F6'])# name[3],3 vanthu position ah kurikum\n",
    "\n",
    "fruits(F1='apple',F2='cherry',F3='mango',F4='papaya',F5='lemon',F6='orange',F7='bannana',F8='goa')"
   ]
  },
  {
   "cell_type": "code",
   "execution_count": 9,
   "metadata": {},
   "outputs": [
    {
     "name": "stdout",
     "output_type": "stream",
     "text": [
      " sweetest fruit is cherry\n",
      " sweetest fruit is cherry\n"
     ]
    }
   ],
   "source": [
    "# DEFAULT parameter\n",
    "\n",
    "def fruits(name=\"cherry\"):\n",
    "    print(\" sweetest fruit is \"+name)\n",
    "    print(\" sweetest fruit is\",name)\n",
    "    \n",
    "fruits()\n",
    "\n",
    "\n",
    "    "
   ]
  }
 ],
 "metadata": {
  "kernelspec": {
   "display_name": "Python 3",
   "language": "python",
   "name": "python3"
  },
  "language_info": {
   "codemirror_mode": {
    "name": "ipython",
    "version": 3
   },
   "file_extension": ".py",
   "mimetype": "text/x-python",
   "name": "python",
   "nbconvert_exporter": "python",
   "pygments_lexer": "ipython3",
   "version": "3.11.5"
  }
 },
 "nbformat": 4,
 "nbformat_minor": 2
}
