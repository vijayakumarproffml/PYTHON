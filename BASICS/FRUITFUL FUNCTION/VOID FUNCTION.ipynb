{
 "cells": [
  {
   "cell_type": "code",
   "execution_count": 1,
   "metadata": {},
   "outputs": [
    {
     "name": "stdout",
     "output_type": "stream",
     "text": [
      "6\n",
      "6\n",
      "None\n"
     ]
    }
   ],
   "source": [
    "'''\n",
    " program to print the absolute value of the number\n",
    "\n",
    " the absolute value of 6 is 6\n",
    " the absollute value of -6 is also 6\n",
    " it is the magnitude or size of a number\n",
    " |6|=6\n",
    " |-6|=6\n",
    "\n",
    "'''\n",
    "\n",
    "def absolute(x):\n",
    "    if x<0:\n",
    "        return -x # input=-6 (-(-6))=6\n",
    "    if x>0:\n",
    "        return x\n",
    "    \n",
    "print(absolute(-6)) # ithu first condithion stisfy aagi value ah return pannum\n",
    "print(absolute(6)) # ithu 2nd condithion stisfy aagi value ah return pannum\n",
    "print(absolute(0)) # ithuku inga yentha condtion um illa. so condithion stisfy aagathu value ah return pannathu.. athuku pathila none return pannum\n"
   ]
  },
  {
   "cell_type": "code",
   "execution_count": 2,
   "metadata": {},
   "outputs": [
    {
     "name": "stdout",
     "output_type": "stream",
     "text": [
      "hello\n",
      "This is an example forvoid fun\n"
     ]
    }
   ],
   "source": [
    "def simple():\n",
    "    print('hello')\n",
    "    print('This is an example forvoid fun')\n",
    "\n",
    "simple()"
   ]
  }
 ],
 "metadata": {
  "kernelspec": {
   "display_name": "Python 3",
   "language": "python",
   "name": "python3"
  },
  "language_info": {
   "codemirror_mode": {
    "name": "ipython",
    "version": 3
   },
   "file_extension": ".py",
   "mimetype": "text/x-python",
   "name": "python",
   "nbconvert_exporter": "python",
   "pygments_lexer": "ipython3",
   "version": "3.11.5"
  }
 },
 "nbformat": 4,
 "nbformat_minor": 2
}
