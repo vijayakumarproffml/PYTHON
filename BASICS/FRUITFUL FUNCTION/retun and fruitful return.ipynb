{
 "cells": [
  {
   "cell_type": "code",
   "execution_count": 1,
   "metadata": {},
   "outputs": [
    {
     "data": {
      "text/plain": [
       "'\\n    the function that return some value( Fruitful function)\\n    The funcyion that not return value (Non-fruitful fun / void function)\\n\\n\\n\\n'"
      ]
     },
     "execution_count": 1,
     "metadata": {},
     "output_type": "execute_result"
    }
   ],
   "source": [
    "'''\n",
    "    the function that return some value( Fruitful function)\n",
    "    The funcyion that not return value (Non-fruitful fun / void function)\n",
    "    \n",
    "\n",
    "\n",
    "'''"
   ]
  },
  {
   "cell_type": "code",
   "execution_count": 9,
   "metadata": {},
   "outputs": [
    {
     "name": "stdout",
     "output_type": "stream",
     "text": [
      "value of x: 1 value of y: 2 sum: 3\n"
     ]
    }
   ],
   "source": [
    " # ruturn (normal) fruitful function\n",
    "\n",
    "def add(x,y): # formal parameter\n",
    "    var=x+y\n",
    "    return x,y,var\n",
    "a,b,c=add(1,2) # actual parameter or arguments\n",
    "print(\"value of x:\",a,\"value of y:\",b,\"sum:\",c)"
   ]
  },
  {
   "cell_type": "code",
   "execution_count": 10,
   "metadata": {},
   "outputs": [
    {
     "name": "stdout",
     "output_type": "stream",
     "text": [
      "value of x: 1 value of y: 2 sum: 3\n"
     ]
    }
   ],
   "source": [
    "#fruitful return\n",
    "def add(x,y):  # formal parameter\n",
    "    return x,y,x+y\n",
    "a,b,c=add(1,2) # actual parameter or arguments\n",
    "print(\"value of x:\",a,\"value of y:\",b,\"sum:\",c)"
   ]
  },
  {
   "cell_type": "code",
   "execution_count": 11,
   "metadata": {},
   "outputs": [
    {
     "name": "stdout",
     "output_type": "stream",
     "text": [
      "1000\n",
      "1\n",
      "27\n"
     ]
    }
   ],
   "source": [
    "# PARAMETER AND ARGUMENTS\n",
    "\n",
    "def cube(n): # inga cube(n),n vanthu parametr\n",
    "    print(n*n*n)\n",
    "\n",
    "cube(10) # value is passed # inga cubu(10), 10 vanthu argument\n",
    "cube(a) # variable is passed\n",
    "cube(a+2) # expression is pased"
   ]
  }
 ],
 "metadata": {
  "kernelspec": {
   "display_name": "Python 3",
   "language": "python",
   "name": "python3"
  },
  "language_info": {
   "codemirror_mode": {
    "name": "ipython",
    "version": 3
   },
   "file_extension": ".py",
   "mimetype": "text/x-python",
   "name": "python",
   "nbconvert_exporter": "python",
   "pygments_lexer": "ipython3",
   "version": "3.11.5"
  }
 },
 "nbformat": 4,
 "nbformat_minor": 2
}
