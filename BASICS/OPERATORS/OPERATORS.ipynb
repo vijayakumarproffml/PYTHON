{
 "cells": [
  {
   "cell_type": "code",
   "execution_count": 1,
   "metadata": {},
   "outputs": [
    {
     "data": {
      "text/plain": [
       "8"
      ]
     },
     "execution_count": 1,
     "metadata": {},
     "output_type": "execute_result"
    }
   ],
   "source": [
    "# intractive mode la ithu mari short ah potta pothum\n",
    "\n",
    "2**3"
   ]
  },
  {
   "cell_type": "code",
   "execution_count": 1,
   "metadata": {},
   "outputs": [
    {
     "name": "stdout",
     "output_type": "stream",
     "text": [
      "8\n"
     ]
    }
   ],
   "source": [
    "# script mode la short ah panna midiyathu\n",
    "\n",
    "base=int(input(\"enter the base\"))\n",
    "exponentiation=int(input(\"enter the exponentiation\"))\n",
    "'''\n",
    "base=2\n",
    "exp=3\n",
    "final answer get panrathuku ans nu oru keyword assain pannikalam\n",
    "\n",
    "i=o\n",
    "ans=1*2=2\n",
    "\n",
    "i=1\n",
    "ans=2*2=4\n",
    "\n",
    "i=2\n",
    "ans=4*2=8\n",
    "\n",
    "'''\n",
    "ans=1\n",
    "for i in range(exponentiation):\n",
    "    ans=ans*base\n",
    "\n",
    "print(ans)"
   ]
  },
  {
   "cell_type": "code",
   "execution_count": 4,
   "metadata": {},
   "outputs": [
    {
     "name": "stdout",
     "output_type": "stream",
     "text": [
      "total digits in a : 6\n"
     ]
    }
   ],
   "source": [
    "# how many digits aare there in a number\n",
    "\n",
    "'''\n",
    "inga unit digit la irunthu tha count panna porom\n",
    "ovonna eliminate panna porom athuku floor divition use aagum\n",
    "oru element ah eliminate pannanum yendral floor divition la 10 aala divte panna automatic ah eliminate aagirum\n",
    "cont panna value ah remove pannanum athuku tha elimination term use panrom\n",
    "ithu full ah elimate aagura varai loop run aagite irukum\n",
    "\n",
    "123256/10\n",
    "\n",
    "'''\n",
    "\n",
    "a= 123256\n",
    "count=0\n",
    "\n",
    "while a>0:\n",
    "    count=count+1\n",
    "    floor_div=a//10\n",
    "    a=floor_div # inga a udaya old value change aagi floor_div la kidaikira value a la replace aagirum\n",
    "\n",
    "print(\"total digits in a :\",count)"
   ]
  },
  {
   "cell_type": "code",
   "execution_count": 7,
   "metadata": {},
   "outputs": [
    {
     "name": "stdout",
     "output_type": "stream",
     "text": [
      "the sum of digits: 10\n"
     ]
    }
   ],
   "source": [
    "# TO FIND THE SUM OF DIGITS\n",
    "\n",
    "a= 1234\n",
    "sum=0\n",
    "\n",
    "while(a>0):\n",
    "    \n",
    "    remind=a%10\n",
    "\n",
    "    '''\n",
    "      inga reminder kandupidika porom because unit digit la irunthu ovvoru number ah yedukanum\n",
    "      ithu full ah elimate aagura varai loop run aagite irukum\n",
    "      19834 % 10= 4\n",
    "      itha vachu ovoru number ah \n",
    "\n",
    "    '''\n",
    "    sum= sum+remind\n",
    "    div=a//10\n",
    "    a=div\n",
    "    \n",
    "print(\"the sum of digits:\",sum)\n",
    "\n",
    "\"\"\"\n",
    "   1st---> a=1234\n",
    "  while(a>0):\n",
    "      remind= a%10\n",
    "      1234 % 10= 4\n",
    "\n",
    "    sum=sum+remind\n",
    "    sum=0+4=4\n",
    "\n",
    "    div=a//10\n",
    "    1234//10=123\n",
    "\n",
    "    a= 1234 into a=123\n",
    "\n",
    "    a=div\n",
    "    a=123\n",
    "    thirumaba while loop condition check pannum 123>0(True)\n",
    "    loop cintinue aagum\n",
    "\n",
    "   2nd---> a=123\n",
    "  while(a>0):\n",
    "      remind= a%10\n",
    "      123 % 10= 3\n",
    "\n",
    "    sum=sum+remind\n",
    "    sum=4+3=7\n",
    "\n",
    "    div=a//10\n",
    "    123//10=12\n",
    "\n",
    "    a= 123 into a=12\n",
    "\n",
    "    a=div\n",
    "    a=12\n",
    "\n",
    "   3rd---> a=12\n",
    "  while(a>0):\n",
    "      remind= a%10\n",
    "      12 % 10= 2\n",
    "\n",
    "    sum=sum+remind\n",
    "    sum=7+2=9\n",
    "\n",
    "    div=a//10\n",
    "    12//10=1\n",
    "\n",
    "    a= 12 into a=1\n",
    "\n",
    "    a=div\n",
    "    a=1\n",
    "\n",
    "   4th---> a=1\n",
    "  while(a>0):\n",
    "      remind= a%10\n",
    "      1 % 10= 0.1\n",
    "      inga % opertion pannum bothu 10 ah vida 1 smaller so athe value ah return panirum athavathu vagubadum yenn=1\n",
    "\n",
    "    sum=sum+remind\n",
    "    sum=9+1=10\n",
    "\n",
    "    div=a//10\n",
    "    1//10=0.1\n",
    "\n",
    "    a= 1 into a=0.1\n",
    "\n",
    "    a=div\n",
    "    a=0.1\n",
    "\n",
    "    condition Fallse aagi loop end aagirum\n",
    "    next print ststement ku poirum\n",
    "\n",
    "\"\"\"\n",
    "\n"
   ]
  }
 ],
 "metadata": {
  "kernelspec": {
   "display_name": "Python 3",
   "language": "python",
   "name": "python3"
  },
  "language_info": {
   "codemirror_mode": {
    "name": "ipython",
    "version": 3
   },
   "file_extension": ".py",
   "mimetype": "text/x-python",
   "name": "python",
   "nbconvert_exporter": "python",
   "pygments_lexer": "ipython3",
   "version": "3.11.5"
  }
 },
 "nbformat": 4,
 "nbformat_minor": 2
}
