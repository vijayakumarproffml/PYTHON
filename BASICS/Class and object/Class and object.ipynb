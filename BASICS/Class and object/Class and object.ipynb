{
 "cells": [
  {
   "cell_type": "code",
   "execution_count": 5,
   "metadata": {},
   "outputs": [
    {
     "name": "stdout",
     "output_type": "stream",
     "text": [
      "name: vijay\n",
      "drink: no\n",
      "let party.....\n",
      "Enjoy the beach\n"
     ]
    }
   ],
   "source": [
    "class goa():\n",
    "    def party(self):# function\n",
    "        print(\"let party.....\")\n",
    "\n",
    "    def beach(self):# function\n",
    "        print(\"Enjoy the beach\")\n",
    "\n",
    "    name=''   # variable\n",
    "    drink=''  # variable\n",
    "\n",
    "vijay=goa() # vijay=object, goa()=class goa yendra class la irukka \n",
    "            # yella visayngalaium vijay yendra object moolam access athavathu anubavithu kollalam\n",
    "vijay.name='vijay'\n",
    "print('name:',vijay.name)\n",
    "vijay.drink=\"no\"\n",
    "print(\"drink:\",vijay.drink)\n",
    "\n",
    "vijay.party()\n",
    "vijay.beach()"
   ]
  },
  {
   "cell_type": "code",
   "execution_count": 12,
   "metadata": {},
   "outputs": [
    {
     "name": "stdout",
     "output_type": "stream",
     "text": [
      "price of apple: 124000\n",
      "price of Dell: 66000\n",
      "price of lenovo: 230000\n",
      "price of asus: 76000\n"
     ]
    }
   ],
   "source": [
    "class laptop():\n",
    "    price=''\n",
    "    processor=''\n",
    "    ram=''\n",
    "    storage=''\n",
    "\n",
    "apple=laptop()\n",
    "apple.price=\"124000\"\n",
    "print(\"price of apple:\",apple.price)\n",
    "\n",
    "Dell=laptop()\n",
    "Dell.price= \"66000\"\n",
    "print(\"price of Dell:\",Dell.price)\n",
    "\n",
    "lenovo=laptop()\n",
    "lenovo.price= \"230000\"\n",
    "print(\"price of lenovo:\",lenovo.price)\n",
    "\n",
    "asus=laptop()\n",
    "asus.price= \"76000\"\n",
    "print(\"price of asus:\",asus.price)\n",
    "\n",
    "\n"
   ]
  }
 ],
 "metadata": {
  "kernelspec": {
   "display_name": "Python 3",
   "language": "python",
   "name": "python3"
  },
  "language_info": {
   "codemirror_mode": {
    "name": "ipython",
    "version": 3
   },
   "file_extension": ".py",
   "mimetype": "text/x-python",
   "name": "python",
   "nbconvert_exporter": "python",
   "pygments_lexer": "ipython3",
   "version": "3.11.5"
  }
 },
 "nbformat": 4,
 "nbformat_minor": 2
}
