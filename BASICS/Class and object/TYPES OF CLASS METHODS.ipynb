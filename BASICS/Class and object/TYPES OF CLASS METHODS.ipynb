{
 "cells": [
  {
   "cell_type": "code",
   "execution_count": 12,
   "metadata": {},
   "outputs": [
    {
     "name": "stdout",
     "output_type": "stream",
     "text": [
      "220000\n",
      "chargertype changed into b-type\n"
     ]
    }
   ],
   "source": [
    "class laptop:\n",
    "    chargertype=\"c-type\" # class variable\n",
    "\n",
    "    def __init__(self): # comstructor\n",
    "        self.brand=\"\"   # instance variable\n",
    "        self.price=34000 # instance variable\n",
    "    \n",
    "    # instance method\n",
    "    def setprice(self,price): \n",
    "            self.price=price\n",
    "\n",
    "    def getprice(self):\n",
    "         print(self.price)\n",
    "\n",
    "     # class method\n",
    "    \n",
    "    def changechargertype(cls):\n",
    "         cls.chargertype=\"b-type\"\n",
    "         print(\"chargertype changed into b-type\")\n",
    "\n",
    "hp=laptop()\n",
    "hp.setprice(220000)\n",
    "hp.getprice()\n",
    "\n",
    "laptop.changechargertype(laptop)\n"
   ]
  },
  {
   "cell_type": "code",
   "execution_count": 14,
   "metadata": {},
   "outputs": [
    {
     "name": "stdout",
     "output_type": "stream",
     "text": [
      "220000\n",
      "chargertype changed into b-type\n",
      "this is laptop satic class\n"
     ]
    }
   ],
   "source": [
    "class laptop:\n",
    "    chargertype=\"c-type\" # class variable\n",
    "\n",
    "    def __init__(self): # comstructor\n",
    "        self.brand=\"\"   # instance variable\n",
    "        self.price=34000 # instance variable\n",
    "    \n",
    "    # instance method\n",
    "    def setprice(self,price): \n",
    "            self.price=price\n",
    "\n",
    "    def getprice(self):\n",
    "         print(self.price)\n",
    "\n",
    "     # class method\n",
    "    @classmethod # <---------------\n",
    "    def changechargertype(cls):\n",
    "         cls.chargertype=\"b-type\"\n",
    "         print(\"chargertype changed into b-type\")\n",
    "\n",
    "     # static method\n",
    "    @staticmethod # <---------------\n",
    "    def info():\n",
    "         print(\"this is laptop satic class\")\n",
    "\n",
    "hp=laptop()\n",
    "# instance method\n",
    "hp.setprice(220000)\n",
    "hp.getprice()\n",
    "\n",
    "# class method\n",
    "laptop.changechargertype() # <------------------- \n",
    "\n",
    " # static method\n",
    "hp.info()\n"
   ]
  }
 ],
 "metadata": {
  "kernelspec": {
   "display_name": "Python 3",
   "language": "python",
   "name": "python3"
  },
  "language_info": {
   "codemirror_mode": {
    "name": "ipython",
    "version": 3
   },
   "file_extension": ".py",
   "mimetype": "text/x-python",
   "name": "python",
   "nbconvert_exporter": "python",
   "pygments_lexer": "ipython3",
   "version": "3.11.5"
  }
 },
 "nbformat": 4,
 "nbformat_minor": 2
}
