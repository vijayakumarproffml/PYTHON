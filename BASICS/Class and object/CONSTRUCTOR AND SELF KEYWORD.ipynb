{
 "cells": [
  {
   "cell_type": "code",
   "execution_count": null,
   "metadata": {},
   "outputs": [],
   "source": [
    "# syntax for constructor\n",
    "\n",
    "def__init__(self):"
   ]
  },
  {
   "cell_type": "code",
   "execution_count": 7,
   "metadata": {},
   "outputs": [
    {
     "name": "stdout",
     "output_type": "stream",
     "text": [
      "messi is the GOAT\n"
     ]
    }
   ],
   "source": [
    "class messi():\n",
    "    def __init__(self):\n",
    "        print(\"messi is the GOAT\")\n",
    "\n",
    "GOAT=messi()# function calling pannamalaye constructor mooolam print pannalam\n"
   ]
  },
  {
   "cell_type": "code",
   "execution_count": 6,
   "metadata": {},
   "outputs": [
    {
     "name": "stdout",
     "output_type": "stream",
     "text": [
      "specs\n",
      "ram: 6gb\n",
      "processor: i7\n"
     ]
    }
   ],
   "source": [
    "class laptop():\n",
    "    def __init__(self):\n",
    "        self.ram=''\n",
    "        self.processor=''\n",
    "        print(\"specs\")\n",
    "\n",
    "    def display(self):\n",
    "        print(\"ram:\",self.ram)\n",
    "        print(\"processor:\",self.processor)\n",
    "\n",
    "hp=laptop()\n",
    "\n",
    "hp.ram='6gb'\n",
    "hp.processor='i7'\n",
    "\n",
    "hp.display()\n",
    "\n"
   ]
  },
  {
   "cell_type": "code",
   "execution_count": 13,
   "metadata": {},
   "outputs": [
    {
     "name": "stdout",
     "output_type": "stream",
     "text": [
      "name: vijay\n",
      "register number: 5024\n",
      "vijay\n"
     ]
    }
   ],
   "source": [
    "class student():\n",
    "    def __init__(self):\n",
    "        self.name=\"karthi\"\n",
    "        self.regnumber=\"1234\"\n",
    "\n",
    "    def display(self):\n",
    "        print(\"name:\",self.name)\n",
    "        print(\"register number:\",self.regnumber)\n",
    "\n",
    "s1=student()\n",
    "\n",
    "s1.name=\"vijay\"\n",
    "s1.regnumber=\"5024\"\n",
    "s1.display()\n",
    "\n"
   ]
  },
  {
   "cell_type": "code",
   "execution_count": 16,
   "metadata": {},
   "outputs": [
    {
     "name": "stdout",
     "output_type": "stream",
     "text": [
      "karthi\n",
      "1234\n",
      "name: karthi\n",
      "register number: 1234\n"
     ]
    }
   ],
   "source": [
    "class student():\n",
    "    def __init__(self):\n",
    "        self.name=\"karthi\"\n",
    "        self.regnumber=\"1234\"\n",
    "\n",
    "    def display(self):\n",
    "        print(\"name:\",self.name)\n",
    "        print(\"register number:\",self.regnumber)\n",
    "\n",
    "s1=student()\n",
    "\n",
    "print(s1.name)\n",
    "print(s1.regnumber)\n",
    "s1.display()"
   ]
  },
  {
   "cell_type": "code",
   "execution_count": 18,
   "metadata": {},
   "outputs": [
    {
     "ename": "TypeError",
     "evalue": "fruit.__init__() takes 1 positional argument but 2 were given",
     "output_type": "error",
     "traceback": [
      "\u001b[1;31m---------------------------------------------------------------------------\u001b[0m",
      "\u001b[1;31mTypeError\u001b[0m                                 Traceback (most recent call last)",
      "Cell \u001b[1;32mIn[18], line 5\u001b[0m\n\u001b[0;32m      2\u001b[0m     \u001b[39mdef\u001b[39;00m \u001b[39m__init__\u001b[39m(\u001b[39mself\u001b[39m):\n\u001b[0;32m      3\u001b[0m         \u001b[39mself\u001b[39m\u001b[39m.\u001b[39mcolor\u001b[39m=\u001b[39m\u001b[39m\"\u001b[39m\u001b[39mblack\u001b[39m\u001b[39m\"\u001b[39m\n\u001b[1;32m----> 5\u001b[0m apple\u001b[39m=\u001b[39mfruit(\u001b[39m'\u001b[39;49m\u001b[39mred\u001b[39;49m\u001b[39m'\u001b[39;49m)\n\u001b[0;32m      6\u001b[0m \u001b[39mprint\u001b[39m(apple\u001b[39m.\u001b[39mcolor)\n",
      "\u001b[1;31mTypeError\u001b[0m: fruit.__init__() takes 1 positional argument but 2 were given"
     ]
    }
   ],
   "source": [
    "class fruit():\n",
    "    def __init__(self):\n",
    "        self.color=\"black\"\n",
    "\n",
    "apple=fruit('red')\n",
    "print(apple.color)\n"
   ]
  },
  {
   "cell_type": "code",
   "execution_count": 19,
   "metadata": {},
   "outputs": [
    {
     "name": "stdout",
     "output_type": "stream",
     "text": [
      "red\n"
     ]
    }
   ],
   "source": [
    "class fruit():\n",
    "    def __init__(self,col):\n",
    "        self.color=col\n",
    "\n",
    "apple=fruit('red')\n",
    "print(apple.color)\n"
   ]
  },
  {
   "cell_type": "code",
   "execution_count": 24,
   "metadata": {},
   "outputs": [
    {
     "name": "stdout",
     "output_type": "stream",
     "text": [
      "name: vijay\n",
      "regnum: 1234\n",
      "name: karthi\n",
      "regnum: 4321\n"
     ]
    }
   ],
   "source": [
    "class teacher:\n",
    "    def __init__(self,name,reg):\n",
    "        self.name=name\n",
    "        self.regnum=reg\n",
    "\n",
    "    def display(self):\n",
    "        print(\"name:\",self.name)\n",
    "        print(\"regnum:\",self.regnum)\n",
    "\n",
    "t1=teacher('vijay',1234)\n",
    "t2=teacher('karthi',4321)\n",
    "\n",
    "t1.display()\n",
    "t2.display()\n",
    "\n",
    "\n",
    "        "
   ]
  },
  {
   "cell_type": "code",
   "execution_count": 34,
   "metadata": {},
   "outputs": [
    {
     "name": "stdout",
     "output_type": "stream",
     "text": [
      "addition is : 55\n",
      "subtraction is : -11\n",
      "multipication is : 726\n",
      "divition is : 0.6666666666666666\n"
     ]
    }
   ],
   "source": [
    "class calculator:\n",
    "    def __init__(self,a,b):\n",
    "        self.num1=a\n",
    "        self.num2=b\n",
    "\n",
    "    def add(self):\n",
    "        print(\"addition is :\",self.num1+self.num2)\n",
    "\n",
    "    def sub(self):\n",
    "        print(\"subtraction is :\",self.num1-self.num2)\n",
    "\n",
    "    def mul(self):\n",
    "        print(\"multipication is :\",self.num1*self.num2)\n",
    "\n",
    "    def div(self):\n",
    "        print(\"divition is :\",self.num1/self.num2)\n",
    "\n",
    "obj=calculator(22,33)\n",
    "obj.add()\n",
    "obj.sub()\n",
    "obj.mul()\n",
    "obj.div()"
   ]
  },
  {
   "cell_type": "code",
   "execution_count": 32,
   "metadata": {},
   "outputs": [
    {
     "ename": "TypeError",
     "evalue": "calculator() takes no arguments",
     "output_type": "error",
     "traceback": [
      "\u001b[1;31m---------------------------------------------------------------------------\u001b[0m",
      "\u001b[1;31mTypeError\u001b[0m                                 Traceback (most recent call last)",
      "Cell \u001b[1;32mIn[32], line 5\u001b[0m\n\u001b[0;32m      2\u001b[0m     \u001b[39mdef\u001b[39;00m \u001b[39madd\u001b[39m(\u001b[39mself\u001b[39m,a,b):\n\u001b[0;32m      3\u001b[0m          \u001b[39mprint\u001b[39m(a\u001b[39m+\u001b[39mb)\n\u001b[1;32m----> 5\u001b[0m obj\u001b[39m=\u001b[39mcalculator(\u001b[39m22\u001b[39;49m,\u001b[39m22\u001b[39;49m)\n\u001b[0;32m      6\u001b[0m obj\u001b[39m.\u001b[39madd()\n",
      "\u001b[1;31mTypeError\u001b[0m: calculator() takes no arguments"
     ]
    }
   ],
   "source": [
    "class calculator():\n",
    "    def add(self,a,b):\n",
    "         print(a+b)\n",
    "\n",
    "obj=calculator(22,22)\n",
    "obj.add()"
   ]
  },
  {
   "cell_type": "code",
   "execution_count": 35,
   "metadata": {},
   "outputs": [
    {
     "name": "stdout",
     "output_type": "stream",
     "text": [
      "44\n"
     ]
    }
   ],
   "source": [
    "class calculator():\n",
    "    def add(self,a,b):\n",
    "         print(a+b)\n",
    "\n",
    "obj=calculator()\n",
    "obj.add(22,22)"
   ]
  },
  {
   "cell_type": "code",
   "execution_count": 7,
   "metadata": {},
   "outputs": [
    {
     "name": "stdout",
     "output_type": "stream",
     "text": [
      "BRAND : samsung\n",
      "PRICE : 120000\n",
      "CHARGERTYPE : c-type\n",
      "BRAND : iphone\n",
      "PRICE : 120000\n",
      "CHARGERTYPE : c-type\n",
      "BRAND : google\n",
      "PRICE : 120000\n",
      "CHARGERTYPE : c-type\n"
     ]
    }
   ],
   "source": [
    "# INSTANCE VARIABLE AND CLASS VARIBLE\n",
    "\n",
    "class phone():\n",
    "    chargertype='c-type' # class variable\n",
    "\n",
    "    def __init__(self,brand,price):\n",
    "        self.brand=brand # instance variable\n",
    "        self.price=price # instance variable\n",
    "\n",
    "    def display(self):\n",
    "        print(\"BRAND :\",self.brand)\n",
    "        print(\"PRICE :\",self.price)\n",
    "        print(\"CHARGERTYPE :\",self.chargertype)\n",
    "\n",
    "\n",
    "\n",
    "samsung=phone(\"samsung\",120000)\n",
    "iphone=phone(\"iphone\",120000)\n",
    "google=phone(\"google\",120000)\n",
    "\n",
    "samsung.display()\n",
    "iphone.display()\n",
    "google.display()\n",
    "\n",
    "\n"
   ]
  }
 ],
 "metadata": {
  "kernelspec": {
   "display_name": "Python 3",
   "language": "python",
   "name": "python3"
  },
  "language_info": {
   "codemirror_mode": {
    "name": "ipython",
    "version": 3
   },
   "file_extension": ".py",
   "mimetype": "text/x-python",
   "name": "python",
   "nbconvert_exporter": "python",
   "pygments_lexer": "ipython3",
   "version": "3.11.5"
  }
 },
 "nbformat": 4,
 "nbformat_minor": 2
}
