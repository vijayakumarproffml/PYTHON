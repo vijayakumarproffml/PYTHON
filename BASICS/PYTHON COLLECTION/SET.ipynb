{
 "cells": [
  {
   "cell_type": "code",
   "execution_count": 1,
   "metadata": {},
   "outputs": [
    {
     "ename": "TypeError",
     "evalue": "'set' object does not support item assignment",
     "output_type": "error",
     "traceback": [
      "\u001b[1;31m---------------------------------------------------------------------------\u001b[0m",
      "\u001b[1;31mTypeError\u001b[0m                                 Traceback (most recent call last)",
      "Cell \u001b[1;32mIn[1], line 4\u001b[0m\n\u001b[0;32m      1\u001b[0m \u001b[39m#WE CANT MODIFy\u001b[39;00m\n\u001b[0;32m      3\u001b[0m a\u001b[39m=\u001b[39m{\u001b[39m1\u001b[39m,\u001b[39m2\u001b[39m,\u001b[39m3\u001b[39m,\u001b[39m4\u001b[39m,\u001b[39m5\u001b[39m,\u001b[39m7\u001b[39m,\u001b[39m'\u001b[39m\u001b[39mvj\u001b[39m\u001b[39m'\u001b[39m}\n\u001b[1;32m----> 4\u001b[0m a[\u001b[39m0\u001b[39;49m]\u001b[39m=\u001b[39m\u001b[39m11\u001b[39m\n\u001b[0;32m      5\u001b[0m \u001b[39mprint\u001b[39m(a)\n",
      "\u001b[1;31mTypeError\u001b[0m: 'set' object does not support item assignment"
     ]
    }
   ],
   "source": [
    "#WE CANT MODIFy\n",
    "\n",
    "a={1,2,3,4,5,7,'vj'}\n",
    "a[0]=11\n",
    "print(a)"
   ]
  },
  {
   "cell_type": "code",
   "execution_count": 6,
   "metadata": {},
   "outputs": [
    {
     "name": "stdout",
     "output_type": "stream",
     "text": [
      "{1, 2, 3, 4, 5, 'vj', 7, 11}\n"
     ]
    }
   ],
   "source": [
    "# add()\n",
    "\n",
    "a={1,2,3,4,5,7,'vj'}\n",
    "a.add(11)\n",
    "print(a)"
   ]
  },
  {
   "cell_type": "code",
   "execution_count": 9,
   "metadata": {},
   "outputs": [
    {
     "name": "stdout",
     "output_type": "stream",
     "text": [
      "{1, 2, 4, 5, 'vj', 7}\n"
     ]
    }
   ],
   "source": [
    "# remove()\n",
    "\n",
    "a={1,2,3,4,5,7,'vj'}\n",
    "a.remove(3)\n",
    "print(a)"
   ]
  },
  {
   "cell_type": "code",
   "execution_count": 14,
   "metadata": {},
   "outputs": [
    {
     "name": "stdout",
     "output_type": "stream",
     "text": [
      "{2, 3, 4, 5, 'vj', 7}\n"
     ]
    }
   ],
   "source": [
    "# pop()\n",
    "\n",
    "a={1,2,3,4,5,7,'vj'}\n",
    "a.pop()\n",
    "print(a)"
   ]
  },
  {
   "cell_type": "code",
   "execution_count": 16,
   "metadata": {},
   "outputs": [
    {
     "ename": "TypeError",
     "evalue": "set.pop() takes no arguments (1 given)",
     "output_type": "error",
     "traceback": [
      "\u001b[1;31m---------------------------------------------------------------------------\u001b[0m",
      "\u001b[1;31mTypeError\u001b[0m                                 Traceback (most recent call last)",
      "Cell \u001b[1;32mIn[16], line 4\u001b[0m\n\u001b[0;32m      1\u001b[0m \u001b[39m# pop()\u001b[39;00m\n\u001b[0;32m      3\u001b[0m a\u001b[39m=\u001b[39m{\u001b[39m1\u001b[39m,\u001b[39m2\u001b[39m,\u001b[39m3\u001b[39m,\u001b[39m4\u001b[39m,\u001b[39m5\u001b[39m,\u001b[39m7\u001b[39m,\u001b[39m'\u001b[39m\u001b[39mvj\u001b[39m\u001b[39m'\u001b[39m}\n\u001b[1;32m----> 4\u001b[0m a\u001b[39m.\u001b[39;49mpop(\u001b[39m3\u001b[39;49m)\n\u001b[0;32m      5\u001b[0m \u001b[39mprint\u001b[39m(a)\n",
      "\u001b[1;31mTypeError\u001b[0m: set.pop() takes no arguments (1 given)"
     ]
    }
   ],
   "source": [
    "# pop()\n",
    "\n",
    "a={1,2,3,4,5,7,'vj'}\n",
    "a.pop(3)\n",
    "print(a)"
   ]
  }
 ],
 "metadata": {
  "kernelspec": {
   "display_name": "Python 3",
   "language": "python",
   "name": "python3"
  },
  "language_info": {
   "codemirror_mode": {
    "name": "ipython",
    "version": 3
   },
   "file_extension": ".py",
   "mimetype": "text/x-python",
   "name": "python",
   "nbconvert_exporter": "python",
   "pygments_lexer": "ipython3",
   "version": "3.11.5"
  }
 },
 "nbformat": 4,
 "nbformat_minor": 2
}
