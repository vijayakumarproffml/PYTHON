{
 "cells": [
  {
   "cell_type": "code",
   "execution_count": 1,
   "metadata": {},
   "outputs": [
    {
     "name": "stdout",
     "output_type": "stream",
     "text": [
      "After push: [3, 2, 4, 7, 8]\n"
     ]
    },
    {
     "ename": "NameError",
     "evalue": "name 'pop' is not defined",
     "output_type": "error",
     "traceback": [
      "\u001b[1;31m---------------------------------------------------------------------------\u001b[0m",
      "\u001b[1;31mNameError\u001b[0m                                 Traceback (most recent call last)",
      "Cell \u001b[1;32mIn[1], line 28\u001b[0m\n\u001b[0;32m     26\u001b[0m top\u001b[39m=\u001b[39mtop\u001b[39m-\u001b[39m\u001b[39m1\u001b[39m\n\u001b[0;32m     27\u001b[0m \u001b[39m# top_item=pop() inga pop operation kidayathu fun name\u001b[39;00m\n\u001b[1;32m---> 28\u001b[0m top_item\u001b[39m=\u001b[39mpop()\n\u001b[0;32m     29\u001b[0m \u001b[39mprint\u001b[39m(\u001b[39m\"\u001b[39m\u001b[39mAfter pop:\u001b[39m\u001b[39m\"\u001b[39m,stack)\n",
      "\u001b[1;31mNameError\u001b[0m: name 'pop' is not defined"
     ]
    }
   ],
   "source": [
    "# adding value\n",
    "\n",
    "def add_val(stack,no_element,top):\n",
    "    stack.append(no_element)\n",
    "    top+=1\n",
    "    return\n",
    "\n",
    "# removing element\n",
    "\n",
    "def rem_val():\n",
    "    return stack.pop(top)\n",
    "\n",
    "stack=[]\n",
    "top=0\n",
    "\n",
    "# addinf element\n",
    "\n",
    "add_val(stack,3,top)\n",
    "add_val(stack,2,top)\n",
    "add_val(stack,4,top)\n",
    "add_val(stack,7,top)\n",
    "add_val(stack,8,top)\n",
    "\n",
    "print(\"After push:\",stack)\n",
    "\n",
    "top=top-1\n",
    "# top_item=pop() inga pop operation kidayathu fun name\n",
    "top_item=pop()\n",
    "print(\"After pop:\",stack)\n",
    "\n",
    "\n"
   ]
  },
  {
   "cell_type": "code",
   "execution_count": 8,
   "metadata": {},
   "outputs": [
    {
     "name": "stdout",
     "output_type": "stream",
     "text": [
      "After push: [3, 2, 4, 7, 8]\n",
      "After pop: [3, 2, 4, 7]\n",
      "8\n"
     ]
    }
   ],
   "source": [
    "# adding value\n",
    "\n",
    "def add_val(stack,no_element,top):\n",
    "    stack.append(no_element)\n",
    "    top+=1\n",
    "    return\n",
    "\n",
    "# removing element\n",
    "\n",
    "def rem_val():\n",
    "    return stack.pop(top)\n",
    "\n",
    "stack=[]\n",
    "top=0\n",
    "\n",
    "\n",
    "# addinf element\n",
    "\n",
    "add_val(stack,3,top)\n",
    "add_val(stack,2,top)\n",
    "add_val(stack,4,top)\n",
    "add_val(stack,7,top)\n",
    "add_val(stack,8,top)\n",
    "print(\"After push:\",stack)\n",
    "\n",
    "\n",
    "\n",
    "top=top-1\n",
    "# top_item=pop() inga pop operation kidayathu fun name\n",
    "top=rem_val()\n",
    "print(\"After pop:\",stack)\n",
    "print(top)\n",
    "\n",
    "\n",
    "\n"
   ]
  },
  {
   "cell_type": "code",
   "execution_count": 2,
   "metadata": {},
   "outputs": [
    {
     "name": "stdout",
     "output_type": "stream",
     "text": [
      "After push: [3, 2, 4, 7, 8]\n",
      "After pop: [3, 2, 4, 7]\n"
     ]
    }
   ],
   "source": [
    "# adding value\n",
    "\n",
    "def push(stack,no_element,top):\n",
    "    stack.append(no_element)\n",
    "    top+=1\n",
    "    return\n",
    "\n",
    "# removing element\n",
    "\n",
    "def pop():\n",
    "    return nos_stack.pop(top)\n",
    "\n",
    "nos_stack=[]\n",
    "top=0\n",
    "\n",
    "# addinf element\n",
    "\n",
    "add_val(nos_stack,3,top)\n",
    "add_val(nos_stack,2,top)\n",
    "add_val(nos_stack,4,top)\n",
    "add_val(nos_stack,7,top)\n",
    "add_val(nos_stack,8,top)\n",
    "\n",
    "print(\"After push:\",nos_stack)\n",
    "\n",
    "top=top-1\n",
    "top_item=pop()\n",
    "print(\"After pop:\",nos_stack)\n",
    "\n",
    "\n"
   ]
  }
 ],
 "metadata": {
  "kernelspec": {
   "display_name": "Python 3",
   "language": "python",
   "name": "python3"
  },
  "language_info": {
   "codemirror_mode": {
    "name": "ipython",
    "version": 3
   },
   "file_extension": ".py",
   "mimetype": "text/x-python",
   "name": "python",
   "nbconvert_exporter": "python",
   "pygments_lexer": "ipython3",
   "version": "3.11.5"
  }
 },
 "nbformat": 4,
 "nbformat_minor": 2
}
