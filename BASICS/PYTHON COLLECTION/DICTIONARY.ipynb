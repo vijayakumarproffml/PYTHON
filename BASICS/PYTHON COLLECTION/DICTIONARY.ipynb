{
 "cells": [
  {
   "cell_type": "code",
   "execution_count": 2,
   "metadata": {},
   "outputs": [
    {
     "name": "stdout",
     "output_type": "stream",
     "text": [
      "{'name': 'vijay', 'age': 23, 'location': 'india', 'studies': ['10th', '12th', 'B.E']}\n"
     ]
    }
   ],
   "source": [
    "a={\n",
    "    \"name\":\"vijay\",\n",
    "    \"age\":23,\n",
    "    \"location\":\"india\",\n",
    "    \"studies\":[\"10th\",\"12th\",\"B.E\"]\n",
    "\n",
    "} # key:value\n",
    "print(a)"
   ]
  },
  {
   "cell_type": "code",
   "execution_count": 6,
   "metadata": {},
   "outputs": [
    {
     "name": "stdout",
     "output_type": "stream",
     "text": [
      "dict_values(['vijay', 23, 'india', ['10th', '12th', 'B.E']])\n"
     ]
    }
   ],
   "source": [
    "# keys()\n",
    "\n",
    "a={\n",
    "    \"name\":\"vijay\",\n",
    "    \"age\":23,\n",
    "    \"location\":\"india\",\n",
    "    \"studies\":[\"10th\",\"12th\",\"B.E\"]\n",
    "\n",
    "} # key:value\n",
    "print(a.values())\n",
    "\n",
    "\n"
   ]
  },
  {
   "cell_type": "code",
   "execution_count": 7,
   "metadata": {},
   "outputs": [
    {
     "name": "stdout",
     "output_type": "stream",
     "text": [
      "dict_values(['vijay', 23, 'india', ['10th', '12th', 'B.E']])\n"
     ]
    }
   ],
   "source": [
    "# values()\n",
    "\n",
    "a={\n",
    "    \"name\":\"vijay\",\n",
    "    \"age\":23,\n",
    "    \"location\":\"india\",\n",
    "    \"studies\":[\"10th\",\"12th\",\"B.E\"]\n",
    "\n",
    "} # key:value\n",
    "\n",
    "print(a.values())\n",
    "\n"
   ]
  },
  {
   "cell_type": "code",
   "execution_count": 10,
   "metadata": {},
   "outputs": [
    {
     "name": "stdout",
     "output_type": "stream",
     "text": [
      "{'name': 'vijay', 'age': 20, 'location': 'india', 'studies': ['10th', '12th', 'B.E']}\n"
     ]
    }
   ],
   "source": [
    "# modify panna mudium\n",
    "\n",
    "a={\n",
    "    \"name\":\"vijay\",\n",
    "    \"age\":23,\n",
    "    \"location\":\"india\",\n",
    "    \"studies\":[\"10th\",\"12th\",\"B.E\"]\n",
    "\n",
    "} # key:value\n",
    "a[\"age\"]=20\n",
    "print(a)\n",
    "\n"
   ]
  },
  {
   "cell_type": "code",
   "execution_count": 12,
   "metadata": {},
   "outputs": [
    {
     "name": "stdout",
     "output_type": "stream",
     "text": [
      "{'name': 'vijay', 'age': 19, 'location': 'india', 'studies': ['10th', '12th', 'B.E']}\n"
     ]
    }
   ],
   "source": [
    "# modify panna mudium, modify and update process are same\n",
    "\n",
    "a={\n",
    "    \"name\":\"vijay\",\n",
    "    \"age\":23,\n",
    "    \"location\":\"india\",\n",
    "    \"studies\":[\"10th\",\"12th\",\"B.E\"]\n",
    "\n",
    "} # key:value\n",
    "a.update({\"age\":19})\n",
    "print(a)\n",
    "\n"
   ]
  },
  {
   "cell_type": "code",
   "execution_count": 11,
   "metadata": {},
   "outputs": [
    {
     "name": "stdout",
     "output_type": "stream",
     "text": [
      "{'name': 'vijay', 'age': 23, 'location': 'india', 'studies': ['10th', '12th', 'B.E'], 'color': 'black'}\n"
     ]
    }
   ],
   "source": [
    "# puthusa keys and values \"add\" panna mudium\n",
    "\n",
    "a={\n",
    "    \"name\":\"vijay\",\n",
    "    \"age\":23,\n",
    "    \"location\":\"india\",\n",
    "    \"studies\":[\"10th\",\"12th\",\"B.E\"]\n",
    "\n",
    "} # key:value\n",
    "a[\"color\"]=\"black\"\n",
    "print(a)\n",
    "\n"
   ]
  },
  {
   "cell_type": "code",
   "execution_count": 14,
   "metadata": {},
   "outputs": [
    {
     "name": "stdout",
     "output_type": "stream",
     "text": [
      "{'name': 'vijay', 'location': 'india', 'studies': ['10th', '12th', 'B.E']}\n"
     ]
    }
   ],
   "source": [
    "# del\n",
    "a={\n",
    "    \"name\":\"vijay\",\n",
    "    \"age\":23,\n",
    "    \"location\":\"india\",\n",
    "    \"studies\":[\"10th\",\"12th\",\"B.E\"]\n",
    "\n",
    "} # key:value\n",
    "del a[\"age\"]\n",
    "print(a)\n",
    "\n"
   ]
  },
  {
   "cell_type": "code",
   "execution_count": 15,
   "metadata": {},
   "outputs": [
    {
     "name": "stdout",
     "output_type": "stream",
     "text": [
      "{'name': 'vijay', 'location': 'india', 'studies': ['10th', '12th', 'B.E']}\n"
     ]
    }
   ],
   "source": [
    "# pop()\n",
    "a={\n",
    "    \"name\":\"vijay\",\n",
    "    \"age\":23,\n",
    "    \"location\":\"india\",\n",
    "    \"studies\":[\"10th\",\"12th\",\"B.E\"]\n",
    "\n",
    "} # key:value\n",
    "a.pop(\"age\")\n",
    "print(a)\n",
    "\n"
   ]
  },
  {
   "cell_type": "code",
   "execution_count": 17,
   "metadata": {},
   "outputs": [
    {
     "ename": "TypeError",
     "evalue": "pop expected at least 1 argument, got 0",
     "output_type": "error",
     "traceback": [
      "\u001b[1;31m---------------------------------------------------------------------------\u001b[0m",
      "\u001b[1;31mTypeError\u001b[0m                                 Traceback (most recent call last)",
      "Cell \u001b[1;32mIn[17], line 9\u001b[0m\n\u001b[0;32m      1\u001b[0m \u001b[39m# pop()\u001b[39;00m\n\u001b[0;32m      2\u001b[0m a\u001b[39m=\u001b[39m{\n\u001b[0;32m      3\u001b[0m     \u001b[39m\"\u001b[39m\u001b[39mname\u001b[39m\u001b[39m\"\u001b[39m:\u001b[39m\"\u001b[39m\u001b[39mvijay\u001b[39m\u001b[39m\"\u001b[39m,\n\u001b[0;32m      4\u001b[0m     \u001b[39m\"\u001b[39m\u001b[39mage\u001b[39m\u001b[39m\"\u001b[39m:\u001b[39m23\u001b[39m,\n\u001b[1;32m   (...)\u001b[0m\n\u001b[0;32m      7\u001b[0m \n\u001b[0;32m      8\u001b[0m } \u001b[39m# key:value\u001b[39;00m\n\u001b[1;32m----> 9\u001b[0m a\u001b[39m.\u001b[39;49mpop()  \u001b[39m#ithula index value work aagathu because inga keys and value machanisum work aagum\u001b[39;00m\n\u001b[0;32m     10\u001b[0m \u001b[39mprint\u001b[39m(a)\n",
      "\u001b[1;31mTypeError\u001b[0m: pop expected at least 1 argument, got 0"
     ]
    }
   ],
   "source": [
    "# pop()\n",
    "a={\n",
    "    \"name\":\"vijay\",\n",
    "    \"age\":23,\n",
    "    \"location\":\"india\",\n",
    "    \"studies\":[\"10th\",\"12th\",\"B.E\"]\n",
    "\n",
    "} # key:value\n",
    "a.pop()  #ithula index value work aagathu because inga keys and value machanisum work aagum\n",
    "print(a)\n",
    "\n"
   ]
  },
  {
   "cell_type": "code",
   "execution_count": 1,
   "metadata": {},
   "outputs": [
    {
     "name": "stdout",
     "output_type": "stream",
     "text": [
      "{'name': 'vijay', 'age': 23, 'location': 'india', 'studies': ['10th', '12th', 'B.E']}\n"
     ]
    },
    {
     "ename": "NameError",
     "evalue": "name 'b' is not defined",
     "output_type": "error",
     "traceback": [
      "\u001b[1;31m---------------------------------------------------------------------------\u001b[0m",
      "\u001b[1;31mNameError\u001b[0m                                 Traceback (most recent call last)",
      "Cell \u001b[1;32mIn[1], line 18\u001b[0m\n\u001b[0;32m     16\u001b[0m \u001b[39mdel\u001b[39;00m b\n\u001b[0;32m     17\u001b[0m \u001b[39mprint\u001b[39m(a)\n\u001b[1;32m---> 18\u001b[0m \u001b[39mprint\u001b[39m(b)\n",
      "\u001b[1;31mNameError\u001b[0m: name 'b' is not defined"
     ]
    }
   ],
   "source": [
    "# entire dictionary ah compleate ah delete panna \n",
    "a={\n",
    "    \"name\":\"vijay\",\n",
    "    \"age\":23,\n",
    "    \"location\":\"india\",\n",
    "    \"studies\":[\"10th\",\"12th\",\"B.E\"]\n",
    "\n",
    "} # key:value\n",
    "b={\n",
    "    \"name\":\"kumar\",\n",
    "    \"age\":20,\n",
    "    \"location\":\"india\",\n",
    "    \"studies\":[\"10th\",\"12th\",\"B.E\"]\n",
    "\n",
    "} # key:value\n",
    "del b\n",
    "print(a)\n",
    "print(b)\n",
    "\n"
   ]
  },
  {
   "cell_type": "code",
   "execution_count": 2,
   "metadata": {},
   "outputs": [
    {
     "name": "stdout",
     "output_type": "stream",
     "text": [
      "{}\n",
      "{'name': 'kumar', 'age': 20, 'location': 'india', 'studies': ['10th', '12th', 'B.E']}\n"
     ]
    }
   ],
   "source": [
    "# entire item ah compleate ah delete panna \n",
    "a={\n",
    "    \"name\":\"vijay\",\n",
    "    \"age\":23,\n",
    "    \"location\":\"india\",\n",
    "    \"studies\":[\"10th\",\"12th\",\"B.E\"]\n",
    "\n",
    "} # key:value\n",
    "b={\n",
    "    \"name\":\"kumar\",\n",
    "    \"age\":20,\n",
    "    \"location\":\"india\",\n",
    "    \"studies\":[\"10th\",\"12th\",\"B.E\"]\n",
    "\n",
    "} # key:value\n",
    "a.clear()\n",
    "print(a)\n",
    "print(b)\n",
    "\n"
   ]
  },
  {
   "cell_type": "code",
   "execution_count": 3,
   "metadata": {},
   "outputs": [
    {
     "ename": "NameError",
     "evalue": "name 'cmp' is not defined",
     "output_type": "error",
     "traceback": [
      "\u001b[1;31m---------------------------------------------------------------------------\u001b[0m",
      "\u001b[1;31mNameError\u001b[0m                                 Traceback (most recent call last)",
      "Cell \u001b[1;32mIn[3], line 3\u001b[0m\n\u001b[0;32m      1\u001b[0m d1\u001b[39m=\u001b[39m{\u001b[39m'\u001b[39m\u001b[39mname\u001b[39m\u001b[39m'\u001b[39m:\u001b[39m'\u001b[39m\u001b[39mvj\u001b[39m\u001b[39m'\u001b[39m,\u001b[39m'\u001b[39m\u001b[39mage\u001b[39m\u001b[39m'\u001b[39m:\u001b[39m'\u001b[39m\u001b[39m23\u001b[39m\u001b[39m'\u001b[39m,\u001b[39m'\u001b[39m\u001b[39mpassion\u001b[39m\u001b[39m'\u001b[39m:\u001b[39m'\u001b[39m\u001b[39mmillionire\u001b[39m\u001b[39m'\u001b[39m}\n\u001b[0;32m      2\u001b[0m d2\u001b[39m=\u001b[39m{\u001b[39m'\u001b[39m\u001b[39mname\u001b[39m\u001b[39m'\u001b[39m:\u001b[39m'\u001b[39m\u001b[39mkum\u001b[39m\u001b[39m'\u001b[39m,\u001b[39m'\u001b[39m\u001b[39mage\u001b[39m\u001b[39m'\u001b[39m:\u001b[39m'\u001b[39m\u001b[39m29\u001b[39m\u001b[39m'\u001b[39m,\u001b[39m'\u001b[39m\u001b[39mpassion\u001b[39m\u001b[39m'\u001b[39m:\u001b[39m'\u001b[39m\u001b[39mwealth\u001b[39m\u001b[39m'\u001b[39m}\n\u001b[1;32m----> 3\u001b[0m \u001b[39mprint\u001b[39m(cmp(d1,d2))\n",
      "\u001b[1;31mNameError\u001b[0m: name 'cmp' is not defined"
     ]
    }
   ],
   "source": [
    "\n",
    "d1={'name':'vj','age':'23','passion':'millionire'}\n",
    "d2={'name':'kum','age':'29','passion':'wealth'}\n",
    "print(cmp(d1,d2))"
   ]
  }
 ],
 "metadata": {
  "kernelspec": {
   "display_name": "Python 3",
   "language": "python",
   "name": "python3"
  },
  "language_info": {
   "codemirror_mode": {
    "name": "ipython",
    "version": 3
   },
   "file_extension": ".py",
   "mimetype": "text/x-python",
   "name": "python",
   "nbconvert_exporter": "python",
   "pygments_lexer": "ipython3",
   "version": "3.11.5"
  }
 },
 "nbformat": 4,
 "nbformat_minor": 2
}
