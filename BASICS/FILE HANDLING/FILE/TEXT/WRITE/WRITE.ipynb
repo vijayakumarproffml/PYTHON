{
 "cells": [
  {
   "cell_type": "code",
   "execution_count": 23,
   "metadata": {},
   "outputs": [
    {
     "data": {
      "text/plain": [
       "<function TextIOWrapper.close()>"
      ]
     },
     "execution_count": 23,
     "metadata": {},
     "output_type": "execute_result"
    }
   ],
   "source": [
    "'''\n",
    "\n",
    "Write mode la um file create panalam\n",
    "\n",
    "'''\n",
    "vj1=open(\"create_a_file\",\"w\")\n",
    "vj1.write('im the best')\n",
    "vj1.close # <function TextIOWrapper.close()> intha mari vantha error, proper ah save aagathu empty file ah ve tha irukum"
   ]
  },
  {
   "cell_type": "code",
   "execution_count": 24,
   "metadata": {},
   "outputs": [],
   "source": [
    "\n",
    "file1=open(\"names.txt\",\"w\")\n",
    "file1.write(\"create\\n\")\n",
    "file1.close()"
   ]
  },
  {
   "cell_type": "code",
   "execution_count": 1,
   "metadata": {},
   "outputs": [
    {
     "name": "stdout",
     "output_type": "stream",
     "text": [
      "None"
     ]
    }
   ],
   "source": [
    "# list ah text file la add panrathuku writelines spece venum na example kumar lu munnadi space vidanum\n",
    "\n",
    "l1=[\"vj\",\" kumar\"]\n",
    "file3=open(\"names.txt\",\"a\")\n",
    "print(file3.writelines(l1),end=\"\")\n",
    "file3.close()"
   ]
  },
  {
   "cell_type": "code",
   "execution_count": 27,
   "metadata": {},
   "outputs": [
    {
     "ename": "TypeError",
     "evalue": "write() argument must be str, not list",
     "output_type": "error",
     "traceback": [
      "\u001b[1;31m---------------------------------------------------------------------------\u001b[0m",
      "\u001b[1;31mTypeError\u001b[0m                                 Traceback (most recent call last)",
      "Cell \u001b[1;32mIn[27], line 5\u001b[0m\n\u001b[0;32m      3\u001b[0m l1\u001b[39m=\u001b[39m[\u001b[39m\"\u001b[39m\u001b[39mvj\u001b[39m\u001b[39m\"\u001b[39m,\u001b[39m\"\u001b[39m\u001b[39mkumar\u001b[39m\u001b[39m\"\u001b[39m]\n\u001b[0;32m      4\u001b[0m file2\u001b[39m=\u001b[39m\u001b[39mopen\u001b[39m(\u001b[39m\"\u001b[39m\u001b[39mnames.txt\u001b[39m\u001b[39m\"\u001b[39m,\u001b[39m\"\u001b[39m\u001b[39mw\u001b[39m\u001b[39m\"\u001b[39m)\n\u001b[1;32m----> 5\u001b[0m file2\u001b[39m.\u001b[39;49mwrite(l1)\n\u001b[0;32m      6\u001b[0m file2\u001b[39m.\u001b[39mclose()\n",
      "\u001b[1;31mTypeError\u001b[0m: write() argument must be str, not list"
     ]
    }
   ],
   "source": [
    "# list ah text file la add panrathuku writelines, verum write matum potal error varum\n",
    "\n",
    "l1=[\"vj\",\"kumar\"]\n",
    "file2=open(\"names.txt\",\"w\")\n",
    "file2.write(l1)\n",
    "file2.close()"
   ]
  },
  {
   "cell_type": "code",
   "execution_count": null,
   "metadata": {},
   "outputs": [],
   "source": [
    "# ithuvaraikum pathathu puthusa kudukura value palaya value ah overwrite panni tha save aagum, atha thavirkka...."
   ]
  },
  {
   "cell_type": "code",
   "execution_count": 2,
   "metadata": {},
   "outputs": [],
   "source": [
    "\n",
    "file4=open(\"names.txt\",\"a\")\n",
    "file4.write(\"create\\n\")\n",
    "file4.close()"
   ]
  },
  {
   "cell_type": "code",
   "execution_count": 3,
   "metadata": {},
   "outputs": [],
   "source": [
    "# OVVORU LINE AH PRINT PANNA\n",
    "\n",
    "file5=open(\"names.txt\",\"a\")\n",
    "file5.write(\"apple\\n\")\n",
    "file5.write(\"orange\\n\")\n",
    "file5.close()\n",
    "\n"
   ]
  },
  {
   "cell_type": "code",
   "execution_count": 4,
   "metadata": {},
   "outputs": [
    {
     "name": "stdout",
     "output_type": "stream",
     "text": [
      "vjkumarvj kumarcreate\n",
      "\n"
     ]
    }
   ],
   "source": [
    "# READ AND WRITE (r+)\n",
    "file6=open(\"names.txt\",\"r+\")\n",
    "print(file6.readline())\n",
    "file6.close() \n"
   ]
  }
 ],
 "metadata": {
  "kernelspec": {
   "display_name": "Python 3",
   "language": "python",
   "name": "python3"
  },
  "language_info": {
   "codemirror_mode": {
    "name": "ipython",
    "version": 3
   },
   "file_extension": ".py",
   "mimetype": "text/x-python",
   "name": "python",
   "nbconvert_exporter": "python",
   "pygments_lexer": "ipython3",
   "version": "3.11.5"
  }
 },
 "nbformat": 4,
 "nbformat_minor": 2
}
