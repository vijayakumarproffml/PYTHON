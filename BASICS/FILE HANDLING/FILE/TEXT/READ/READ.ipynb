{
 "cells": [
  {
   "cell_type": "code",
   "execution_count": 27,
   "metadata": {},
   "outputs": [
    {
     "data": {
      "text/plain": [
       "''"
      ]
     },
     "execution_count": 27,
     "metadata": {},
     "output_type": "execute_result"
    }
   ],
   "source": [
    "'''\n",
    "\n",
    "illatha file name kuduthu read panna sonna error varum, athe write oh append oh panna sonna antha name ku new file create panirum\n",
    "\n",
    "'''"
   ]
  },
  {
   "cell_type": "code",
   "execution_count": 2,
   "metadata": {},
   "outputs": [],
   "source": [
    "file=open(\"read_new.txt\",\"x\")\n",
    "file.close()"
   ]
  },
  {
   "cell_type": "code",
   "execution_count": 9,
   "metadata": {},
   "outputs": [],
   "source": [
    "# read\n",
    "\n",
    "file8=open(\"read_new.txt\",\"w\")\n",
    "file8.write(\"Vijay\\nB.E EEE\\nBillionire\\n\")\n",
    "file8.close() \n"
   ]
  },
  {
   "cell_type": "code",
   "execution_count": 10,
   "metadata": {},
   "outputs": [
    {
     "name": "stdout",
     "output_type": "stream",
     "text": [
      "['Vijay\\n', 'B.E EEE\\n', 'Billionire\\n']\n"
     ]
    }
   ],
   "source": [
    "# readlines\n",
    "\n",
    "file9=open(\"read_new.txt\",\"r\")\n",
    "print(file9.readlines())\n",
    "file9.close() \n"
   ]
  },
  {
   "cell_type": "code",
   "execution_count": 12,
   "metadata": {},
   "outputs": [
    {
     "name": "stdout",
     "output_type": "stream",
     "text": [
      "Vijay\n",
      "\n"
     ]
    }
   ],
   "source": [
    "# readline itha oru value matum print pannum\n",
    "\n",
    "file10=open(\"read_new.txt\",\"r\")\n",
    "print(file10.readline())\n",
    "file10.close() \n"
   ]
  },
  {
   "cell_type": "code",
   "execution_count": 15,
   "metadata": {},
   "outputs": [
    {
     "name": "stdout",
     "output_type": "stream",
     "text": [
      "Vij\n"
     ]
    }
   ],
   "source": [
    "# readline itha oru value matum print pannum\n",
    "\n",
    "file11=open(\"read_new.txt\",\"r\")\n",
    "print(file11.readline(3))\n",
    "file11.close() \n"
   ]
  },
  {
   "cell_type": "code",
   "execution_count": 16,
   "metadata": {},
   "outputs": [
    {
     "ename": "ValueError",
     "evalue": "I/O operation on closed file.",
     "output_type": "error",
     "traceback": [
      "\u001b[1;31m---------------------------------------------------------------------------\u001b[0m",
      "\u001b[1;31mValueError\u001b[0m                                Traceback (most recent call last)",
      "Cell \u001b[1;32mIn[16], line 1\u001b[0m\n\u001b[1;32m----> 1\u001b[0m \u001b[39mprint\u001b[39m(file11\u001b[39m.\u001b[39;49mreadline(\u001b[39m3\u001b[39;49m))\n",
      "\u001b[1;31mValueError\u001b[0m: I/O operation on closed file."
     ]
    }
   ],
   "source": [
    "print(file11.readline(3))\n"
   ]
  },
  {
   "cell_type": "code",
   "execution_count": 17,
   "metadata": {},
   "outputs": [
    {
     "name": "stdout",
     "output_type": "stream",
     "text": [
      "Vij\n"
     ]
    }
   ],
   "source": [
    "# readline itha oru value matum print pannum\n",
    "\n",
    "file11=open(\"read_new.txt\",\"r\")\n",
    "print(file11.readline(3))\n"
   ]
  },
  {
   "cell_type": "code",
   "execution_count": 18,
   "metadata": {},
   "outputs": [
    {
     "name": "stdout",
     "output_type": "stream",
     "text": [
      "ay\n",
      "\n"
     ]
    }
   ],
   "source": [
    "print(file11.readline(3))\n"
   ]
  },
  {
   "cell_type": "code",
   "execution_count": 19,
   "metadata": {},
   "outputs": [
    {
     "name": "stdout",
     "output_type": "stream",
     "text": [
      "B.E\n"
     ]
    }
   ],
   "source": [
    "print(file11.readline(3))\n"
   ]
  },
  {
   "cell_type": "code",
   "execution_count": 20,
   "metadata": {},
   "outputs": [
    {
     "name": "stdout",
     "output_type": "stream",
     "text": [
      " E\n"
     ]
    }
   ],
   "source": [
    "print(file11.readline(2))\n"
   ]
  },
  {
   "cell_type": "code",
   "execution_count": 21,
   "metadata": {},
   "outputs": [
    {
     "name": "stdout",
     "output_type": "stream",
     "text": [
      "EE\n",
      "\n"
     ]
    }
   ],
   "source": [
    "print(file11.readline(3))\n"
   ]
  },
  {
   "cell_type": "code",
   "execution_count": 22,
   "metadata": {},
   "outputs": [
    {
     "name": "stdout",
     "output_type": "stream",
     "text": [
      "Bil\n"
     ]
    }
   ],
   "source": [
    "print(file11.readline(3))\n"
   ]
  },
  {
   "cell_type": "code",
   "execution_count": 25,
   "metadata": {},
   "outputs": [
    {
     "name": "stdout",
     "output_type": "stream",
     "text": [
      "Vijay\n",
      "\n",
      "B.E EEE\n",
      "\n",
      "Billionire\n",
      "\n"
     ]
    }
   ],
   "source": [
    "#looping through\n",
    "\n",
    "file11=open(\"read_new.txt\",\"r\")\n",
    "\n",
    "for i in file11:\n",
    "    print(i)\n"
   ]
  },
  {
   "cell_type": "code",
   "execution_count": 26,
   "metadata": {},
   "outputs": [],
   "source": [
    "# oru file la iruka all data va copy panni, inoru file create panni athula podurathu\n",
    "\n",
    "# First file ah read pannanum\n",
    "\n",
    "file11=open(\"read_new.txt\",\"r\")\n",
    "\n",
    "# next inoru file la poi copy aagurathu ku write pannanum\n",
    "\n",
    "w2=open(\"read_new 2.txt\",\"w\")\n",
    "\n",
    "for i in file11:\n",
    "    w2.write(i)"
   ]
  }
 ],
 "metadata": {
  "kernelspec": {
   "display_name": "Python 3",
   "language": "python",
   "name": "python3"
  },
  "language_info": {
   "codemirror_mode": {
    "name": "ipython",
    "version": 3
   },
   "file_extension": ".py",
   "mimetype": "text/x-python",
   "name": "python",
   "nbconvert_exporter": "python",
   "pygments_lexer": "ipython3",
   "version": "3.11.5"
  }
 },
 "nbformat": 4,
 "nbformat_minor": 2
}
