{
 "cells": [
  {
   "cell_type": "code",
   "execution_count": null,
   "metadata": {},
   "outputs": [],
   "source": [
    "'''\n",
    "first oru file create pannanum yendral, open pannanum,then file create(x) panni content add pannanum(w),then read pannalam(r),then final ah file ah close pannanum\n",
    "\n",
    "'''"
   ]
  },
  {
   "cell_type": "code",
   "execution_count": 2,
   "metadata": {},
   "outputs": [
    {
     "data": {
      "text/plain": [
       "'\\n\\nType of files: text,image,audio,video,document,presentation,zip,html,pdf,executable\\n\\n'"
      ]
     },
     "execution_count": 2,
     "metadata": {},
     "output_type": "execute_result"
    }
   ],
   "source": [
    "'''\n",
    "\n",
    "Type of files: text,image,audio,video,document,presentation,zip,html,pdf,executable\n",
    "\n",
    "'''"
   ]
  },
  {
   "cell_type": "code",
   "execution_count": 3,
   "metadata": {},
   "outputs": [
    {
     "data": {
      "text/plain": [
       "'\\n\\nMODES OF FILES: create,read,write,append\\n\\n'"
      ]
     },
     "execution_count": 3,
     "metadata": {},
     "output_type": "execute_result"
    }
   ],
   "source": [
    "'''\n",
    "\n",
    "MODES OF FILES: create=x,read=r,write=w,append=a\n",
    "r+= read and write\n",
    "w+=write and read\n",
    "a+= append and read\n",
    "\n",
    "'''"
   ]
  },
  {
   "cell_type": "code",
   "execution_count": 4,
   "metadata": {},
   "outputs": [
    {
     "data": {
      "text/plain": [
       "'\\n\\nOPERATION OF FILES: CRUD\\n\\ncreate\\nread\\nupdating\\ndeleting\\n\\n'"
      ]
     },
     "execution_count": 4,
     "metadata": {},
     "output_type": "execute_result"
    }
   ],
   "source": [
    "'''\n",
    "\n",
    "OPERATION OF FILES: CRUD\n",
    "\n",
    "create\n",
    "read\n",
    "updating\n",
    "deleting\n",
    "\n",
    "'''"
   ]
  },
  {
   "cell_type": "code",
   "execution_count": 11,
   "metadata": {},
   "outputs": [],
   "source": [
    "'''\n",
    "\n",
    "CREATING A FILE\n",
    "\n",
    "file object or pointer= open(\"filename,\"access mode\")\n",
    "\n",
    "'''\n",
    "\n",
    "vj=open(\"create_a_file\",\"x\") # file name\n"
   ]
  },
  {
   "cell_type": "code",
   "execution_count": 12,
   "metadata": {},
   "outputs": [
    {
     "ename": "FileExistsError",
     "evalue": "[Errno 17] File exists: 'create_a_file'",
     "output_type": "error",
     "traceback": [
      "\u001b[1;31m---------------------------------------------------------------------------\u001b[0m",
      "\u001b[1;31mFileExistsError\u001b[0m                           Traceback (most recent call last)",
      "Cell \u001b[1;32mIn[12], line 3\u001b[0m\n\u001b[0;32m      1\u001b[0m \u001b[39m'''\u001b[39;00m\n\u001b[0;32m      2\u001b[0m \u001b[39m'''\u001b[39;00m\n\u001b[1;32m----> 3\u001b[0m vj\u001b[39m=\u001b[39m\u001b[39mopen\u001b[39;49m(\u001b[39m\"\u001b[39;49m\u001b[39mcreate_a_file\u001b[39;49m\u001b[39m\"\u001b[39;49m,\u001b[39m\"\u001b[39;49m\u001b[39mx\u001b[39;49m\u001b[39m\"\u001b[39;49m) \u001b[39m# file name\u001b[39;00m\n",
      "File \u001b[1;32m~\\AppData\\Roaming\\Python\\Python311\\site-packages\\IPython\\core\\interactiveshell.py:310\u001b[0m, in \u001b[0;36m_modified_open\u001b[1;34m(file, *args, **kwargs)\u001b[0m\n\u001b[0;32m    303\u001b[0m \u001b[39mif\u001b[39;00m file \u001b[39min\u001b[39;00m {\u001b[39m0\u001b[39m, \u001b[39m1\u001b[39m, \u001b[39m2\u001b[39m}:\n\u001b[0;32m    304\u001b[0m     \u001b[39mraise\u001b[39;00m \u001b[39mValueError\u001b[39;00m(\n\u001b[0;32m    305\u001b[0m         \u001b[39mf\u001b[39m\u001b[39m\"\u001b[39m\u001b[39mIPython won\u001b[39m\u001b[39m'\u001b[39m\u001b[39mt let you open fd=\u001b[39m\u001b[39m{\u001b[39;00mfile\u001b[39m}\u001b[39;00m\u001b[39m by default \u001b[39m\u001b[39m\"\u001b[39m\n\u001b[0;32m    306\u001b[0m         \u001b[39m\"\u001b[39m\u001b[39mas it is likely to crash IPython. If you know what you are doing, \u001b[39m\u001b[39m\"\u001b[39m\n\u001b[0;32m    307\u001b[0m         \u001b[39m\"\u001b[39m\u001b[39myou can use builtins\u001b[39m\u001b[39m'\u001b[39m\u001b[39m open.\u001b[39m\u001b[39m\"\u001b[39m\n\u001b[0;32m    308\u001b[0m     )\n\u001b[1;32m--> 310\u001b[0m \u001b[39mreturn\u001b[39;00m io_open(file, \u001b[39m*\u001b[39;49margs, \u001b[39m*\u001b[39;49m\u001b[39m*\u001b[39;49mkwargs)\n",
      "\u001b[1;31mFileExistsError\u001b[0m: [Errno 17] File exists: 'create_a_file'"
     ]
    }
   ],
   "source": [
    "'''\n",
    "thirumba run pannal error varum because file nama kudukura name la already oru file iruku\n",
    "\n",
    "'''\n",
    "vj=open(\"create_a_file\",\"x\") # file name\n"
   ]
  },
  {
   "cell_type": "code",
   "execution_count": 17,
   "metadata": {},
   "outputs": [],
   "source": [
    "'''\n",
    "Empty file la contend add panrathu\n",
    "writing a file\n",
    "\n",
    "'''\n",
    "vj=open(\"create_a_file.txt\",\"w\") # file name\n",
    "vj.write(\"hello world\")\n",
    "vj.close() # output pakanum na file ah open panni pakanum"
   ]
  },
  {
   "cell_type": "code",
   "execution_count": 21,
   "metadata": {},
   "outputs": [],
   "source": [
    "\"\"\"\n",
    "kuripitta folder la create pannanumyendral antha file location ah copy panni paste pannanum\n",
    "vj=open(\"D:\\PYTHON\\BASICS\\FILE HANDLING(file location for create) newone.txt\"(file name),\"w\") # file name\n",
    "inga copy pannum bothu \\ tha irukum itha run panna os error varum so athu pathila / use pannanum\n",
    "\n",
    "\"\"\"\n",
    "vj=open(\"D:/PYTHON/BASICS/FILE HANDLING/ newone.txt\",\"w\") # file name\n"
   ]
  },
  {
   "cell_type": "code",
   "execution_count": 3,
   "metadata": {},
   "outputs": [
    {
     "data": {
      "text/plain": [
       "<function TextIOWrapper.close()>"
      ]
     },
     "execution_count": 3,
     "metadata": {},
     "output_type": "execute_result"
    }
   ],
   "source": [
    "'''\n",
    "\n",
    "Write mode la um file create panalam\n",
    "\n",
    "'''\n",
    "vj1=open(\"create_a_file.txt\",\"w\")\n",
    "vj1.write('im the best')\n",
    "vj1.close"
   ]
  },
  {
   "cell_type": "code",
   "execution_count": 15,
   "metadata": {},
   "outputs": [
    {
     "name": "stdout",
     "output_type": "stream",
     "text": [
      "1 2 3 4 5 6 7 8 9 10\n",
      "bannana\n",
      "cherry\n",
      "apple\n",
      "orange\n",
      "apple\n",
      "orange\n",
      "apple\n",
      "orange\n",
      "\n"
     ]
    }
   ],
   "source": [
    "vj=open(\"fruits.txt\") # file name\n",
    "content=vj.read()\n",
    "print(content)\n",
    "vj.close()"
   ]
  },
  {
   "cell_type": "code",
   "execution_count": 16,
   "metadata": {},
   "outputs": [
    {
     "name": "stdout",
     "output_type": "stream",
     "text": [
      "1 2 \n"
     ]
    }
   ],
   "source": [
    "vj=open(\"fruits.txt\") # file name\n",
    "content=vj.read(4)\n",
    "print(content)\n",
    "vj.close()"
   ]
  },
  {
   "cell_type": "code",
   "execution_count": 10,
   "metadata": {},
   "outputs": [
    {
     "name": "stdout",
     "output_type": "stream",
     "text": [
      "1 2 3 4 5 6 7 8 9 10\n",
      "bannana\n",
      "cherry\n",
      "apple\n",
      "orange\n",
      "apple\n",
      "orange\n",
      "apple\n",
      "orange\n",
      "\n"
     ]
    },
    {
     "ename": "UnsupportedOperation",
     "evalue": "not writable",
     "output_type": "error",
     "traceback": [
      "\u001b[1;31m---------------------------------------------------------------------------\u001b[0m",
      "\u001b[1;31mUnsupportedOperation\u001b[0m                      Traceback (most recent call last)",
      "Cell \u001b[1;32mIn[10], line 5\u001b[0m\n\u001b[0;32m      2\u001b[0m content\u001b[39m=\u001b[39mvj\u001b[39m.\u001b[39mread()\n\u001b[0;32m      3\u001b[0m \u001b[39mprint\u001b[39m(content)\n\u001b[1;32m----> 5\u001b[0m vj\u001b[39m.\u001b[39;49mwrite(\u001b[39m\"\u001b[39;49m\u001b[39mgraps\u001b[39;49m\u001b[39m\"\u001b[39;49m)\n",
      "\u001b[1;31mUnsupportedOperation\u001b[0m: not writable"
     ]
    }
   ],
   "source": [
    "vj=open(\"fruits.txt\") # file name\n",
    "content=vj.read()\n",
    "print(content)\n",
    "\n",
    "vj.write(\"graps\")"
   ]
  },
  {
   "cell_type": "code",
   "execution_count": null,
   "metadata": {},
   "outputs": [
    {
     "name": "stdout",
     "output_type": "stream",
     "text": [
      "<_io.TextIOWrapper name='fruits.txt' mode='r' encoding='cp1252'>\n"
     ]
    }
   ],
   "source": [
    "vj=open(\"fruits.txt\") # file name\n",
    "print(vj)\n",
    "\n",
    "# mode='r' read, intha file ah read mattum tha panna mudium"
   ]
  },
  {
   "cell_type": "code",
   "execution_count": null,
   "metadata": {},
   "outputs": [],
   "source": [
    "# WRITE\n",
    "\n",
    "vj=open(\"fruits.txt\",\"w\")\n",
    "vj.write(\"bannana\\n\")\n",
    "vj.write(\"cherry\")\n",
    "vj.close()"
   ]
  },
  {
   "cell_type": "code",
   "execution_count": null,
   "metadata": {},
   "outputs": [
    {
     "ename": "ValueError",
     "evalue": "I/O operation on closed file.",
     "output_type": "error",
     "traceback": [
      "\u001b[1;31m---------------------------------------------------------------------------\u001b[0m",
      "\u001b[1;31mValueError\u001b[0m                                Traceback (most recent call last)",
      "Cell \u001b[1;32mIn[11], line 8\u001b[0m\n\u001b[0;32m      5\u001b[0m vj\u001b[39m.\u001b[39mwrite(\u001b[39m\"\u001b[39m\u001b[39mcherry\u001b[39m\u001b[39m\"\u001b[39m)\n\u001b[0;32m      6\u001b[0m vj\u001b[39m.\u001b[39mclose()\n\u001b[1;32m----> 8\u001b[0m vj\u001b[39m.\u001b[39;49mread()\n",
      "\u001b[1;31mValueError\u001b[0m: I/O operation on closed file."
     ]
    }
   ],
   "source": [
    "# WRITE\n",
    "\n",
    "vj=open(\"fruits.txt\",\"w\")\n",
    "vj.write(\"bannana\\n\")\n",
    "vj.write(\"cherry\")\n",
    "vj.close()\n",
    "\n",
    "vj.read() # close panna file ah read oh write oh panna mudiyathu"
   ]
  },
  {
   "cell_type": "code",
   "execution_count": null,
   "metadata": {},
   "outputs": [
    {
     "name": "stdout",
     "output_type": "stream",
     "text": [
      "<_io.TextIOWrapper name='fruits.txt' mode='r+' encoding='cp1252'>\n"
     ]
    }
   ],
   "source": [
    "vj=open(\"fruits.txt\",\"r+\")\n",
    "print(vj)"
   ]
  },
  {
   "cell_type": "code",
   "execution_count": null,
   "metadata": {},
   "outputs": [
    {
     "data": {
      "text/plain": [
       "'bannana\\ncherry'"
      ]
     },
     "execution_count": 12,
     "metadata": {},
     "output_type": "execute_result"
    }
   ],
   "source": [
    "# READ AND WRITE (r+)\n",
    "vj=open(\"fruits.txt\",\"r+\")\n",
    "\n",
    "vj.read()\n"
   ]
  },
  {
   "cell_type": "code",
   "execution_count": null,
   "metadata": {},
   "outputs": [
    {
     "data": {
      "text/plain": [
       "'bannana\\ncherrybannana\\ncherry\\napple\\norange\\n'"
      ]
     },
     "execution_count": 17,
     "metadata": {},
     "output_type": "execute_result"
    }
   ],
   "source": [
    "# OVERWRITE\n",
    "\n",
    "vj=open(\"fruits.txt\",\"a\")\n",
    "vj.write(\"apple\\n\")\n",
    "vj.write(\"orange\\n\")\n",
    "vj.close()\n",
    "\n",
    "# READ AND WRITE (r+)\n",
    "vj=open(\"fruits.txt\",\"r+\")\n",
    "\n",
    "vj.read() # thiruba vera yathathu type panna old data delete aagidum, palay data oda ipo iruka data venum yendral append pannanum, \"a\"\n",
    "\n",
    "\n"
   ]
  },
  {
   "cell_type": "code",
   "execution_count": null,
   "metadata": {},
   "outputs": [
    {
     "data": {
      "text/plain": [
       "'bannana\\n'"
      ]
     },
     "execution_count": 1,
     "metadata": {},
     "output_type": "execute_result"
    }
   ],
   "source": [
    "# OVVORU LINE AH PRINT PANNA\n",
    "\n",
    "vj=open(\"fruits.txt\",\"a\")\n",
    "vj.write(\"apple\\n\")\n",
    "vj.write(\"orange\\n\")\n",
    "vj.close()\n",
    "\n",
    "# READ AND WRITE (r+)\n",
    "vj=open(\"fruits.txt\",\"r+\")\n",
    "\n",
    "vj.readline() \n"
   ]
  }
 ],
 "metadata": {
  "kernelspec": {
   "display_name": "Python 3",
   "language": "python",
   "name": "python3"
  },
  "language_info": {
   "codemirror_mode": {
    "name": "ipython",
    "version": 3
   },
   "file_extension": ".py",
   "mimetype": "text/x-python",
   "name": "python",
   "nbconvert_exporter": "python",
   "pygments_lexer": "ipython3",
   "version": "3.11.5"
  }
 },
 "nbformat": 4,
 "nbformat_minor": 2
}
