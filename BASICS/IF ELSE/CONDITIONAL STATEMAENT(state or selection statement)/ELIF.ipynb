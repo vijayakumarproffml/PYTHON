{
 "cells": [
  {
   "cell_type": "code",
   "execution_count": 6,
   "metadata": {},
   "outputs": [
    {
     "name": "stdout",
     "output_type": "stream",
     "text": [
      "good student\n"
     ]
    }
   ],
   "source": [
    "# get input for score out of 100\n",
    "# if score is <35 = \"poor student\"\n",
    "# if score is >35 but >70 = \"average student\"\n",
    "# if score is >70 =\"good student\"\n",
    "\n",
    "score=int(input(\"what is the score is:\"))\n",
    "if(score<35):\n",
    "    print(\"poor student\")\n",
    "elif(score>35 and score<70):\n",
    "    print(\"average student\")\n",
    "elif(score>70 and score<100):\n",
    "    print(\"good student\")\n",
    "else:\n",
    "    print(\"invalid score\")\n"
   ]
  },
  {
   "cell_type": "code",
   "execution_count": 4,
   "metadata": {},
   "outputs": [
    {
     "name": "stdout",
     "output_type": "stream",
     "text": [
      "Your Name and reg num are invalid\n"
     ]
    }
   ],
   "source": [
    "# oru student oda name um reg num match aachuna mark outputla varanum itha program\n",
    "# athavathu result check panrathu\n",
    "\n",
    "name=\"karthi\"\n",
    "reg_num=30000\n",
    "mark=97\n",
    "\n",
    "if name=='vijay' and reg_num==2129:\n",
    "       print(\"Your Mark Is :\",mark)\n",
    "       \n",
    "elif name!='vijay' and reg_num!=2129:\n",
    "       print(\"Your Name and reg num are invalid\")        \n",
    "    \n",
    "elif name!=\"vijay\": \n",
    "       print('invalid name')\n",
    "\n",
    "elif reg_num!=2129:\n",
    "       print('invalid register number')\n",
    "\n",
    "else:\n",
    "      print(\"Enter valid infermatins\")\n",
    "\n"
   ]
  }
 ],
 "metadata": {
  "kernelspec": {
   "display_name": "Python 3",
   "language": "python",
   "name": "python3"
  },
  "language_info": {
   "codemirror_mode": {
    "name": "ipython",
    "version": 3
   },
   "file_extension": ".py",
   "mimetype": "text/x-python",
   "name": "python",
   "nbconvert_exporter": "python",
   "pygments_lexer": "ipython3",
   "version": "3.11.5"
  }
 },
 "nbformat": 4,
 "nbformat_minor": 2
}
