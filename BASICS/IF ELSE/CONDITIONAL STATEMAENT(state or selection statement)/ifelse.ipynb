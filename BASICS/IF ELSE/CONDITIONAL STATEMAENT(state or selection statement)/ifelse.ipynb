{
 "cells": [
  {
   "cell_type": "code",
   "execution_count": 1,
   "metadata": {},
   "outputs": [
    {
     "name": "stdout",
     "output_type": "stream",
     "text": [
      "go to bike\n"
     ]
    }
   ],
   "source": [
    "no_of_frnds=2\n",
    "\n",
    "if no_of_frnds>3: # 2>3(False)\n",
    "    print(\"lets go For movie\")\n",
    "\n",
    "else:\n",
    "    print(\"go to bike\")"
   ]
  },
  {
   "cell_type": "code",
   "execution_count": 1,
   "metadata": {},
   "outputs": [
    {
     "name": "stdout",
     "output_type": "stream",
     "text": [
      "surya meets priya\n"
     ]
    }
   ],
   "source": [
    "\n",
    "megna=input(\"megans condition:\")\n",
    "if(megna==\"died\"):\n",
    "    print(\"surya meets priya\")\n",
    "else:\n",
    "    print(\"surya weds megna\")\n"
   ]
  }
 ],
 "metadata": {
  "kernelspec": {
   "display_name": "Python 3",
   "language": "python",
   "name": "python3"
  },
  "language_info": {
   "codemirror_mode": {
    "name": "ipython",
    "version": 3
   },
   "file_extension": ".py",
   "mimetype": "text/x-python",
   "name": "python",
   "nbconvert_exporter": "python",
   "pygments_lexer": "ipython3",
   "version": "3.11.5"
  }
 },
 "nbformat": 4,
 "nbformat_minor": 2
}
