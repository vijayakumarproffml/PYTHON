{
 "cells": [
  {
   "cell_type": "code",
   "execution_count": 2,
   "metadata": {},
   "outputs": [
    {
     "name": "stdout",
     "output_type": "stream",
     "text": [
      "lets go For movie\n"
     ]
    }
   ],
   "source": [
    "no_of_frnds=int(input(\"No Of Frnds\"))\n",
    "\n",
    "if no_of_frnds>3: # 5>3(True)\n",
    "    print(\"lets go For movie\")"
   ]
  },
  {
   "cell_type": "code",
   "execution_count": 4,
   "metadata": {},
   "outputs": [
    {
     "name": "stdout",
     "output_type": "stream",
     "text": [
      "go to bike\n"
     ]
    }
   ],
   "source": [
    "no_of_frnds=2\n",
    "\n",
    "if no_of_frnds>3: # 5>3(True)\n",
    "    print(\"lets go For movie\")\n",
    "\n",
    "print(\"go to bike\")"
   ]
  }
 ],
 "metadata": {
  "kernelspec": {
   "display_name": "Python 3",
   "language": "python",
   "name": "python3"
  },
  "language_info": {
   "codemirror_mode": {
    "name": "ipython",
    "version": 3
   },
   "file_extension": ".py",
   "mimetype": "text/x-python",
   "name": "python",
   "nbconvert_exporter": "python",
   "pygments_lexer": "ipython3",
   "version": "3.11.5"
  }
 },
 "nbformat": 4,
 "nbformat_minor": 2
}
