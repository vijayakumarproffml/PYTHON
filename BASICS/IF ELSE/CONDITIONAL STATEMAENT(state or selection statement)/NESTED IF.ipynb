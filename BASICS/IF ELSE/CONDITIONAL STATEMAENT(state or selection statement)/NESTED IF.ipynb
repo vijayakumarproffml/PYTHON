{
 "cells": [
  {
   "cell_type": "code",
   "execution_count": 2,
   "metadata": {},
   "outputs": [
    {
     "name": "stdout",
     "output_type": "stream",
     "text": [
      "Your Mark Is : 97\n"
     ]
    }
   ],
   "source": [
    "# oru student oda name um reg num match aachuna mark outputla varanum itha program\n",
    "# athavathu result check panrathu\n",
    "\n",
    "name=\"vijay\"\n",
    "reg_num=2129\n",
    "mark=97\n",
    "\n",
    "if name=='vijay':\n",
    "    if reg_num==2129:\n",
    "        print(\"Your Mark Is :\",mark)\n",
    "\n",
    "print(\"Your Name and reg num are invalid\")"
   ]
  },
  {
   "cell_type": "code",
   "execution_count": 4,
   "metadata": {},
   "outputs": [
    {
     "name": "stdout",
     "output_type": "stream",
     "text": [
      "Your Name and reg num are invalid\n"
     ]
    }
   ],
   "source": [
    "# oru student oda name um reg num match aachuna mark outputla varanum itha program\n",
    "# athavathu result check panrathu\n",
    "\n",
    "name=\"vijay\"\n",
    "reg_num=30000\n",
    "mark=97\n",
    "\n",
    "if name=='vijay':\n",
    "    if reg_num==2129:\n",
    "        print(\"Your Mark Is :\",mark)\n",
    "\n",
    "    else:\n",
    "        print(\"Your Name and reg num are invalid\")"
   ]
  },
  {
   "cell_type": "code",
   "execution_count": 7,
   "metadata": {},
   "outputs": [
    {
     "name": "stdout",
     "output_type": "stream",
     "text": [
      "Please Enter a Valid Name And Regnumer\n"
     ]
    }
   ],
   "source": [
    "# oru student oda name um reg num match aachuna mark outputla varanum itha program\n",
    "# athavathu result check panrathu\n",
    "\n",
    "name=\"karthi\"\n",
    "reg_num=30000\n",
    "mark=97\n",
    "\n",
    "if name=='vijay':\n",
    "    if reg_num==2129:\n",
    "        print(\"Your Mark Is :\",mark)\n",
    "\n",
    "    else:\n",
    "        print(\"Your Name and reg num are invalid\")\n",
    "\n",
    "else:\n",
    "    print(\"Please Enter a Valid Name And Regnumer\")"
   ]
  },
  {
   "cell_type": "code",
   "execution_count": 14,
   "metadata": {},
   "outputs": [
    {
     "name": "stdout",
     "output_type": "stream",
     "text": [
      "invalid register number\n"
     ]
    }
   ],
   "source": [
    "# oru student oda name um reg num match aachuna mark outputla varanum itha program\n",
    "# athavathu result check panrathu\n",
    "\n",
    "name=\"vijay\"\n",
    "reg_num=30000\n",
    "mark=97\n",
    "\n",
    "if name=='vijay': # condition True\n",
    "    if reg_num==2129: # condition False\n",
    "        print(\"Your Mark Is :\",mark)\n",
    "    \n",
    "    elif name!=\"vijay\": # condition False\n",
    "        print('invalid name')\n",
    "\n",
    "    elif reg_num!=2129: # condition True\n",
    "        print('invalid register number')\n",
    "\n",
    "    else:\n",
    "        print(\"Your Name and reg num are invalid\")"
   ]
  },
  {
   "cell_type": "code",
   "execution_count": 18,
   "metadata": {},
   "outputs": [
    {
     "name": "stdout",
     "output_type": "stream",
     "text": [
      "Your Name and reg num are invalid\n"
     ]
    }
   ],
   "source": [
    "# oru student oda name um reg num match aachuna mark outputla varanum itha program\n",
    "# athavathu result check panrathu\n",
    "\n",
    "name=\"karthi\"\n",
    "reg_num=30000\n",
    "mark=97\n",
    "\n",
    "if name=='vijay': # condition False so intha if kulla iruka yella accept pannama else lu poirum\n",
    "    if reg_num==2129: \n",
    "        print(\"Your Mark Is :\",mark)\n",
    "\n",
    "elif name!=\"vijay\" and reg_num!=2129:\n",
    "    print('Your Name and reg num are invalid')\n",
    "    \n",
    "elif name!=\"vijay\":\n",
    "    print('invalid name')\n",
    "\n",
    "elif reg_num!=2129:\n",
    "    print('invalid register number')\n",
    "\n",
    "else:\n",
    "     print(\"Enter valid Infermations\")\n",
    "\n"
   ]
  },
  {
   "cell_type": "code",
   "execution_count": 2,
   "metadata": {},
   "outputs": [
    {
     "name": "stdout",
     "output_type": "stream",
     "text": [
      "maximum loan is 50000\n"
     ]
    }
   ],
   "source": [
    "# get input for salary and age\n",
    "# if salary greater than or equal to 20000 or age less than or equal to 25,\n",
    "# get input for required loan amount \n",
    "# if not print you are not eligible for loan\n",
    "\n",
    "name=input(\"what is your name:\")\n",
    "salary=int(input(\"what is the salary:\"))\n",
    "age=int(input(\"what is ypur age:\"))\n",
    "if(salary>=20000 or age<=25):\n",
    "    loan=int(input(\"loan amount\"))\n",
    "    if(loan>50000):\n",
    "        print(\"maximum loan is 50000\")\n",
    "    else:\n",
    "        print(\"ypu are not eligible for loan\")\n",
    "\n",
    "else:\n",
    "    print(\"ypu are not eligible\")\n",
    "\n",
    "\n"
   ]
  }
 ],
 "metadata": {
  "kernelspec": {
   "display_name": "Python 3",
   "language": "python",
   "name": "python3"
  },
  "language_info": {
   "codemirror_mode": {
    "name": "ipython",
    "version": 3
   },
   "file_extension": ".py",
   "mimetype": "text/x-python",
   "name": "python",
   "nbconvert_exporter": "python",
   "pygments_lexer": "ipython3",
   "version": "3.11.5"
  }
 },
 "nbformat": 4,
 "nbformat_minor": 2
}
