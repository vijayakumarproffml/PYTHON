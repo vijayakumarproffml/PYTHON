{
 "cells": [
  {
   "cell_type": "code",
   "execution_count": null,
   "metadata": {},
   "outputs": [],
   "source": [
    "# FOR WITH RANGE\n"
   ]
  },
  {
   "cell_type": "code",
   "execution_count": 15,
   "metadata": {},
   "outputs": [
    {
     "name": "stdout",
     "output_type": "stream",
     "text": [
      "natural nums test data 7 is: [1, 2, 3, 4, 5, 6, 7]\n",
      "sum of natural nums= 28\n"
     ]
    }
   ],
   "source": [
    "a=[]\n",
    "for vj in range(1,8):\n",
    "    a.append(vj)\n",
    "print('natural nums test data 7 is:',a)\n",
    "sum=0\n",
    "for i in a:\n",
    "    sum+=i\n",
    "print('sum of natural nums=',sum)"
   ]
  },
  {
   "cell_type": "code",
   "execution_count": 26,
   "metadata": {},
   "outputs": [
    {
     "name": "stdout",
     "output_type": "stream",
     "text": [
      "[1, 2, 3, 4, 5]\n",
      "cube of the number is1 : 1\n",
      "cube of the number is2 : 8\n",
      "cube of the number is3 : 27\n",
      "cube of the number is4 : 64\n",
      "cube of the number is5 : 125\n"
     ]
    }
   ],
   "source": [
    "a=[]\n",
    "for i in range(1,6):\n",
    "    a.append(i)\n",
    "print(a)\n",
    "for i in a:\n",
    "    print(\"cube of the number is\"+ str(i+0),\":\",i*i*i)"
   ]
  },
  {
   "cell_type": "code",
   "execution_count": 1,
   "metadata": {},
   "outputs": [
    {
     "name": "stdout",
     "output_type": "stream",
     "text": [
      "3\n",
      "item 1 = pen\n",
      "item 2 = papper\n",
      "item 3 = pencil\n"
     ]
    }
   ],
   "source": [
    "item=['pen','papper','pencil']\n",
    "count=len(item)\n",
    "print(count)\n",
    "for i in range(count):\n",
    "    print(\"item\",i+1,\"=\",item[i]) # [i]position ah kurukuthu"
   ]
  },
  {
   "cell_type": "code",
   "execution_count": 2,
   "metadata": {},
   "outputs": [
    {
     "name": "stdout",
     "output_type": "stream",
     "text": [
      "item 1 = pen\n",
      "item 2 = papper\n",
      "item 3 = pencil\n"
     ]
    }
   ],
   "source": [
    "item=['pen','papper','pencil']\n",
    "\n",
    "for i in range(len(item)):\n",
    "    print(\"item\",i+1,\"=\",item[i]) # [i]position ah kurukuthu"
   ]
  },
  {
   "cell_type": "code",
   "execution_count": 6,
   "metadata": {},
   "outputs": [
    {
     "name": "stdout",
     "output_type": "stream",
     "text": [
      "item 1 = pen\n",
      "item 1 = pen\n",
      "item 1 = pen\n"
     ]
    }
   ],
   "source": [
    "item=['pen','papper','pencil']\n",
    "i1=0\n",
    "\n",
    "for i in (item):\n",
    "    print(\"item\",i1+1,\"=\",item[i1]) # [i]position ah kurukuthu"
   ]
  },
  {
   "cell_type": "code",
   "execution_count": 7,
   "metadata": {},
   "outputs": [
    {
     "name": "stdout",
     "output_type": "stream",
     "text": [
      "1\n",
      "2\n",
      "3\n",
      "4\n",
      "5\n",
      "I AM FROM ELSE BLOCK\n"
     ]
    }
   ],
   "source": [
    "# FOR WITH ELSE\n",
    "for x in range(1,6):# inga 1 to 6 varaikum print aagum athukapram yentha value um irukathu so anga condition false aagirum than else block pogum\n",
    "    print(x)\n",
    "\n",
    "else:\n",
    "    print(\"I AM FROM ELSE BLOCK\")"
   ]
  },
  {
   "cell_type": "code",
   "execution_count": 9,
   "metadata": {},
   "outputs": [
    {
     "name": "stdout",
     "output_type": "stream",
     "text": [
      "v\n",
      "i\n",
      "j\n",
      "a\n",
      "y\n",
      "I AM FROM ELSE BLOCK\n",
      "terminated\n"
     ]
    }
   ],
   "source": [
    "# passing a string\n",
    "\n",
    "a= 'vijay'\n",
    "\n",
    "for i in a:\n",
    "    print(i)\n",
    "\n",
    "else:\n",
    "    print(\"I AM FROM ELSE BLOCK\")\n",
    "\n",
    "print(\"terminated\")\n",
    "\n"
   ]
  },
  {
   "cell_type": "code",
   "execution_count": 10,
   "metadata": {},
   "outputs": [
    {
     "name": "stdout",
     "output_type": "stream",
     "text": [
      "vijay\n",
      "1\n",
      "1.2\n",
      "I AM FROM ELSE BLOCK\n",
      "terminated\n"
     ]
    }
   ],
   "source": [
    "# passing a list\n",
    "\n",
    "a= ['vijay',1,1.2]\n",
    "\n",
    "for i in a:\n",
    "    print(i)\n",
    "\n",
    "else:\n",
    "    print(\"I AM FROM ELSE BLOCK\")\n",
    "\n",
    "print(\"terminated\")\n",
    "\n"
   ]
  },
  {
   "cell_type": "code",
   "execution_count": 15,
   "metadata": {},
   "outputs": [
    {
     "name": "stdout",
     "output_type": "stream",
     "text": [
      "Not Divisible by 5 : 1\n",
      "Not Divisible by 5 : 2\n",
      "Not Divisible by 5 : 3\n",
      "Not Divisible by 5 : 4\n",
      "Divisible by 5 : 5\n",
      "Not Divisible by 5 : 6\n",
      "Not Divisible by 5 : 7\n",
      "Not Divisible by 5 : 8\n",
      "Not Divisible by 5 : 9\n",
      "Divisible by 5 : 10\n",
      "Not Divisible by 5 : 11\n",
      "Not Divisible by 5 : 12\n",
      "Not Divisible by 5 : 13\n",
      "Not Divisible by 5 : 14\n",
      "Divisible by 5 : 15\n",
      "Not Divisible by 5 : 16\n",
      "Not Divisible by 5 : 17\n",
      "Not Divisible by 5 : 18\n",
      "Not Divisible by 5 : 19\n",
      "Divisible by 5 : 20\n",
      "Not Divisible by 5 : 21\n",
      "Not Divisible by 5 : 22\n",
      "Not Divisible by 5 : 23\n",
      "Not Divisible by 5 : 24\n",
      "Divisible by 5 : 25\n",
      "Not Divisible by 5 : 26\n",
      "Not Divisible by 5 : 27\n",
      "Not Divisible by 5 : 28\n",
      "Not Divisible by 5 : 29\n",
      "Divisible by 5 : 30\n",
      "Not Divisible by 5 : 31\n",
      "Not Divisible by 5 : 32\n",
      "Not Divisible by 5 : 33\n",
      "Not Divisible by 5 : 34\n",
      "Divisible by 5 : 35\n",
      "Not Divisible by 5 : 36\n"
     ]
    }
   ],
   "source": [
    "# for with if\n",
    "\n",
    "for i in range(1,37):\n",
    "    if(i%5==0):\n",
    "        print(\"Divisible by 5 :\",i)\n",
    "\n",
    "    else:\n",
    "        print(\"Not Divisible by 5 :\",i)\n",
    "\n"
   ]
  }
 ],
 "metadata": {
  "kernelspec": {
   "display_name": "Python 3",
   "language": "python",
   "name": "python3"
  },
  "language_info": {
   "codemirror_mode": {
    "name": "ipython",
    "version": 3
   },
   "file_extension": ".py",
   "mimetype": "text/x-python",
   "name": "python",
   "nbconvert_exporter": "python",
   "pygments_lexer": "ipython3",
   "version": "3.11.5"
  }
 },
 "nbformat": 4,
 "nbformat_minor": 2
}
