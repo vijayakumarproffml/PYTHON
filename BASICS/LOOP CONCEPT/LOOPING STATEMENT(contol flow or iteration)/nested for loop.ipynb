{
 "cells": [
  {
   "cell_type": "code",
   "execution_count": 1,
   "metadata": {},
   "outputs": [
    {
     "name": "stdout",
     "output_type": "stream",
     "text": [
      "1 apple\n",
      "2 apple\n",
      "1 apple\n",
      "2 apple\n",
      "1 apple\n",
      "2 apple\n",
      "1 apple\n",
      "2 apple\n",
      "1 apple\n",
      "2 apple\n"
     ]
    }
   ],
   "source": [
    "# NESTED FOR LOOP\n",
    "\n",
    "for i in range(1,6):\n",
    "    # namma veetla irukka apple ah 5 days paati veetuku poi kudukanum\n",
    "    for j in range(1,3):\n",
    "    # paati veetla irukka 2 chedi ah thotathula ovvonna poi nattu vaikanum\n",
    "     print(j,'apple')"
   ]
  },
  {
   "cell_type": "code",
   "execution_count": 6,
   "metadata": {},
   "outputs": [
    {
     "name": "stdout",
     "output_type": "stream",
     "text": [
      ".......... .......... .......\n",
      "week 1\n",
      "day 1\n",
      "day 2\n",
      "day 3\n",
      "day 4\n",
      ".......... .......... .......\n",
      "week 2\n",
      "day 1\n",
      "day 2\n",
      "day 3\n",
      "day 4\n",
      ".......... .......... .......\n",
      "week 3\n",
      "day 1\n",
      "day 2\n",
      "day 3\n",
      "day 4\n"
     ]
    }
   ],
   "source": [
    "for i in range(1,4):\n",
    "    print('.......... .......... .......') \n",
    "    print('week',i)  \n",
    "    for j in range(1,5):\n",
    "        print('day',j)\n",
    "         "
   ]
  },
  {
   "cell_type": "code",
   "execution_count": 8,
   "metadata": {},
   "outputs": [
    {
     "name": "stdout",
     "output_type": "stream",
     "text": [
      "\n",
      "1\n",
      "12\n",
      "123\n",
      "1234"
     ]
    }
   ],
   "source": [
    "# PATTERN PROGRAM\n",
    "\n",
    "for i in range(1,5):\n",
    "    print() # inga vertical ah print aagum\n",
    "    for j in range(1,i+1):\n",
    "        print(j,end=\"\")# inga horizontal ah print aagum"
   ]
  },
  {
   "cell_type": "code",
   "execution_count": 2,
   "metadata": {},
   "outputs": [
    {
     "name": "stdout",
     "output_type": "stream",
     "text": [
      "\n",
      "\n",
      "1\n",
      "12\n",
      "123\n",
      "1234\n",
      "12345\n",
      "123456"
     ]
    }
   ],
   "source": [
    "# PATTERN PROGRAM\n",
    "row=6\n",
    "for i in range(0, row+1 ,1):\n",
    "    print() # inga vertical ah print aagum\n",
    "    for j in range(1,i+1):\n",
    "        print(j,end=\"\")# inga horizontal ah print aagum"
   ]
  },
  {
   "cell_type": "code",
   "execution_count": 18,
   "metadata": {},
   "outputs": [
    {
     "name": "stdout",
     "output_type": "stream",
     "text": [
      "\n",
      "*\n",
      "**\n",
      "***\n",
      "****"
     ]
    }
   ],
   "source": [
    "# PATTERN PROGRAM\n",
    "\n",
    "for i in range(1,5):\n",
    "    print() # inga vertical ah print aagum\n",
    "    for j in range(1,i+1):\n",
    "        print('*',end=\"\")# inga horizontal ah print aagum"
   ]
  },
  {
   "cell_type": "code",
   "execution_count": 5,
   "metadata": {},
   "outputs": [
    {
     "name": "stdout",
     "output_type": "stream",
     "text": [
      "\n",
      "*\n",
      "**\n",
      "***\n",
      "****\n",
      "*****\n",
      "******\n",
      "*******"
     ]
    }
   ],
   "source": [
    "# PATTERN PROGRAM\n",
    "row=6\n",
    "for i in range(0, row+1 ,1):\n",
    "    print() # inga vertical ah print aagum\n",
    "    for j in range(1,i+1):\n",
    "        print(\"*\",end=\"\")# inga horizontal ah print aagum"
   ]
  },
  {
   "cell_type": "code",
   "execution_count": 2,
   "metadata": {},
   "outputs": [
    {
     "name": "stdout",
     "output_type": "stream",
     "text": [
      "bmw is black\n",
      "bmw is red\n",
      "benz is black\n",
      "benz is red\n"
     ]
    }
   ],
   "source": [
    "a=['bmw','benz']\n",
    "b=['black','red']\n",
    "\n",
    "for i in a:\n",
    "    for j in b:\n",
    "        print(i,\"is\",j)"
   ]
  }
 ],
 "metadata": {
  "kernelspec": {
   "display_name": "Python 3",
   "language": "python",
   "name": "python3"
  },
  "language_info": {
   "codemirror_mode": {
    "name": "ipython",
    "version": 3
   },
   "file_extension": ".py",
   "mimetype": "text/x-python",
   "name": "python",
   "nbconvert_exporter": "python",
   "pygments_lexer": "ipython3",
   "version": "3.11.5"
  }
 },
 "nbformat": 4,
 "nbformat_minor": 2
}
