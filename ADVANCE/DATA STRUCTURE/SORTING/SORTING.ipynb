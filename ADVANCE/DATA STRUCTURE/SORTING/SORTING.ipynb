{
 "cells": [
  {
   "cell_type": "code",
   "execution_count": null,
   "metadata": {},
   "outputs": [],
   "source": [
    "''' \n",
    " \n",
    "  Shorting udaya main concept array ah short panrathu than.\n",
    "\n",
    "'''"
   ]
  },
  {
   "cell_type": "code",
   "execution_count": 4,
   "metadata": {},
   "outputs": [
    {
     "name": "stdout",
     "output_type": "stream",
     "text": [
      "[1, 2, 5, 10, 11]\n"
     ]
    }
   ],
   "source": [
    "# BUBBLE SHORT\n",
    "\n",
    "\"\"\" \n",
    "   ithu matha sorthing ah compare pannum bothu easy and efficient ah irukum.\n",
    "   ithu num of elements kammiya irukurappa use pannanum\n",
    "   ithula pass, comparison, swap irukum.\n",
    "   ---> pass= no of elements - 1\n",
    "   ---> comparision= no of elements - no of current pass\n",
    "   bubble short la swap rendu rendu element ah comapre pannum, athula changes iruntha swap pannum.\n",
    "   ithula accending orderla sort pannuvom, ithula array udaya largest value swap pannum bothu athoda corrct possision ku vanthurum.\n",
    "   \n",
    "\"\"\"\n",
    "\n",
    "arr=[1,10,11,5,2] \n",
    "# n=5 pass= 4 comparission: pass1= no of element(5) - current pass(1)= 4 pass 1 la 4 comparision pannanum\n",
    "for i in range(0,len(arr)-1): # pass\n",
    "    for j in range(0,len(arr)-1): #kadaisi element comparission pannum nu avasiam illa because athu athoda position la correct ah irukkum, ithu comparission and swap kkaga\n",
    "        # inga j yenbathu how many times compare panrom and compare panrappo chages iruntha swap pannuvom atharkkaga tha J\n",
    "        \n",
    "        if arr[j]<arr[j+1]: # arr[j]= 0th position, aee[j+1]= 2nd position\n",
    "            continue\n",
    "        elif arr[j]>arr[j+1]: # swap\n",
    "            arr[j],arr[j+1]=arr[j+1],arr[j]\n",
    "            \n",
    "print(arr)"
   ]
  },
  {
   "cell_type": "code",
   "execution_count": 6,
   "metadata": {},
   "outputs": [
    {
     "name": "stdout",
     "output_type": "stream",
     "text": [
      "[1, 10, 5, 2, 11]\n"
     ]
    }
   ],
   "source": [
    "# inum effficient ah irukanum na \n",
    "\n",
    "arr=[1,10,11,5,2] \n",
    "# n=5 pass= 4 comparission: pass1= no of element(5) - current pass(1)= 4 pass 1 la 4 comparision pannanum\n",
    "for i in range(0,len(arr)-1): # pass\n",
    "    if arr[i]>arr[i+1]: # swap\n",
    "            arr[i],arr[i+1]=arr[i+1],arr[i]\n",
    "            \n",
    "print(arr)"
   ]
  },
  {
   "cell_type": "code",
   "execution_count": 7,
   "metadata": {},
   "outputs": [
    {
     "name": "stdout",
     "output_type": "stream",
     "text": [
      "[1, 2, 5, 10, 11]\n"
     ]
    }
   ],
   "source": [
    "# while loop better ah irukum, because namma limit kuduka avasiyam illa full ah sort aagura varai compare panite irukum\n",
    "\n",
    "arr=[1,10,11,5,2] \n",
    "# n=5 pass= 4 comparission: pass1= no of element(5) - current pass(1)= 4 pass 1 la 4 comparision pannanum\n",
    "\n",
    "while True:\n",
    "    a=True # local variable\n",
    "    for j in range(0,len(arr)-1): # pass\n",
    "        if arr[j]>arr[j+1]: # swap\n",
    "            arr[j],arr[j+1]=arr[j+1],arr[j] # ipo element swap aagum apdina inga condition false aagum because swap aanathal\n",
    "            a=False\n",
    "            \n",
    "    # if a==False:\n",
    "    #     continue\n",
    "    # elif a==True:\n",
    "    #     break\n",
    "    \n",
    "    # ithula 1st if avasiyam illa because atha antha condition mention pannalenalum antha condition process la tha irukum\n",
    "    \n",
    "    if a==True:\n",
    "        break \n",
    "\n",
    "print(arr)"
   ]
  },
  {
   "cell_type": "code",
   "execution_count": 9,
   "metadata": {},
   "outputs": [
    {
     "name": "stdout",
     "output_type": "stream",
     "text": [
      "[1, 2, 5, 10, 11]\n"
     ]
    }
   ],
   "source": [
    "# SELECTION SHORT\n",
    "\n",
    "''' \n",
    "\n",
    "   oru number ah vachu yella number kooda compare panni short pannrathu....\n",
    "   inga smallest number la order ah athoda position la set aagum ovvoru pass pannum pothum...\n",
    "   current nmmber ah vida ,small number, aduthu compare panra number la iruntha antha rendu position ahum swap panrom\n",
    "   current ah check panra number oda index value ah min yendra variable name la store panrom,ovvoru pass la um  \n",
    "\n",
    "'''\n",
    "\n",
    "arr=[1,10,11,5,2] \n",
    "\n",
    "for pos in range(len(arr)-1):# pass\n",
    "   # pointer set panrom\n",
    "   min=pos\n",
    "   # inga  yenbathu 0th \n",
    "   # ipo 0th position ah point panniyachu then athukaduthu ulla number yellathukoodaum compare pannanum, athavathu index 1 to 4\n",
    "   for i in range(pos+1,len(arr)):\n",
    "      if arr[i]<arr[min]:# min ah vida i chinna tha iruntha antha chinna number oda index value ah min la store pannitu antha kuripitta rendu index ah swap panrom\n",
    "         min=i # ithu varikum oru pass , paas ku veliya tha swap pannanum\n",
    "         # min=i ---> (min=pos)i=pos\n",
    "   arr[min],arr[pos]=arr[pos],arr[min]\n",
    "print(arr)\n",
    "         \n"
   ]
  },
  {
   "cell_type": "code",
   "execution_count": 6,
   "metadata": {},
   "outputs": [
    {
     "name": "stdout",
     "output_type": "stream",
     "text": [
      "[1, 2, 5, 10, 11]\n"
     ]
    }
   ],
   "source": [
    "arr=[1,10,11,5,2] \n",
    "\n",
    "for pos in range(len(arr)-1):\n",
    "    pointer=pos\n",
    "    for i in range(pos+1,len(arr)):\n",
    "        if arr[i]<arr[pointer]:\n",
    "            pointer=i\n",
    "            \n",
    "    arr[pointer],arr[pos]=arr[pos],arr[pointer]\n",
    "    \n",
    "print(arr)"
   ]
  },
  {
   "cell_type": "code",
   "execution_count": 12,
   "metadata": {},
   "outputs": [
    {
     "ename": "KeyboardInterrupt",
     "evalue": "",
     "output_type": "error",
     "traceback": [
      "\u001b[1;31m---------------------------------------------------------------------------\u001b[0m",
      "\u001b[1;31mKeyboardInterrupt\u001b[0m                         Traceback (most recent call last)",
      "Cell \u001b[1;32mIn[12], line 3\u001b[0m\n\u001b[0;32m      1\u001b[0m arr\u001b[38;5;241m=\u001b[39m[\u001b[38;5;241m1\u001b[39m,\u001b[38;5;241m10\u001b[39m,\u001b[38;5;241m11\u001b[39m,\u001b[38;5;241m5\u001b[39m,\u001b[38;5;241m2\u001b[39m] \n\u001b[1;32m----> 3\u001b[0m \u001b[38;5;28;01mwhile\u001b[39;00m \u001b[38;5;28;01mTrue\u001b[39;00m:\n\u001b[0;32m      4\u001b[0m     a\u001b[38;5;241m=\u001b[39m\u001b[38;5;28;01mTrue\u001b[39;00m\n\u001b[0;32m      5\u001b[0m     \u001b[38;5;66;03m# min=pos\u001b[39;00m\n",
      "\u001b[1;31mKeyboardInterrupt\u001b[0m: "
     ]
    }
   ],
   "source": [
    "arr=[1,10,11,5,2] \n",
    "\n",
    "while True:\n",
    "    a=True\n",
    "    # min=pos\n",
    "    for i in range(pos+1,len(arr)):\n",
    "        if arr[i]<arr[min]:\n",
    "                min=i\n",
    "        arr[min],arr[pos]=arr[pos],arr[min]\n",
    "        a=False\n",
    "        \n",
    "    if a==True:\n",
    "        break\n",
    "    \n",
    "print(arr)\n",
    "        \n",
    "        \n",
    "        "
   ]
  },
  {
   "cell_type": "code",
   "execution_count": null,
   "metadata": {},
   "outputs": [],
   "source": [
    "# INSERTION SHORT\n",
    "\n",
    "''' \n",
    "  \n",
    "  inga oru array tha input ah irukum atha two part ah split panna porom, athul onu sorted arry yendrum matrondru unsorted array nu consider panrom.\n",
    "  example arr=[1,10,11,5,2] ithula [1]ah matum oru array ah consider panni ituku sorted array nu mention pannalam,itha yen sorted array nu solalam na oru number tha iruku\n",
    "  remaing irukuratha inoru array ah  consider pannalam[10,11,5,2]\n",
    "  \n",
    "  sorted array:sa  unsorted array: usa\n",
    "  \n",
    "  step 1:\n",
    "  \n",
    "      sa:[1]    usa:[10,11,5,2]\n",
    "      usa la 1st number ah sa oda compare panni sa va vide small ah iruntha left side um big ah iruntha right side um podanum   \n",
    "      \n",
    "  step 2:\n",
    "  \n",
    "      sa:[1,10]    usa:[11,5,2]\n",
    "      ipo sa two values iruku so intha 11 ah compare panum poth correct ah pannanum\n",
    "      usa la iruka 11 ah ah sa irukuka last number oda compare pannanum, apdiye last la iruthu first ku ovvonna check pannanum\n",
    "      current number check pannum bothu last and athuku munadi irukka yella num ber kuda check pannanum\n",
    "      sa:[1,10,11]    usa:[5,2]\n",
    "      \n",
    "      \n",
    "  \n",
    "  step 3:\n",
    "  \n",
    "      sa:[1,10,11]    usa:[5,2]\n",
    "      sa:[1,5,10,11]    usa:[2]\n",
    "      \n",
    "  \n",
    "  step 4:\n",
    "  \n",
    "      sa:[1,2,5,10,11]    usa:[]\n",
    "\n",
    "\n",
    "intha mari split panum pothu space complexity athigama irukum so atha thaviral sila method pannalam.\n",
    "itha split pannamale namle manasula assume panni 1st index position sa yendrum, remaing yellam usa num consider pannikanum.\n",
    "\n",
    "arr=[1,10,11,5,2,0]\n",
    "  step 1: [1,10,11,5,2,0]\n",
    "  \n",
    "  step 2: [1,10,11,5,2,0]\n",
    "          [1, ,10,11,2,0] inga 5 iruntha place la 11 ah move panum pothu front la space create aagum ipdi pannum pothu space complexity correct ah irukum\n",
    "  \n",
    "  step 3: [1,10,11,5,2,0]\n",
    "  \n",
    "  step 4: [1,5,10,11,2,0]\n",
    "  \n",
    "  step 5: [1,2,5,10,11,0]\n",
    "  \n",
    "  step 5: [1,2,5,10,11,0] # 11 ah check pannum\n",
    "          [1,2,5,10, ,11] # 10 ah check pannum\n",
    "          [1,2,5, ,10,11] # 5 ah check pannum\n",
    "          [1,2, ,5,10,11] # 2 ah check pannum\n",
    "          [1, ,2,5,10,11] # 1 ah check pannum\n",
    "          [ ,1,2,5,10,11] \n",
    "          [0,1,2,5,10,11]\n",
    "          \n",
    "          \n",
    "          \n",
    "    \n",
    "\n",
    "'''\n",
    "\n",
    "\n"
   ]
  },
  {
   "cell_type": "code",
   "execution_count": 1,
   "metadata": {},
   "outputs": [
    {
     "name": "stdout",
     "output_type": "stream",
     "text": [
      "[1, 2, 3, 4, 5, 7]\n"
     ]
    }
   ],
   "source": [
    "arr=[1,4,7,5,3,2]\n",
    "\n",
    "# sorted array(j)= [1,4,7]    0th index--> 1  1st index--> 4   2nd index-->7\n",
    "# unsorted array(i)= [5,3,2]  3rd index--> 5  4th index--> 3   5th index--> 2\n",
    "# i and j index position valuah kurukum\n",
    "# arr[i] and arr[j] value ah kurukum\n",
    "# ithellam nammale assume panikirathu tha , [1,4,7]  [5,3,2]\n",
    "\n",
    "# first unsorted array ovvonna yedupom\n",
    "for i in range(3,len(arr)):\n",
    "    # inga unsorted array position 3 la irunthutha start aaguthu, so 3 to last index position(len(arr))\n",
    "    \n",
    "    #ipo usa la iruka element ah current yenra variable la store panrom,because antha current variable ah correct aana position la insert panra varaikum next next nu move panite varuvom, apdi next next nu change panum bothu current variable marum . apdi marama irukka tha atha variable la store panrom.\n",
    "    curr=arr[i] # example.. i=3(index value) arr[i]---> arr[3]---> 5(element)\n",
    "    \n",
    "    # next sorted array ah declare panrom\n",
    "    j=i-1\n",
    "    # j(sorted array)=i(unsorted array)-1, j=i-1 ---> j=3-1---> 2(index value), 2nd index la 7 iruku so ithu sorted udaya last value ah irukum,\n",
    "    # sorted udaya last index=2  last element=7, check panni patha correct iruku.\n",
    "    \n",
    "    # gap create panna porom, create panna antha gap la unsorted array element ah poda porom,athuku while loop use panrom\n",
    "    while j>=0 and curr<arr[j]:\n",
    "        # inga rendu condition kukurom\n",
    "        # 1st condition j>=0, inga unsorted array la iruka oru element ah yeduthu tha sorted array kooda compare panna porom,so apdi check pannitu match aagalena\n",
    "        # next next nu sorted array udaya 0th index varaikum move aaganum.\n",
    "        # 2nd condition curr<arr[j], inga unsorted array la iruka oru element ah yeduthu tha sorted array kooda compare panna porom,so\n",
    "        # antha element udaya small value vara  varikum tha move aaganum, then athuku mela poga koodathu\n",
    "        \n",
    "        # ipo process start aagum, 5 vanthu 7 kooda compare pannum, 7 perusu so 7 ah next index ku move pannanum.\n",
    "        # inga 7 udaya ingex j, next index move pannanum na +1 step move pannanum, so next index j+1 ah irukum.similarly previous index na j-1\n",
    "        arr[j+1]=arr[j]\n",
    "        \n",
    "        # aduthu next number check pannanum, athavathu previous check pannanum\n",
    "        j-=1 # j=j-1---> j=2-1--> 1(1st index)\n",
    "        # inga next element 4, ithoda check pannum pothu 2nd condition false aagirum so ingaye stop aagirum,then 4 ku aduthu, 7 ku munadi oru gap irukum. \n",
    "        # ipo gap create panra work completed then loop ah vitu veliya vanthuranum\n",
    "    \n",
    "    # gap la antha element ta inseert pannanum    \n",
    "    #namma unsorted array la irunthu yedutha element ah ,sorted array la poit paniruku index ku next index la podanum,because anga tha gap create aagirukum.\n",
    "    arr[j+1]=curr\n",
    "    \n",
    "print(arr)\n",
    "    \n",
    "\n"
   ]
  },
  {
   "cell_type": "code",
   "execution_count": 4,
   "metadata": {},
   "outputs": [
    {
     "name": "stdout",
     "output_type": "stream",
     "text": [
      "[1, 2, 2, 2, 2, 2]\n"
     ]
    }
   ],
   "source": [
    "arr=[1,4,7,5,3,2]\n",
    "for i in range(3,len(arr)):\n",
    "    curr=arr[i]\n",
    "    j=i-1\n",
    "    \n",
    "    while j>=0 and curr<arr[j]:\n",
    "        arr[j]=arr[j+1] <----\n",
    "        j-=1\n",
    "        \n",
    "    curr=arr[j+1] <-----\n",
    "    \n",
    "print(arr)\n",
    "# inga mathi pottathal answer correct ah kidaikathu"
   ]
  },
  {
   "cell_type": "code",
   "execution_count": 5,
   "metadata": {},
   "outputs": [
    {
     "name": "stdout",
     "output_type": "stream",
     "text": [
      "[1, 2, 3, 4, 5, 7]\n"
     ]
    }
   ],
   "source": [
    "arr=[1,4,7,5,3,2]\n",
    "for i in range(3,len(arr)):\n",
    "    curr=arr[i]\n",
    "    j=i-1\n",
    "    \n",
    "    while j>=0 and curr<arr[j]:\n",
    "        arr[j+1]=arr[j]\n",
    "        j-=1\n",
    "        \n",
    "    arr[j+1]=curr\n",
    "    \n",
    "print(arr)"
   ]
  },
  {
   "cell_type": "code",
   "execution_count": null,
   "metadata": {},
   "outputs": [],
   "source": [
    "# MERGE SORT\n",
    "\"\"\"\n",
    "    SORT yenbathu ,oru list of array irukum, athula irukura elements yellam random orderla irukum atha change panni corrct order kodu vary\\uvathu than\n",
    "    sort.\n",
    "    inga MERGE SORT Yeenbathuu antha list of array ah 2 ah split panni, antha renda split annatha split pannikite varanum until last array uday ah size 1 \n",
    "    vara vaikum, ithuku recursion use panrom because inga ore method method ah tha thirum thirum panrom , antha method yenna na split oanrathu.\n",
    "    inga first split pannanum, second split pannatha sort pannanum last a merge pannaum.\n",
    " \n",
    "\"\"\""
   ]
  },
  {
   "cell_type": "code",
   "execution_count": 13,
   "metadata": {},
   "outputs": [
    {
     "name": "stdout",
     "output_type": "stream",
     "text": [
      "Before sort [3, 8, 1, 4, 9, 4, 6, 2, 7]\n",
      "After sort [1, 2, 3, 4, 4, 6, 7, 8, 9]\n"
     ]
    }
   ],
   "source": [
    "# first method create panrom\n",
    "def mergesort(array):\n",
    "    \n",
    "    # next split panrom\n",
    "    if len(array)>1:\n",
    "        # first middle find pannanum ex: 5/2=2.5 inga flot value vachu arry address ah split panna mudiyathu so inga floor div use panrom,ithu decimal ah whole value ah mathum\n",
    "        middle=len(array)//2\n",
    "        left=array[:middle]\n",
    "        right=array[middle:]\n",
    "        # ithu 1 time tha split pannanum.\n",
    "        \n",
    "        # nmaku kadaisi 1 varaikum split pannanum so recursion use pannalam\n",
    "        mergesort(left)\n",
    "        mergesort(right)\n",
    "        \n",
    "        # SORT panna porom\n",
    "        # first poiter set panrom\n",
    "        lp=0\n",
    "        rp=0\n",
    "        fp=0 # inga lp na left pointer same as rp and fp,fp is a final poiter. final ah store aaguta array ku pointer fp\n",
    "        \n",
    "        while (lp<len(left) and rp<len(right)):\n",
    "            # intha while yethukuna, left side oru set of array and right side oru set of array irukum, athoda left and right side pointers(lp,rp)\n",
    "            # use panni compare panikite sort pannuvom, apo yetho oru side set of array full complete aagirum . so athukaga intha condition\n",
    "            \n",
    "            # ipo left and right values compare pannaporom\n",
    "            if left[lp]<right[rp]:\n",
    "                array[fp]=left[lp]\n",
    "                lp+=1\n",
    "                \n",
    "            else:\n",
    "                array[fp]=right[rp]\n",
    "                rp+=1\n",
    "            fp+=1\n",
    "            \n",
    "            # ipo merge panna porom\n",
    "            # ithula yentha array first comple aagum nu thriyathu so left and right rendukume create panikalam\n",
    "            \n",
    "        while lp<len(left):\n",
    "                array[fp]=left[lp]\n",
    "                fp+=1\n",
    "                lp+=1\n",
    "                \n",
    "        while rp<len(right):\n",
    "                array[fp]=right[rp]\n",
    "                fp+=1\n",
    "                rp+=1\n",
    "                \n",
    "        \n",
    "array=[3,8,1,4,9,4,6,2,7]\n",
    "print(\"Before sort\",array)  \n",
    "mergesort(array)\n",
    "print(\"After sort\",array)  "
   ]
  }
 ],
 "metadata": {
  "kernelspec": {
   "display_name": "Python 3",
   "language": "python",
   "name": "python3"
  },
  "language_info": {
   "codemirror_mode": {
    "name": "ipython",
    "version": 3
   },
   "file_extension": ".py",
   "mimetype": "text/x-python",
   "name": "python",
   "nbconvert_exporter": "python",
   "pygments_lexer": "ipython3",
   "version": "3.11.5"
  }
 },
 "nbformat": 4,
 "nbformat_minor": 2
}
