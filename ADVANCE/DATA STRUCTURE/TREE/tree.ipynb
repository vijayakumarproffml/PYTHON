{
 "cells": [
  {
   "cell_type": "code",
   "execution_count": 9,
   "metadata": {},
   "outputs": [],
   "source": [
    "class TreeNode:\n",
    "    # kudukra data va store panrathuku\n",
    "    def __init__(self,data):\n",
    "        self.data=data\n",
    "        self.children=[]\n",
    "        \n",
    "class Tree:\n",
    "    # Root node create panrathuku\n",
    "    def __init__(self):\n",
    "        self.root=None\n",
    "        \n",
    "    # value ah add panratuku\n",
    "    def add(self,data,parentdata=None):\n",
    "        node=TreeNode(data)\n",
    "        # empty root ah irunthal athil store panrathuku\n",
    "        if self.root is None:\n",
    "            self.root=node\n",
    "            return node\n",
    "        \n",
    "        parentnode=self.findNode(parentdata,self.root)\n",
    "        \n",
    "        if not parentnode:\n",
    "            print(\"parentnode not found\")\n",
    "            return\n",
    "        parentnode.children.append(node)\n",
    "        \n",
    "    # vlaue find panrathuku\n",
    "    \n",
    "    def findNode(self,data,node):\n",
    "        if node is None:\n",
    "            return None\n",
    "        # thedura data vum root node dataum same ah irukanu check pannum, athula match aachuna anthanode ku kela return panirum\n",
    "        if node.data==data:\n",
    "            return node\n",
    "        \n",
    "        # oruvela match aagalena\n",
    "        for child in node.children:\n",
    "            # inga loop aagum pothu first la irunthu athavathu root la irunthu check pannum ,rppt tha already check panrathuku code iruku\n",
    "            # if node.data==data:\n",
    "            # return node so ithu recurtion aagama iruka nodefound nu oru variable create panrom\n",
    "            nodefound=self.findNode(data,child)# ithu rootnode ah vitutu childnode ah matum compare pannum inga recursive function nadakum until antha data match aagura varikum\n",
    "            if nodefound is not None:\n",
    "                return nodefound\n",
    "        # thedura value ilena ,2 condition um match aagalena\n",
    "        return None # inga return aagura none nodefound la store aagum athai thavirka \n",
    "    \n",
    "tree=Tree()\n",
    "tree.add(1)\n",
    "tree.add(2,1)\n",
    "tree.add(3,1)\n",
    "\n",
    "\n",
    "            \n",
    "            \n",
    "        \n",
    "            "
   ]
  },
  {
   "cell_type": "code",
   "execution_count": null,
   "metadata": {},
   "outputs": [],
   "source": []
  }
 ],
 "metadata": {
  "kernelspec": {
   "display_name": "Python 3",
   "language": "python",
   "name": "python3"
  },
  "language_info": {
   "codemirror_mode": {
    "name": "ipython",
    "version": 3
   },
   "file_extension": ".py",
   "mimetype": "text/x-python",
   "name": "python",
   "nbconvert_exporter": "python",
   "pygments_lexer": "ipython3",
   "version": "3.11.5"
  }
 },
 "nbformat": 4,
 "nbformat_minor": 2
}
