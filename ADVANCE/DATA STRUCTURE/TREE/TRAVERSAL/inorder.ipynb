{
 "cells": [
  {
   "cell_type": "code",
   "execution_count": 6,
   "metadata": {},
   "outputs": [
    {
     "name": "stdout",
     "output_type": "stream",
     "text": [
      "Inorder traversal of binary tree is\n",
      "4 2 5 1 3 "
     ]
    }
   ],
   "source": [
    "# Python3 program to for tree traversals\n",
    "\n",
    "\n",
    "# A class that represents an individual node in a Binary Tree\n",
    "\n",
    "class Node:\n",
    "\tdef __init__(self, key): # this is especially for root\n",
    "\t\tself.left = None\n",
    "\t\tself.right = None\n",
    "\t\tself.val = key\n",
    "\n",
    "\n",
    "# A function to do inorder tree traversal\n",
    "def printInorder(root): #inga  root object ah represent pannuthu\n",
    "\n",
    "\tif root:\n",
    "\n",
    "\t\t# First recur on (LEFT) child\n",
    "\t\tprintInorder(root.left)\n",
    "\n",
    "\t\t# Then print the data of node (ROOT)\n",
    "\t\tprint(root.val, end=\" \"),\n",
    "\n",
    "\t\t# Now recur on RIGHT child\n",
    "\t\tprintInorder(root.right)\n",
    "\n",
    "\n",
    "# Driver code\n",
    "if __name__ == \"__main__\":# ithu full ah mae constuctor calling than\n",
    "\troot = Node(1)\n",
    "\troot.left = Node(2)\n",
    "\troot.right = Node(3)\n",
    "\troot.left.left = Node(4)\n",
    "\troot.left.right = Node(5)\n",
    "\n",
    "\t# Function call\n",
    "\tprint(\"Inorder traversal of binary tree is\")\n",
    "\tprintInorder(root)"
   ]
  }
 ],
 "metadata": {
  "kernelspec": {
   "display_name": "Python 3",
   "language": "python",
   "name": "python3"
  },
  "language_info": {
   "codemirror_mode": {
    "name": "ipython",
    "version": 3
   },
   "file_extension": ".py",
   "mimetype": "text/x-python",
   "name": "python",
   "nbconvert_exporter": "python",
   "pygments_lexer": "ipython3",
   "version": "3.11.5"
  }
 },
 "nbformat": 4,
 "nbformat_minor": 2
}
