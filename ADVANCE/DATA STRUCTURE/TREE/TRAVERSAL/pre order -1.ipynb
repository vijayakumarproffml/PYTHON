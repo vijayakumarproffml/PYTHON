{
 "cells": [
  {
   "cell_type": "code",
   "execution_count": 3,
   "metadata": {},
   "outputs": [
    {
     "name": "stdout",
     "output_type": "stream",
     "text": [
      "Preorder traversal of binary tree is:\n",
      "1 2 4 5 3 6 "
     ]
    }
   ],
   "source": [
    "# Python program for preorder traversals\n",
    "\n",
    "# Structure of a Binary Tree Node\n",
    "class Node:\n",
    "    def __init__(self, v):\n",
    "        self.data = v\n",
    "        self.left = None\n",
    "        self.right = None\n",
    "\n",
    "# Function to print preorder traversal\n",
    "def printPreorder(node): #inga  node object ah represent pannuthu\n",
    "    if node is None:\n",
    "        return\n",
    "\n",
    "    # Deal with the node\n",
    "    print(node.data, end=' ')\n",
    "\n",
    "    # Recur on left subtree\n",
    "    printPreorder(node.left)\n",
    "\n",
    "    # Recur on right subtree\n",
    "    printPreorder(node.right)\n",
    "\n",
    "\n",
    "# Driver code ithu tha main function,\n",
    "if __name__ == '__main__':\n",
    "    root = Node(1)\n",
    "    root.left = Node(2)\n",
    "    root.right = Node(3)\n",
    "    root.left.left = Node(4)\n",
    "    root.left.right = Node(5)\n",
    "    root.right.right = Node(6)\n",
    "\n",
    "    # Function call\n",
    "    print(\"Preorder traversal of binary tree is:\")\n",
    "    printPreorder(root)"
   ]
  }
 ],
 "metadata": {
  "kernelspec": {
   "display_name": "Python 3",
   "language": "python",
   "name": "python3"
  },
  "language_info": {
   "codemirror_mode": {
    "name": "ipython",
    "version": 3
   },
   "file_extension": ".py",
   "mimetype": "text/x-python",
   "name": "python",
   "nbconvert_exporter": "python",
   "pygments_lexer": "ipython3",
   "version": "3.11.5"
  }
 },
 "nbformat": 4,
 "nbformat_minor": 2
}
